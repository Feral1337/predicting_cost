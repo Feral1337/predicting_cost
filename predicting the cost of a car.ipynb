{
 "cells": [
  {
   "cell_type": "markdown",
   "metadata": {},
   "source": [
    "# Определение стоимости автомобилей"
   ]
  },
  {
   "cell_type": "markdown",
   "metadata": {},
   "source": [
    "Сервис по продаже автомобилей с пробегом «Не бит, не крашен» разрабатывает приложение для привлечения новых клиентов. В нём можно быстро узнать рыночную стоимость своего автомобиля. В вашем распоряжении исторические данные: технические характеристики, комплектации и цены автомобилей. Вам нужно построить модель для определения стоимости. \n",
    "\n",
    "Заказчику важны:\n",
    "\n",
    "- качество предсказания;\n",
    "- скорость предсказания;\n",
    "- время обучения."
   ]
  },
  {
   "cell_type": "markdown",
   "metadata": {},
   "source": [
    "## Подготовка данных"
   ]
  },
  {
   "cell_type": "markdown",
   "metadata": {},
   "source": [
    "**Признаки**  \n",
    "DateCrawled — дата скачивания анкеты из базы  \n",
    "VehicleType — тип автомобильного кузова  \n",
    "RegistrationYear — год регистрации автомобиля  \n",
    "Gearbox — тип коробки передач  \n",
    "Power — мощность (л. с.)  \n",
    "Model — модель автомобиля  \n",
    "Kilometer — пробег (км)  \n",
    "RegistrationMonth — месяц регистрации автомобиля  \n",
    "FuelType — тип топлива  \n",
    "Brand — марка автомобиля  \n",
    "Repaired — была машина в ремонте или нет  \n",
    "DateCreated — дата создания анкеты  \n",
    "NumberOfPictures — количество фотографий автомобиля  \n",
    "PostalCode — почтовый индекс владельца анкеты (пользователя)  \n",
    "LastSeen — дата последней активности пользователя  \n",
    "**Целевой признак**  \n",
    "Price — цена (евро)  "
   ]
  },
  {
   "cell_type": "code",
   "execution_count": 1,
   "metadata": {},
   "outputs": [],
   "source": [
    "import pandas as pd\n",
    "import numpy as np\n",
    "import matplotlib.pyplot as plt\n",
    "from sklearn.metrics import mean_squared_error\n",
    "import seaborn as sns\n",
    "from sklearn.model_selection import train_test_split\n",
    "from catboost import CatBoostRegressor\n",
    "import lightgbm as lgb\n",
    "import warnings\n",
    "from sklearn.linear_model import LinearRegression"
   ]
  },
  {
   "cell_type": "code",
   "execution_count": 2,
   "metadata": {},
   "outputs": [],
   "source": [
    "data = pd.read_csv('/datasets/autos.csv')"
   ]
  },
  {
   "cell_type": "code",
   "execution_count": 3,
   "metadata": {
    "scrolled": true
   },
   "outputs": [
    {
     "name": "stdout",
     "output_type": "stream",
     "text": [
      "<class 'pandas.core.frame.DataFrame'>\n",
      "RangeIndex: 354369 entries, 0 to 354368\n",
      "Data columns (total 16 columns):\n",
      " #   Column             Non-Null Count   Dtype \n",
      "---  ------             --------------   ----- \n",
      " 0   DateCrawled        354369 non-null  object\n",
      " 1   Price              354369 non-null  int64 \n",
      " 2   VehicleType        316879 non-null  object\n",
      " 3   RegistrationYear   354369 non-null  int64 \n",
      " 4   Gearbox            334536 non-null  object\n",
      " 5   Power              354369 non-null  int64 \n",
      " 6   Model              334664 non-null  object\n",
      " 7   Kilometer          354369 non-null  int64 \n",
      " 8   RegistrationMonth  354369 non-null  int64 \n",
      " 9   FuelType           321474 non-null  object\n",
      " 10  Brand              354369 non-null  object\n",
      " 11  Repaired           283215 non-null  object\n",
      " 12  DateCreated        354369 non-null  object\n",
      " 13  NumberOfPictures   354369 non-null  int64 \n",
      " 14  PostalCode         354369 non-null  int64 \n",
      " 15  LastSeen           354369 non-null  object\n",
      "dtypes: int64(7), object(9)\n",
      "memory usage: 43.3+ MB\n"
     ]
    }
   ],
   "source": [
    "data.info()"
   ]
  },
  {
   "cell_type": "code",
   "execution_count": 4,
   "metadata": {},
   "outputs": [
    {
     "data": {
      "text/html": [
       "<div>\n",
       "<style scoped>\n",
       "    .dataframe tbody tr th:only-of-type {\n",
       "        vertical-align: middle;\n",
       "    }\n",
       "\n",
       "    .dataframe tbody tr th {\n",
       "        vertical-align: top;\n",
       "    }\n",
       "\n",
       "    .dataframe thead th {\n",
       "        text-align: right;\n",
       "    }\n",
       "</style>\n",
       "<table border=\"1\" class=\"dataframe\">\n",
       "  <thead>\n",
       "    <tr style=\"text-align: right;\">\n",
       "      <th></th>\n",
       "      <th>Price</th>\n",
       "      <th>RegistrationYear</th>\n",
       "      <th>Power</th>\n",
       "      <th>Kilometer</th>\n",
       "      <th>RegistrationMonth</th>\n",
       "      <th>NumberOfPictures</th>\n",
       "      <th>PostalCode</th>\n",
       "    </tr>\n",
       "  </thead>\n",
       "  <tbody>\n",
       "    <tr>\n",
       "      <th>count</th>\n",
       "      <td>354369.000000</td>\n",
       "      <td>354369.000000</td>\n",
       "      <td>354369.000000</td>\n",
       "      <td>354369.000000</td>\n",
       "      <td>354369.000000</td>\n",
       "      <td>354369.0</td>\n",
       "      <td>354369.000000</td>\n",
       "    </tr>\n",
       "    <tr>\n",
       "      <th>mean</th>\n",
       "      <td>4416.656776</td>\n",
       "      <td>2004.234448</td>\n",
       "      <td>110.094337</td>\n",
       "      <td>128211.172535</td>\n",
       "      <td>5.714645</td>\n",
       "      <td>0.0</td>\n",
       "      <td>50508.689087</td>\n",
       "    </tr>\n",
       "    <tr>\n",
       "      <th>std</th>\n",
       "      <td>4514.158514</td>\n",
       "      <td>90.227958</td>\n",
       "      <td>189.850405</td>\n",
       "      <td>37905.341530</td>\n",
       "      <td>3.726421</td>\n",
       "      <td>0.0</td>\n",
       "      <td>25783.096248</td>\n",
       "    </tr>\n",
       "    <tr>\n",
       "      <th>min</th>\n",
       "      <td>0.000000</td>\n",
       "      <td>1000.000000</td>\n",
       "      <td>0.000000</td>\n",
       "      <td>5000.000000</td>\n",
       "      <td>0.000000</td>\n",
       "      <td>0.0</td>\n",
       "      <td>1067.000000</td>\n",
       "    </tr>\n",
       "    <tr>\n",
       "      <th>25%</th>\n",
       "      <td>1050.000000</td>\n",
       "      <td>1999.000000</td>\n",
       "      <td>69.000000</td>\n",
       "      <td>125000.000000</td>\n",
       "      <td>3.000000</td>\n",
       "      <td>0.0</td>\n",
       "      <td>30165.000000</td>\n",
       "    </tr>\n",
       "    <tr>\n",
       "      <th>50%</th>\n",
       "      <td>2700.000000</td>\n",
       "      <td>2003.000000</td>\n",
       "      <td>105.000000</td>\n",
       "      <td>150000.000000</td>\n",
       "      <td>6.000000</td>\n",
       "      <td>0.0</td>\n",
       "      <td>49413.000000</td>\n",
       "    </tr>\n",
       "    <tr>\n",
       "      <th>75%</th>\n",
       "      <td>6400.000000</td>\n",
       "      <td>2008.000000</td>\n",
       "      <td>143.000000</td>\n",
       "      <td>150000.000000</td>\n",
       "      <td>9.000000</td>\n",
       "      <td>0.0</td>\n",
       "      <td>71083.000000</td>\n",
       "    </tr>\n",
       "    <tr>\n",
       "      <th>max</th>\n",
       "      <td>20000.000000</td>\n",
       "      <td>9999.000000</td>\n",
       "      <td>20000.000000</td>\n",
       "      <td>150000.000000</td>\n",
       "      <td>12.000000</td>\n",
       "      <td>0.0</td>\n",
       "      <td>99998.000000</td>\n",
       "    </tr>\n",
       "  </tbody>\n",
       "</table>\n",
       "</div>"
      ],
      "text/plain": [
       "               Price  RegistrationYear          Power      Kilometer  \\\n",
       "count  354369.000000     354369.000000  354369.000000  354369.000000   \n",
       "mean     4416.656776       2004.234448     110.094337  128211.172535   \n",
       "std      4514.158514         90.227958     189.850405   37905.341530   \n",
       "min         0.000000       1000.000000       0.000000    5000.000000   \n",
       "25%      1050.000000       1999.000000      69.000000  125000.000000   \n",
       "50%      2700.000000       2003.000000     105.000000  150000.000000   \n",
       "75%      6400.000000       2008.000000     143.000000  150000.000000   \n",
       "max     20000.000000       9999.000000   20000.000000  150000.000000   \n",
       "\n",
       "       RegistrationMonth  NumberOfPictures     PostalCode  \n",
       "count      354369.000000          354369.0  354369.000000  \n",
       "mean            5.714645               0.0   50508.689087  \n",
       "std             3.726421               0.0   25783.096248  \n",
       "min             0.000000               0.0    1067.000000  \n",
       "25%             3.000000               0.0   30165.000000  \n",
       "50%             6.000000               0.0   49413.000000  \n",
       "75%             9.000000               0.0   71083.000000  \n",
       "max            12.000000               0.0   99998.000000  "
      ]
     },
     "execution_count": 4,
     "metadata": {},
     "output_type": "execute_result"
    }
   ],
   "source": [
    "data.describe()"
   ]
  },
  {
   "cell_type": "code",
   "execution_count": 5,
   "metadata": {},
   "outputs": [
    {
     "data": {
      "text/html": [
       "<div>\n",
       "<style scoped>\n",
       "    .dataframe tbody tr th:only-of-type {\n",
       "        vertical-align: middle;\n",
       "    }\n",
       "\n",
       "    .dataframe tbody tr th {\n",
       "        vertical-align: top;\n",
       "    }\n",
       "\n",
       "    .dataframe thead th {\n",
       "        text-align: right;\n",
       "    }\n",
       "</style>\n",
       "<table border=\"1\" class=\"dataframe\">\n",
       "  <thead>\n",
       "    <tr style=\"text-align: right;\">\n",
       "      <th></th>\n",
       "      <th>DateCrawled</th>\n",
       "      <th>Price</th>\n",
       "      <th>VehicleType</th>\n",
       "      <th>RegistrationYear</th>\n",
       "      <th>Gearbox</th>\n",
       "      <th>Power</th>\n",
       "      <th>Model</th>\n",
       "      <th>Kilometer</th>\n",
       "      <th>RegistrationMonth</th>\n",
       "      <th>FuelType</th>\n",
       "      <th>Brand</th>\n",
       "      <th>Repaired</th>\n",
       "      <th>DateCreated</th>\n",
       "      <th>NumberOfPictures</th>\n",
       "      <th>PostalCode</th>\n",
       "      <th>LastSeen</th>\n",
       "    </tr>\n",
       "  </thead>\n",
       "  <tbody>\n",
       "    <tr>\n",
       "      <th>0</th>\n",
       "      <td>2016-03-24 11:52:17</td>\n",
       "      <td>480</td>\n",
       "      <td>NaN</td>\n",
       "      <td>1993</td>\n",
       "      <td>manual</td>\n",
       "      <td>0</td>\n",
       "      <td>golf</td>\n",
       "      <td>150000</td>\n",
       "      <td>0</td>\n",
       "      <td>petrol</td>\n",
       "      <td>volkswagen</td>\n",
       "      <td>NaN</td>\n",
       "      <td>2016-03-24 00:00:00</td>\n",
       "      <td>0</td>\n",
       "      <td>70435</td>\n",
       "      <td>2016-04-07 03:16:57</td>\n",
       "    </tr>\n",
       "    <tr>\n",
       "      <th>1</th>\n",
       "      <td>2016-03-24 10:58:45</td>\n",
       "      <td>18300</td>\n",
       "      <td>coupe</td>\n",
       "      <td>2011</td>\n",
       "      <td>manual</td>\n",
       "      <td>190</td>\n",
       "      <td>NaN</td>\n",
       "      <td>125000</td>\n",
       "      <td>5</td>\n",
       "      <td>gasoline</td>\n",
       "      <td>audi</td>\n",
       "      <td>yes</td>\n",
       "      <td>2016-03-24 00:00:00</td>\n",
       "      <td>0</td>\n",
       "      <td>66954</td>\n",
       "      <td>2016-04-07 01:46:50</td>\n",
       "    </tr>\n",
       "    <tr>\n",
       "      <th>2</th>\n",
       "      <td>2016-03-14 12:52:21</td>\n",
       "      <td>9800</td>\n",
       "      <td>suv</td>\n",
       "      <td>2004</td>\n",
       "      <td>auto</td>\n",
       "      <td>163</td>\n",
       "      <td>grand</td>\n",
       "      <td>125000</td>\n",
       "      <td>8</td>\n",
       "      <td>gasoline</td>\n",
       "      <td>jeep</td>\n",
       "      <td>NaN</td>\n",
       "      <td>2016-03-14 00:00:00</td>\n",
       "      <td>0</td>\n",
       "      <td>90480</td>\n",
       "      <td>2016-04-05 12:47:46</td>\n",
       "    </tr>\n",
       "    <tr>\n",
       "      <th>3</th>\n",
       "      <td>2016-03-17 16:54:04</td>\n",
       "      <td>1500</td>\n",
       "      <td>small</td>\n",
       "      <td>2001</td>\n",
       "      <td>manual</td>\n",
       "      <td>75</td>\n",
       "      <td>golf</td>\n",
       "      <td>150000</td>\n",
       "      <td>6</td>\n",
       "      <td>petrol</td>\n",
       "      <td>volkswagen</td>\n",
       "      <td>no</td>\n",
       "      <td>2016-03-17 00:00:00</td>\n",
       "      <td>0</td>\n",
       "      <td>91074</td>\n",
       "      <td>2016-03-17 17:40:17</td>\n",
       "    </tr>\n",
       "    <tr>\n",
       "      <th>4</th>\n",
       "      <td>2016-03-31 17:25:20</td>\n",
       "      <td>3600</td>\n",
       "      <td>small</td>\n",
       "      <td>2008</td>\n",
       "      <td>manual</td>\n",
       "      <td>69</td>\n",
       "      <td>fabia</td>\n",
       "      <td>90000</td>\n",
       "      <td>7</td>\n",
       "      <td>gasoline</td>\n",
       "      <td>skoda</td>\n",
       "      <td>no</td>\n",
       "      <td>2016-03-31 00:00:00</td>\n",
       "      <td>0</td>\n",
       "      <td>60437</td>\n",
       "      <td>2016-04-06 10:17:21</td>\n",
       "    </tr>\n",
       "  </tbody>\n",
       "</table>\n",
       "</div>"
      ],
      "text/plain": [
       "           DateCrawled  Price VehicleType  RegistrationYear Gearbox  Power  \\\n",
       "0  2016-03-24 11:52:17    480         NaN              1993  manual      0   \n",
       "1  2016-03-24 10:58:45  18300       coupe              2011  manual    190   \n",
       "2  2016-03-14 12:52:21   9800         suv              2004    auto    163   \n",
       "3  2016-03-17 16:54:04   1500       small              2001  manual     75   \n",
       "4  2016-03-31 17:25:20   3600       small              2008  manual     69   \n",
       "\n",
       "   Model  Kilometer  RegistrationMonth  FuelType       Brand Repaired  \\\n",
       "0   golf     150000                  0    petrol  volkswagen      NaN   \n",
       "1    NaN     125000                  5  gasoline        audi      yes   \n",
       "2  grand     125000                  8  gasoline        jeep      NaN   \n",
       "3   golf     150000                  6    petrol  volkswagen       no   \n",
       "4  fabia      90000                  7  gasoline       skoda       no   \n",
       "\n",
       "           DateCreated  NumberOfPictures  PostalCode             LastSeen  \n",
       "0  2016-03-24 00:00:00                 0       70435  2016-04-07 03:16:57  \n",
       "1  2016-03-24 00:00:00                 0       66954  2016-04-07 01:46:50  \n",
       "2  2016-03-14 00:00:00                 0       90480  2016-04-05 12:47:46  \n",
       "3  2016-03-17 00:00:00                 0       91074  2016-03-17 17:40:17  \n",
       "4  2016-03-31 00:00:00                 0       60437  2016-04-06 10:17:21  "
      ]
     },
     "execution_count": 5,
     "metadata": {},
     "output_type": "execute_result"
    }
   ],
   "source": [
    "data.head()"
   ]
  },
  {
   "cell_type": "markdown",
   "metadata": {},
   "source": [
    "Признаки, которые влияют на цену авто: VehicleType, RegistrationYear, Gearbox, Power,  Model, Kilometer, FuelType, Brand, Repaired.  \n",
    "\n",
    "Признаки 'DateCrawled','RegistrationMonth','DateCreated', 'NumberOfPictures', 'PostalCode','LastSeen' не влияют на цену авто.\n",
    "По многим важным параметрам есть пропуски и нулевые значения заполним их или удалим.\n",
    "Аномальные значения параметров удалим.\n",
    "В целом у нас 6 категориальных и 3 числовых признака."
   ]
  },
  {
   "cell_type": "markdown",
   "metadata": {},
   "source": [
    "Удалим не нужные для модели столбцы"
   ]
  },
  {
   "cell_type": "code",
   "execution_count": 6,
   "metadata": {},
   "outputs": [],
   "source": [
    "droplist = ['DateCrawled','RegistrationMonth','DateCreated', 'NumberOfPictures', 'PostalCode','LastSeen']"
   ]
  },
  {
   "cell_type": "code",
   "execution_count": 7,
   "metadata": {},
   "outputs": [],
   "source": [
    "data_clear = data.drop(droplist,axis=1)"
   ]
  },
  {
   "cell_type": "code",
   "execution_count": 8,
   "metadata": {},
   "outputs": [
    {
     "name": "stdout",
     "output_type": "stream",
     "text": [
      "<class 'pandas.core.frame.DataFrame'>\n",
      "RangeIndex: 354369 entries, 0 to 354368\n",
      "Data columns (total 10 columns):\n",
      " #   Column            Non-Null Count   Dtype \n",
      "---  ------            --------------   ----- \n",
      " 0   Price             354369 non-null  int64 \n",
      " 1   VehicleType       316879 non-null  object\n",
      " 2   RegistrationYear  354369 non-null  int64 \n",
      " 3   Gearbox           334536 non-null  object\n",
      " 4   Power             354369 non-null  int64 \n",
      " 5   Model             334664 non-null  object\n",
      " 6   Kilometer         354369 non-null  int64 \n",
      " 7   FuelType          321474 non-null  object\n",
      " 8   Brand             354369 non-null  object\n",
      " 9   Repaired          283215 non-null  object\n",
      "dtypes: int64(4), object(6)\n",
      "memory usage: 27.0+ MB\n"
     ]
    }
   ],
   "source": [
    "data_clear.info()"
   ]
  },
  {
   "cell_type": "markdown",
   "metadata": {},
   "source": [
    "Посмотрим на графики по столбцам"
   ]
  },
  {
   "cell_type": "code",
   "execution_count": 9,
   "metadata": {},
   "outputs": [
    {
     "data": {
      "image/png": "[encoded data removed]",
      "text/plain": [
       "<Figure size 432x288 with 1 Axes>"
      ]
     },
     "metadata": {
      "needs_background": "light"
     },
     "output_type": "display_data"
    },
    {
     "data": {
      "image/png": "[encoded data removed]",
      "text/plain": [
       "<Figure size 432x288 with 1 Axes>"
      ]
     },
     "metadata": {
      "needs_background": "light"
     },
     "output_type": "display_data"
    },
    {
     "data": {
      "image/png": "[encoded data removed]",
      "text/plain": [
       "<Figure size 432x288 with 1 Axes>"
      ]
     },
     "metadata": {
      "needs_background": "light"
     },
     "output_type": "display_data"
    },
    {
     "data": {
      "image/png": "[encoded data removed]",
      "text/plain": [
       "<Figure size 432x288 with 1 Axes>"
      ]
     },
     "metadata": {
      "needs_background": "light"
     },
     "output_type": "display_data"
    },
    {
     "data": {
      "image/png": "[encoded data removed]",
      "text/plain": [
       "<Figure size 432x288 with 1 Axes>"
      ]
     },
     "metadata": {
      "needs_background": "light"
     },
     "output_type": "display_data"
    },
    {
     "data": {
      "image/png": "[encoded data removed]",
      "text/plain": [
       "<Figure size 432x288 with 1 Axes>"
      ]
     },
     "metadata": {
      "needs_background": "light"
     },
     "output_type": "display_data"
    },
    {
     "data": {
      "image/png": "[encoded data removed]",
      "text/plain": [
       "<Figure size 432x288 with 1 Axes>"
      ]
     },
     "metadata": {
      "needs_background": "light"
     },
     "output_type": "display_data"
    },
    {
     "data": {
      "image/png": "[encoded data removed]",
      "text/plain": [
       "<Figure size 432x288 with 1 Axes>"
      ]
     },
     "metadata": {
      "needs_background": "light"
     },
     "output_type": "display_data"
    },
    {
     "data": {
      "image/png": "[encoded data removed]",
      "text/plain": [
       "<Figure size 432x288 with 1 Axes>"
      ]
     },
     "metadata": {
      "needs_background": "light"
     },
     "output_type": "display_data"
    },
    {
     "data": {
      "image/png": "[encoded data removed]",
      "text/plain": [
       "<Figure size 432x288 with 1 Axes>"
      ]
     },
     "metadata": {
      "needs_background": "light"
     },
     "output_type": "display_data"
    }
   ],
   "source": [
    "datahist = data_clear.dropna()\n",
    "for column in datahist.columns:\n",
    "    plt.figure()\n",
    "    sns.histplot(datahist[column])\n",
    "    plt.title(column)\n",
    "\n",
    "plt.show()"
   ]
  },
  {
   "cell_type": "markdown",
   "metadata": {},
   "source": [
    "Есть нулевые значения и выбросы. "
   ]
  },
  {
   "cell_type": "code",
   "execution_count": 10,
   "metadata": {},
   "outputs": [
    {
     "data": {
      "text/plain": [
       "Price                   0\n",
       "VehicleType         37490\n",
       "RegistrationYear        0\n",
       "Gearbox             19833\n",
       "Power                   0\n",
       "Model               19705\n",
       "Kilometer               0\n",
       "FuelType            32895\n",
       "Brand                   0\n",
       "Repaired            71154\n",
       "dtype: int64"
      ]
     },
     "execution_count": 10,
     "metadata": {},
     "output_type": "execute_result"
    }
   ],
   "source": [
    "data_clear.isna().sum()"
   ]
  },
  {
   "cell_type": "code",
   "execution_count": 11,
   "metadata": {},
   "outputs": [
    {
     "data": {
      "text/plain": [
       "<AxesSubplot:>"
      ]
     },
     "execution_count": 11,
     "metadata": {},
     "output_type": "execute_result"
    },
    {
     "data": {
      "image/png": "[encoded data removed]",
      "text/plain": [
       "<Figure size 432x288 with 1 Axes>"
      ]
     },
     "metadata": {
      "needs_background": "light"
     },
     "output_type": "display_data"
    }
   ],
   "source": [
    "data_clear['Price'].hist(bins=25)"
   ]
  },
  {
   "cell_type": "code",
   "execution_count": 12,
   "metadata": {},
   "outputs": [
    {
     "data": {
      "text/plain": [
       "<AxesSubplot:>"
      ]
     },
     "execution_count": 12,
     "metadata": {},
     "output_type": "execute_result"
    },
    {
     "data": {
      "image/png": "[encoded data removed]",
      "text/plain": [
       "<Figure size 576x720 with 1 Axes>"
      ]
     },
     "metadata": {
      "needs_background": "light"
     },
     "output_type": "display_data"
    }
   ],
   "source": [
    "data_clear.boxplot('Price', figsize=(8,10))"
   ]
  },
  {
   "cell_type": "code",
   "execution_count": 13,
   "metadata": {},
   "outputs": [
    {
     "data": {
      "text/plain": [
       "12267"
      ]
     },
     "execution_count": 13,
     "metadata": {},
     "output_type": "execute_result"
    }
   ],
   "source": [
    "sum(data_clear['Price'] < 30)"
   ]
  },
  {
   "cell_type": "code",
   "execution_count": 14,
   "metadata": {},
   "outputs": [],
   "source": [
    "dataprice = data_clear[data_clear['Price'] < 1000]"
   ]
  },
  {
   "cell_type": "markdown",
   "metadata": {},
   "source": [
    "Много объявлений около 0"
   ]
  },
  {
   "cell_type": "code",
   "execution_count": 15,
   "metadata": {},
   "outputs": [
    {
     "data": {
      "text/plain": [
       "<AxesSubplot:>"
      ]
     },
     "execution_count": 15,
     "metadata": {},
     "output_type": "execute_result"
    },
    {
     "data": {
      "image/png": "[encoded data removed]",
      "text/plain": [
       "<Figure size 720x720 with 1 Axes>"
      ]
     },
     "metadata": {
      "needs_background": "light"
     },
     "output_type": "display_data"
    }
   ],
   "source": [
    "dataprice['Price'].hist(bins=50, figsize=(10,10))"
   ]
  },
  {
   "cell_type": "code",
   "execution_count": 16,
   "metadata": {},
   "outputs": [],
   "source": [
    "data_clear = data_clear.loc[data_clear['Price'] > 199]"
   ]
  },
  {
   "cell_type": "code",
   "execution_count": 17,
   "metadata": {},
   "outputs": [
    {
     "name": "stdout",
     "output_type": "stream",
     "text": [
      "<class 'pandas.core.frame.DataFrame'>\n",
      "Int64Index: 336907 entries, 0 to 354368\n",
      "Data columns (total 10 columns):\n",
      " #   Column            Non-Null Count   Dtype \n",
      "---  ------            --------------   ----- \n",
      " 0   Price             336907 non-null  int64 \n",
      " 1   VehicleType       305527 non-null  object\n",
      " 2   RegistrationYear  336907 non-null  int64 \n",
      " 3   Gearbox           321352 non-null  object\n",
      " 4   Power             336907 non-null  int64 \n",
      " 5   Model             320333 non-null  object\n",
      " 6   Kilometer         336907 non-null  int64 \n",
      " 7   FuelType          309693 non-null  object\n",
      " 8   Brand             336907 non-null  object\n",
      " 9   Repaired          274462 non-null  object\n",
      "dtypes: int64(4), object(6)\n",
      "memory usage: 28.3+ MB\n"
     ]
    }
   ],
   "source": [
    "data_clear.info()"
   ]
  },
  {
   "cell_type": "markdown",
   "metadata": {},
   "source": [
    "Посмотрим на распределение значений в Repaired"
   ]
  },
  {
   "cell_type": "code",
   "execution_count": 18,
   "metadata": {},
   "outputs": [],
   "source": [
    "data_clear['Repaired'].fillna('bet', inplace=True)"
   ]
  },
  {
   "cell_type": "code",
   "execution_count": 19,
   "metadata": {},
   "outputs": [],
   "source": [
    "dataRep = data_clear.loc[data_clear['Repaired'] == 'yes']\n",
    "datalive = data_clear.loc[data_clear['Repaired'] == 'no']\n",
    "dataRepNan = data_clear.loc[data_clear['Repaired'] == 'bet']"
   ]
  },
  {
   "cell_type": "code",
   "execution_count": 20,
   "metadata": {
    "scrolled": true
   },
   "outputs": [
    {
     "data": {
      "image/png": "[encoded data removed]",
      "text/plain": [
       "<Figure size 1080x648 with 1 Axes>"
      ]
     },
     "metadata": {
      "needs_background": "light"
     },
     "output_type": "display_data"
    }
   ],
   "source": [
    "plt.figure(figsize=(15,9))\n",
    "datalive['Price'].hist(bins=50, label='No', alpha= 0.2)\n",
    "dataRepNan['Price'].hist(bins=50, label='Nan', alpha= 0.7)\n",
    "dataRep['Price'].hist(bins=50, label='Yes', alpha= 1)\n",
    "plt.title('Repaired')\n",
    "plt.legend()\n",
    "plt.show()"
   ]
  },
  {
   "cell_type": "code",
   "execution_count": 21,
   "metadata": {},
   "outputs": [
    {
     "name": "stdout",
     "output_type": "stream",
     "text": [
      "<class 'pandas.core.frame.DataFrame'>\n",
      "Int64Index: 62445 entries, 0 to 354368\n",
      "Data columns (total 10 columns):\n",
      " #   Column            Non-Null Count  Dtype \n",
      "---  ------            --------------  ----- \n",
      " 0   Price             62445 non-null  int64 \n",
      " 1   VehicleType       46207 non-null  object\n",
      " 2   RegistrationYear  62445 non-null  int64 \n",
      " 3   Gearbox           53346 non-null  object\n",
      " 4   Power             62445 non-null  int64 \n",
      " 5   Model             55519 non-null  object\n",
      " 6   Kilometer         62445 non-null  int64 \n",
      " 7   FuelType          49835 non-null  object\n",
      " 8   Brand             62445 non-null  object\n",
      " 9   Repaired          62445 non-null  object\n",
      "dtypes: int64(4), object(6)\n",
      "memory usage: 5.2+ MB\n"
     ]
    }
   ],
   "source": [
    "dataRepNan.info()"
   ]
  },
  {
   "cell_type": "code",
   "execution_count": 22,
   "metadata": {
    "scrolled": true
   },
   "outputs": [
    {
     "data": {
      "image/png": "[encoded data removed]",
      "text/plain": [
       "<Figure size 432x288 with 1 Axes>"
      ]
     },
     "metadata": {
      "needs_background": "light"
     },
     "output_type": "display_data"
    },
    {
     "data": {
      "image/png": "[encoded data removed]",
      "text/plain": [
       "<Figure size 432x288 with 1 Axes>"
      ]
     },
     "metadata": {
      "needs_background": "light"
     },
     "output_type": "display_data"
    },
    {
     "data": {
      "image/png": "[encoded data removed]",
      "text/plain": [
       "<Figure size 432x288 with 1 Axes>"
      ]
     },
     "metadata": {
      "needs_background": "light"
     },
     "output_type": "display_data"
    },
    {
     "data": {
      "image/png": "[encoded data removed]",
      "text/plain": [
       "<Figure size 432x288 with 1 Axes>"
      ]
     },
     "metadata": {
      "needs_background": "light"
     },
     "output_type": "display_data"
    },
    {
     "data": {
      "image/png": "[encoded data removed]",
      "text/plain": [
       "<Figure size 432x288 with 1 Axes>"
      ]
     },
     "metadata": {
      "needs_background": "light"
     },
     "output_type": "display_data"
    },
    {
     "data": {
      "image/png": "[encoded data removed]",
      "text/plain": [
       "<Figure size 432x288 with 1 Axes>"
      ]
     },
     "metadata": {
      "needs_background": "light"
     },
     "output_type": "display_data"
    },
    {
     "data": {
      "image/png": "[encoded data removed]",
      "text/plain": [
       "<Figure size 432x288 with 1 Axes>"
      ]
     },
     "metadata": {
      "needs_background": "light"
     },
     "output_type": "display_data"
    },
    {
     "data": {
      "image/png": "[encoded data removed]",
      "text/plain": [
       "<Figure size 432x288 with 1 Axes>"
      ]
     },
     "metadata": {
      "needs_background": "light"
     },
     "output_type": "display_data"
    },
    {
     "data": {
      "image/png": "[encoded data removed]",
      "text/plain": [
       "<Figure size 432x288 with 1 Axes>"
      ]
     },
     "metadata": {
      "needs_background": "light"
     },
     "output_type": "display_data"
    },
    {
     "data": {
      "image/png": "[encoded data removed]",
      "text/plain": [
       "<Figure size 432x288 with 1 Axes>"
      ]
     },
     "metadata": {
      "needs_background": "light"
     },
     "output_type": "display_data"
    }
   ],
   "source": [
    "databet = dataRepNan.dropna()\n",
    "for column in databet.columns:\n",
    "    plt.figure()\n",
    "    sns.histplot(databet[column])\n",
    "    plt.title(column)\n",
    "\n",
    "plt.show()"
   ]
  },
  {
   "cell_type": "markdown",
   "metadata": {},
   "source": [
    "В основном объявления с пробегом около 140 тыс.\n",
    "Думаю мы заменим пропуски в 'Repaired' на yes, так как это не сильно повлияет на распределение. Хотелось бы больше информации, не знаем, что за ремонт и связан ли он как то с дтп. "
   ]
  },
  {
   "cell_type": "code",
   "execution_count": 23,
   "metadata": {},
   "outputs": [],
   "source": [
    "data_clear['Repaired'].replace('bet', 'yes', inplace=True)"
   ]
  },
  {
   "cell_type": "code",
   "execution_count": 24,
   "metadata": {},
   "outputs": [],
   "source": [
    "data_clear['Gearbox'].fillna('other', inplace=True)"
   ]
  },
  {
   "cell_type": "code",
   "execution_count": 25,
   "metadata": {},
   "outputs": [],
   "source": [
    "datagear = data_clear[data_clear['Gearbox'] == 'other']"
   ]
  },
  {
   "cell_type": "code",
   "execution_count": 26,
   "metadata": {},
   "outputs": [
    {
     "data": {
      "image/png": "[encoded data removed]",
      "text/plain": [
       "<Figure size 432x288 with 1 Axes>"
      ]
     },
     "metadata": {
      "needs_background": "light"
     },
     "output_type": "display_data"
    },
    {
     "data": {
      "image/png": "[encoded data removed]",
      "text/plain": [
       "<Figure size 432x288 with 1 Axes>"
      ]
     },
     "metadata": {
      "needs_background": "light"
     },
     "output_type": "display_data"
    },
    {
     "data": {
      "image/png": "[encoded data removed]",
      "text/plain": [
       "<Figure size 432x288 with 1 Axes>"
      ]
     },
     "metadata": {
      "needs_background": "light"
     },
     "output_type": "display_data"
    },
    {
     "data": {
      "image/png": "[encoded data removed]",
      "text/plain": [
       "<Figure size 432x288 with 1 Axes>"
      ]
     },
     "metadata": {
      "needs_background": "light"
     },
     "output_type": "display_data"
    },
    {
     "data": {
      "image/png": "[encoded data removed]",
      "text/plain": [
       "<Figure size 432x288 with 1 Axes>"
      ]
     },
     "metadata": {
      "needs_background": "light"
     },
     "output_type": "display_data"
    },
    {
     "data": {
      "image/png": "[encoded data removed]",
      "text/plain": [
       "<Figure size 432x288 with 1 Axes>"
      ]
     },
     "metadata": {
      "needs_background": "light"
     },
     "output_type": "display_data"
    },
    {
     "data": {
      "image/png": "[encoded data removed]",
      "text/plain": [
       "<Figure size 432x288 with 1 Axes>"
      ]
     },
     "metadata": {
      "needs_background": "light"
     },
     "output_type": "display_data"
    },
    {
     "data": {
      "image/png": "[encoded data removed]",
      "text/plain": [
       "<Figure size 432x288 with 1 Axes>"
      ]
     },
     "metadata": {
      "needs_background": "light"
     },
     "output_type": "display_data"
    },
    {
     "data": {
      "image/png": "[encoded data removed]",
      "text/plain": [
       "<Figure size 432x288 with 1 Axes>"
      ]
     },
     "metadata": {
      "needs_background": "light"
     },
     "output_type": "display_data"
    },
    {
     "data": {
      "image/png": "[encoded data removed]",
      "text/plain": [
       "<Figure size 432x288 with 1 Axes>"
      ]
     },
     "metadata": {
      "needs_background": "light"
     },
     "output_type": "display_data"
    }
   ],
   "source": [
    "datagear = datagear.dropna()\n",
    "for column in datagear.columns:\n",
    "    plt.figure()\n",
    "    sns.histplot(datagear[column])\n",
    "    plt.title(column)\n",
    "\n",
    "plt.show()"
   ]
  },
  {
   "cell_type": "markdown",
   "metadata": {},
   "source": [
    "Power больше 400 определим как выбросы и удалим."
   ]
  },
  {
   "cell_type": "markdown",
   "metadata": {},
   "source": [
    "datagear = datagear.drop(datagear.loc[datagear['Power'] > 400].index)"
   ]
  },
  {
   "cell_type": "code",
   "execution_count": 27,
   "metadata": {
    "scrolled": true
   },
   "outputs": [
    {
     "data": {
      "text/plain": [
       "<AxesSubplot:>"
      ]
     },
     "execution_count": 27,
     "metadata": {},
     "output_type": "execute_result"
    },
    {
     "data": {
      "image/png": "[encoded data removed]",
      "text/plain": [
       "<Figure size 432x288 with 1 Axes>"
      ]
     },
     "metadata": {
      "needs_background": "light"
     },
     "output_type": "display_data"
    }
   ],
   "source": [
    "datagear['Power'].hist(bins = 60)\n"
   ]
  },
  {
   "cell_type": "code",
   "execution_count": 28,
   "metadata": {
    "scrolled": false
   },
   "outputs": [
    {
     "data": {
      "text/plain": [
       "array([   0,   41,  115,   75,  299,   61,  150,  140,   90,   50,   82,\n",
       "         45,  306,  141,   60,  101,    7,  110,  163,  102,  325,   80,\n",
       "        136,  144,   54,  184,  107,   58,   71,  131,  170,  105,   73,\n",
       "        109,   70,  190,  204,  179,   95,  120,  143,  125,  224,   39,\n",
       "        231,  185,   57,  192,   59,  116,  103,   84,  111,  197,  148,\n",
       "         85,  124,   44,  213,   55,  193,  218,   83,  145,  320,  232,\n",
       "        208,   86,   23,  100,  165,   99,  174,  333,  135,  149,   69,\n",
       "         26,   40,  122,   68,  220,   30,  134,   65,  286,   72,  237,\n",
       "        200,  155,  156,   64,   88,  114,   92,  805,  126,  272,  118,\n",
       "        211,   62,   97,  245,  160,  157,  210,  119,   21,  199,   52,\n",
       "        130,   76,   11,   33,  250,   34,  108,  113,   77,  343,   98,\n",
       "        177,   25,  129,  180,  159,   29,  106,   74,   66,  147,   81,\n",
       "         15,   63,  227,   79,   56,   53,  280,  146,  198,  151,  164,\n",
       "        186,   43,  173,  128,  175,  354,  273,   87,   27,   67,  139,\n",
       "       1082,  225,  188,  230,  235,  121,  239, 1598,  252,  127,  158,\n",
       "         48,  500,  487,  236,  367,  166,   78,    1,   42, 1988,  241,\n",
       "        194,   94,  279,  203,   18,  132,  191,   91,  154,  287,  187,\n",
       "        285,  256,  274])"
      ]
     },
     "execution_count": 28,
     "metadata": {},
     "output_type": "execute_result"
    }
   ],
   "source": [
    "datagear['Power'].unique()"
   ]
  },
  {
   "cell_type": "markdown",
   "metadata": {},
   "source": [
    "пропуски в Gearbox заменим на manual. Power=0 уберем как аномалию"
   ]
  },
  {
   "cell_type": "code",
   "execution_count": 29,
   "metadata": {},
   "outputs": [],
   "source": [
    "data_clear['Gearbox'].replace('other', 'manual', inplace=True)"
   ]
  },
  {
   "cell_type": "code",
   "execution_count": 30,
   "metadata": {},
   "outputs": [
    {
     "data": {
      "text/plain": [
       "219584    20000\n",
       "299180    19312\n",
       "114106    19211\n",
       "132485    19208\n",
       "63986     17932\n",
       "196532    17700\n",
       "150676    17410\n",
       "187330    17019\n",
       "175422    17011\n",
       "216993    16312\n",
       "311399    16311\n",
       "181311    16051\n",
       "248569    16011\n",
       "205808    15033\n",
       "148466    15020\n",
       "260799    15017\n",
       "162214    15001\n",
       "270948    14009\n",
       "227634    13636\n",
       "214169    13616\n",
       "Name: Power, dtype: int64"
      ]
     },
     "execution_count": 30,
     "metadata": {},
     "output_type": "execute_result"
    }
   ],
   "source": [
    "data_clear['Power'].sort_values(ascending=False).head(20)"
   ]
  },
  {
   "cell_type": "code",
   "execution_count": 31,
   "metadata": {},
   "outputs": [],
   "source": [
    "data_clear = data_clear.drop(data_clear.loc[data_clear['Power'] < 1].index)"
   ]
  },
  {
   "cell_type": "code",
   "execution_count": 32,
   "metadata": {},
   "outputs": [],
   "source": [
    "data_clear = data_clear.drop(data_clear.loc[data_clear['Power'] > 350].index)"
   ]
  },
  {
   "cell_type": "code",
   "execution_count": 33,
   "metadata": {},
   "outputs": [
    {
     "data": {
      "text/html": [
       "<div>\n",
       "<style scoped>\n",
       "    .dataframe tbody tr th:only-of-type {\n",
       "        vertical-align: middle;\n",
       "    }\n",
       "\n",
       "    .dataframe tbody tr th {\n",
       "        vertical-align: top;\n",
       "    }\n",
       "\n",
       "    .dataframe thead th {\n",
       "        text-align: right;\n",
       "    }\n",
       "</style>\n",
       "<table border=\"1\" class=\"dataframe\">\n",
       "  <thead>\n",
       "    <tr style=\"text-align: right;\">\n",
       "      <th></th>\n",
       "      <th>Price</th>\n",
       "      <th>VehicleType</th>\n",
       "      <th>RegistrationYear</th>\n",
       "      <th>Gearbox</th>\n",
       "      <th>Power</th>\n",
       "      <th>Model</th>\n",
       "      <th>Kilometer</th>\n",
       "      <th>FuelType</th>\n",
       "      <th>Brand</th>\n",
       "      <th>Repaired</th>\n",
       "    </tr>\n",
       "  </thead>\n",
       "  <tbody>\n",
       "    <tr>\n",
       "      <th>1</th>\n",
       "      <td>18300</td>\n",
       "      <td>coupe</td>\n",
       "      <td>2011</td>\n",
       "      <td>manual</td>\n",
       "      <td>190</td>\n",
       "      <td>NaN</td>\n",
       "      <td>125000</td>\n",
       "      <td>gasoline</td>\n",
       "      <td>audi</td>\n",
       "      <td>yes</td>\n",
       "    </tr>\n",
       "    <tr>\n",
       "      <th>2</th>\n",
       "      <td>9800</td>\n",
       "      <td>suv</td>\n",
       "      <td>2004</td>\n",
       "      <td>auto</td>\n",
       "      <td>163</td>\n",
       "      <td>grand</td>\n",
       "      <td>125000</td>\n",
       "      <td>gasoline</td>\n",
       "      <td>jeep</td>\n",
       "      <td>yes</td>\n",
       "    </tr>\n",
       "    <tr>\n",
       "      <th>3</th>\n",
       "      <td>1500</td>\n",
       "      <td>small</td>\n",
       "      <td>2001</td>\n",
       "      <td>manual</td>\n",
       "      <td>75</td>\n",
       "      <td>golf</td>\n",
       "      <td>150000</td>\n",
       "      <td>petrol</td>\n",
       "      <td>volkswagen</td>\n",
       "      <td>no</td>\n",
       "    </tr>\n",
       "    <tr>\n",
       "      <th>4</th>\n",
       "      <td>3600</td>\n",
       "      <td>small</td>\n",
       "      <td>2008</td>\n",
       "      <td>manual</td>\n",
       "      <td>69</td>\n",
       "      <td>fabia</td>\n",
       "      <td>90000</td>\n",
       "      <td>gasoline</td>\n",
       "      <td>skoda</td>\n",
       "      <td>no</td>\n",
       "    </tr>\n",
       "    <tr>\n",
       "      <th>5</th>\n",
       "      <td>650</td>\n",
       "      <td>sedan</td>\n",
       "      <td>1995</td>\n",
       "      <td>manual</td>\n",
       "      <td>102</td>\n",
       "      <td>3er</td>\n",
       "      <td>150000</td>\n",
       "      <td>petrol</td>\n",
       "      <td>bmw</td>\n",
       "      <td>yes</td>\n",
       "    </tr>\n",
       "    <tr>\n",
       "      <th>...</th>\n",
       "      <td>...</td>\n",
       "      <td>...</td>\n",
       "      <td>...</td>\n",
       "      <td>...</td>\n",
       "      <td>...</td>\n",
       "      <td>...</td>\n",
       "      <td>...</td>\n",
       "      <td>...</td>\n",
       "      <td>...</td>\n",
       "      <td>...</td>\n",
       "    </tr>\n",
       "    <tr>\n",
       "      <th>354361</th>\n",
       "      <td>5250</td>\n",
       "      <td>NaN</td>\n",
       "      <td>2016</td>\n",
       "      <td>auto</td>\n",
       "      <td>150</td>\n",
       "      <td>159</td>\n",
       "      <td>150000</td>\n",
       "      <td>NaN</td>\n",
       "      <td>alfa_romeo</td>\n",
       "      <td>no</td>\n",
       "    </tr>\n",
       "    <tr>\n",
       "      <th>354362</th>\n",
       "      <td>3200</td>\n",
       "      <td>sedan</td>\n",
       "      <td>2004</td>\n",
       "      <td>manual</td>\n",
       "      <td>225</td>\n",
       "      <td>leon</td>\n",
       "      <td>150000</td>\n",
       "      <td>petrol</td>\n",
       "      <td>seat</td>\n",
       "      <td>yes</td>\n",
       "    </tr>\n",
       "    <tr>\n",
       "      <th>354366</th>\n",
       "      <td>1199</td>\n",
       "      <td>convertible</td>\n",
       "      <td>2000</td>\n",
       "      <td>auto</td>\n",
       "      <td>101</td>\n",
       "      <td>fortwo</td>\n",
       "      <td>125000</td>\n",
       "      <td>petrol</td>\n",
       "      <td>smart</td>\n",
       "      <td>no</td>\n",
       "    </tr>\n",
       "    <tr>\n",
       "      <th>354367</th>\n",
       "      <td>9200</td>\n",
       "      <td>bus</td>\n",
       "      <td>1996</td>\n",
       "      <td>manual</td>\n",
       "      <td>102</td>\n",
       "      <td>transporter</td>\n",
       "      <td>150000</td>\n",
       "      <td>gasoline</td>\n",
       "      <td>volkswagen</td>\n",
       "      <td>no</td>\n",
       "    </tr>\n",
       "    <tr>\n",
       "      <th>354368</th>\n",
       "      <td>3400</td>\n",
       "      <td>wagon</td>\n",
       "      <td>2002</td>\n",
       "      <td>manual</td>\n",
       "      <td>100</td>\n",
       "      <td>golf</td>\n",
       "      <td>150000</td>\n",
       "      <td>gasoline</td>\n",
       "      <td>volkswagen</td>\n",
       "      <td>yes</td>\n",
       "    </tr>\n",
       "  </tbody>\n",
       "</table>\n",
       "<p>302138 rows × 10 columns</p>\n",
       "</div>"
      ],
      "text/plain": [
       "        Price  VehicleType  RegistrationYear Gearbox  Power        Model  \\\n",
       "1       18300        coupe              2011  manual    190          NaN   \n",
       "2        9800          suv              2004    auto    163        grand   \n",
       "3        1500        small              2001  manual     75         golf   \n",
       "4        3600        small              2008  manual     69        fabia   \n",
       "5         650        sedan              1995  manual    102          3er   \n",
       "...       ...          ...               ...     ...    ...          ...   \n",
       "354361   5250          NaN              2016    auto    150          159   \n",
       "354362   3200        sedan              2004  manual    225         leon   \n",
       "354366   1199  convertible              2000    auto    101       fortwo   \n",
       "354367   9200          bus              1996  manual    102  transporter   \n",
       "354368   3400        wagon              2002  manual    100         golf   \n",
       "\n",
       "        Kilometer  FuelType       Brand Repaired  \n",
       "1          125000  gasoline        audi      yes  \n",
       "2          125000  gasoline        jeep      yes  \n",
       "3          150000    petrol  volkswagen       no  \n",
       "4           90000  gasoline       skoda       no  \n",
       "5          150000    petrol         bmw      yes  \n",
       "...           ...       ...         ...      ...  \n",
       "354361     150000       NaN  alfa_romeo       no  \n",
       "354362     150000    petrol        seat      yes  \n",
       "354366     125000    petrol       smart       no  \n",
       "354367     150000  gasoline  volkswagen       no  \n",
       "354368     150000  gasoline  volkswagen      yes  \n",
       "\n",
       "[302138 rows x 10 columns]"
      ]
     },
     "execution_count": 33,
     "metadata": {},
     "output_type": "execute_result"
    }
   ],
   "source": [
    "data_clear"
   ]
  },
  {
   "cell_type": "code",
   "execution_count": 34,
   "metadata": {},
   "outputs": [
    {
     "data": {
      "text/plain": [
       "<AxesSubplot:>"
      ]
     },
     "execution_count": 34,
     "metadata": {},
     "output_type": "execute_result"
    },
    {
     "data": {
      "image/png": "[encoded data removed]",
      "text/plain": [
       "<Figure size 432x288 with 1 Axes>"
      ]
     },
     "metadata": {
      "needs_background": "light"
     },
     "output_type": "display_data"
    }
   ],
   "source": [
    "data_clear['Power'].hist(bins=20)"
   ]
  },
  {
   "cell_type": "code",
   "execution_count": 35,
   "metadata": {},
   "outputs": [
    {
     "name": "stdout",
     "output_type": "stream",
     "text": [
      "<class 'pandas.core.frame.DataFrame'>\n",
      "Int64Index: 302138 entries, 1 to 354368\n",
      "Data columns (total 10 columns):\n",
      " #   Column            Non-Null Count   Dtype \n",
      "---  ------            --------------   ----- \n",
      " 0   Price             302138 non-null  int64 \n",
      " 1   VehicleType       281622 non-null  object\n",
      " 2   RegistrationYear  302138 non-null  int64 \n",
      " 3   Gearbox           302138 non-null  object\n",
      " 4   Power             302138 non-null  int64 \n",
      " 5   Model             290123 non-null  object\n",
      " 6   Kilometer         302138 non-null  int64 \n",
      " 7   FuelType          283236 non-null  object\n",
      " 8   Brand             302138 non-null  object\n",
      " 9   Repaired          302138 non-null  object\n",
      "dtypes: int64(4), object(6)\n",
      "memory usage: 25.4+ MB\n"
     ]
    }
   ],
   "source": [
    "data_clear.info()"
   ]
  },
  {
   "cell_type": "code",
   "execution_count": 36,
   "metadata": {},
   "outputs": [
    {
     "data": {
      "text/plain": [
       "golf           25643\n",
       "other          20380\n",
       "3er            17666\n",
       "polo           10793\n",
       "corsa          10107\n",
       "astra           9290\n",
       "passat          8958\n",
       "a4              8919\n",
       "c_klasse        7421\n",
       "5er             7165\n",
       "e_klasse        5925\n",
       "a3              5534\n",
       "focus           5217\n",
       "a6              5009\n",
       "fiesta          4784\n",
       "2_reihe         4431\n",
       "transporter     4221\n",
       "fortwo          3883\n",
       "twingo          3780\n",
       "a_klasse        3593\n",
       "Name: Model, dtype: int64"
      ]
     },
     "execution_count": 36,
     "metadata": {},
     "output_type": "execute_result"
    }
   ],
   "source": [
    "data_clear['Model'].value_counts().head(20)"
   ]
  },
  {
   "cell_type": "markdown",
   "metadata": {},
   "source": [
    "Мы выберем наиболее популярный тип модели для каждого бренда и заполним пропущенные значения в столбце 'Model' наиболее популярным значением."
   ]
  },
  {
   "cell_type": "code",
   "execution_count": 37,
   "metadata": {},
   "outputs": [],
   "source": [
    "brand_model_counts = data_clear.groupby('Brand')['Model'].value_counts()"
   ]
  },
  {
   "cell_type": "code",
   "execution_count": 38,
   "metadata": {},
   "outputs": [],
   "source": [
    "most_popular_model = brand_model_counts.groupby('Brand').idxmax().to_dict()"
   ]
  },
  {
   "cell_type": "code",
   "execution_count": 39,
   "metadata": {},
   "outputs": [],
   "source": [
    "for brand, model_ in most_popular_model.items():\n",
    "    data_clear.loc[(data_clear['Brand'] == brand) & (data_clear['Model'].isnull()), 'Model'] = model_[1]"
   ]
  },
  {
   "cell_type": "code",
   "execution_count": 40,
   "metadata": {},
   "outputs": [
    {
     "name": "stdout",
     "output_type": "stream",
     "text": [
      "<class 'pandas.core.frame.DataFrame'>\n",
      "Int64Index: 302138 entries, 1 to 354368\n",
      "Data columns (total 10 columns):\n",
      " #   Column            Non-Null Count   Dtype \n",
      "---  ------            --------------   ----- \n",
      " 0   Price             302138 non-null  int64 \n",
      " 1   VehicleType       281622 non-null  object\n",
      " 2   RegistrationYear  302138 non-null  int64 \n",
      " 3   Gearbox           302138 non-null  object\n",
      " 4   Power             302138 non-null  int64 \n",
      " 5   Model             300300 non-null  object\n",
      " 6   Kilometer         302138 non-null  int64 \n",
      " 7   FuelType          283236 non-null  object\n",
      " 8   Brand             302138 non-null  object\n",
      " 9   Repaired          302138 non-null  object\n",
      "dtypes: int64(4), object(6)\n",
      "memory usage: 25.4+ MB\n"
     ]
    }
   ],
   "source": [
    "data_clear.info()"
   ]
  },
  {
   "cell_type": "code",
   "execution_count": 41,
   "metadata": {},
   "outputs": [
    {
     "data": {
      "text/plain": [
       "Price                   0\n",
       "VehicleType         20516\n",
       "RegistrationYear        0\n",
       "Gearbox                 0\n",
       "Power                   0\n",
       "Model                1838\n",
       "Kilometer               0\n",
       "FuelType            18902\n",
       "Brand                   0\n",
       "Repaired                0\n",
       "dtype: int64"
      ]
     },
     "execution_count": 41,
     "metadata": {},
     "output_type": "execute_result"
    }
   ],
   "source": [
    "data_clear.isnull().sum()"
   ]
  },
  {
   "cell_type": "code",
   "execution_count": 42,
   "metadata": {},
   "outputs": [],
   "source": [
    "data_clear['Model'].fillna('other',inplace=True) "
   ]
  },
  {
   "cell_type": "code",
   "execution_count": 43,
   "metadata": {},
   "outputs": [
    {
     "data": {
      "text/plain": [
       "<AxesSubplot:>"
      ]
     },
     "execution_count": 43,
     "metadata": {},
     "output_type": "execute_result"
    },
    {
     "data": {
      "image/png": "[encoded data removed]",
      "text/plain": [
       "<Figure size 432x288 with 1 Axes>"
      ]
     },
     "metadata": {
      "needs_background": "light"
     },
     "output_type": "display_data"
    }
   ],
   "source": [
    "data_clear['FuelType'].hist()"
   ]
  },
  {
   "cell_type": "markdown",
   "metadata": {},
   "source": [
    "Теперь заполним тип топлива по признаку model"
   ]
  },
  {
   "cell_type": "code",
   "execution_count": 44,
   "metadata": {},
   "outputs": [],
   "source": [
    "model_fuel_counts = data_clear.groupby('Model')['FuelType'].value_counts()"
   ]
  },
  {
   "cell_type": "code",
   "execution_count": 45,
   "metadata": {},
   "outputs": [],
   "source": [
    "most_popular_fuel = model_fuel_counts.groupby('Model').idxmax().to_dict()"
   ]
  },
  {
   "cell_type": "code",
   "execution_count": 46,
   "metadata": {},
   "outputs": [],
   "source": [
    "for model, fuel_ in most_popular_fuel.items():\n",
    "    data_clear.loc[(data_clear['Model'] == model) & (data_clear['FuelType'].isnull()), 'FuelType'] = fuel_[1]"
   ]
  },
  {
   "cell_type": "code",
   "execution_count": 47,
   "metadata": {
    "scrolled": true
   },
   "outputs": [
    {
     "data": {
      "text/plain": [
       "Price                   0\n",
       "VehicleType         20516\n",
       "RegistrationYear        0\n",
       "Gearbox                 0\n",
       "Power                   0\n",
       "Model                   0\n",
       "Kilometer               0\n",
       "FuelType                0\n",
       "Brand                   0\n",
       "Repaired                0\n",
       "dtype: int64"
      ]
     },
     "execution_count": 47,
     "metadata": {},
     "output_type": "execute_result"
    }
   ],
   "source": [
    "data_clear.isnull().sum()"
   ]
  },
  {
   "cell_type": "code",
   "execution_count": 48,
   "metadata": {
    "scrolled": true
   },
   "outputs": [
    {
     "data": {
      "text/plain": [
       "<AxesSubplot:>"
      ]
     },
     "execution_count": 48,
     "metadata": {},
     "output_type": "execute_result"
    },
    {
     "data": {
      "image/png": "[encoded data removed]",
      "text/plain": [
       "<Figure size 432x288 with 1 Axes>"
      ]
     },
     "metadata": {
      "needs_background": "light"
     },
     "output_type": "display_data"
    }
   ],
   "source": [
    "data_clear['FuelType'].hist()"
   ]
  },
  {
   "cell_type": "markdown",
   "metadata": {},
   "source": [
    "С VehicleType мы сделаем тоже самое"
   ]
  },
  {
   "cell_type": "code",
   "execution_count": 49,
   "metadata": {},
   "outputs": [],
   "source": [
    "brand_vehicle_counts = data_clear.groupby('Brand')['VehicleType'].value_counts()"
   ]
  },
  {
   "cell_type": "code",
   "execution_count": 50,
   "metadata": {},
   "outputs": [],
   "source": [
    "most_popular_vehicle = brand_vehicle_counts.groupby('Brand').idxmax().to_dict()"
   ]
  },
  {
   "cell_type": "code",
   "execution_count": 51,
   "metadata": {},
   "outputs": [],
   "source": [
    "for brand, vehicle_ in most_popular_vehicle.items():\n",
    "    data_clear.loc[(data_clear['Brand'] == brand) & (data_clear['VehicleType'].isnull()), 'VehicleType'] = vehicle_[1]"
   ]
  },
  {
   "cell_type": "code",
   "execution_count": 52,
   "metadata": {
    "scrolled": true
   },
   "outputs": [
    {
     "data": {
      "text/plain": [
       "Price               0\n",
       "VehicleType         0\n",
       "RegistrationYear    0\n",
       "Gearbox             0\n",
       "Power               0\n",
       "Model               0\n",
       "Kilometer           0\n",
       "FuelType            0\n",
       "Brand               0\n",
       "Repaired            0\n",
       "dtype: int64"
      ]
     },
     "execution_count": 52,
     "metadata": {},
     "output_type": "execute_result"
    }
   ],
   "source": [
    "data_clear.isnull().sum()"
   ]
  },
  {
   "cell_type": "code",
   "execution_count": 53,
   "metadata": {},
   "outputs": [],
   "source": [
    "data_new = data_clear.reset_index(drop=True)"
   ]
  },
  {
   "cell_type": "code",
   "execution_count": 54,
   "metadata": {},
   "outputs": [
    {
     "name": "stdout",
     "output_type": "stream",
     "text": [
      "<class 'pandas.core.frame.DataFrame'>\n",
      "RangeIndex: 302138 entries, 0 to 302137\n",
      "Data columns (total 10 columns):\n",
      " #   Column            Non-Null Count   Dtype \n",
      "---  ------            --------------   ----- \n",
      " 0   Price             302138 non-null  int64 \n",
      " 1   VehicleType       302138 non-null  object\n",
      " 2   RegistrationYear  302138 non-null  int64 \n",
      " 3   Gearbox           302138 non-null  object\n",
      " 4   Power             302138 non-null  int64 \n",
      " 5   Model             302138 non-null  object\n",
      " 6   Kilometer         302138 non-null  int64 \n",
      " 7   FuelType          302138 non-null  object\n",
      " 8   Brand             302138 non-null  object\n",
      " 9   Repaired          302138 non-null  object\n",
      "dtypes: int64(4), object(6)\n",
      "memory usage: 23.1+ MB\n"
     ]
    }
   ],
   "source": [
    "data_new.info()"
   ]
  },
  {
   "cell_type": "code",
   "execution_count": 55,
   "metadata": {},
   "outputs": [
    {
     "data": {
      "text/plain": [
       "count    302138.000000\n",
       "mean       2003.534842\n",
       "std          29.311948\n",
       "min        1000.000000\n",
       "25%        1999.000000\n",
       "50%        2003.000000\n",
       "75%        2008.000000\n",
       "max        9999.000000\n",
       "Name: RegistrationYear, dtype: float64"
      ]
     },
     "execution_count": 55,
     "metadata": {},
     "output_type": "execute_result"
    }
   ],
   "source": [
    "data_new['RegistrationYear'].describe()"
   ]
  },
  {
   "cell_type": "markdown",
   "metadata": {},
   "source": [
    "Заметили аномалии в RegistrationYear, обрежем хвосты с выбросами"
   ]
  },
  {
   "cell_type": "code",
   "execution_count": 56,
   "metadata": {},
   "outputs": [],
   "source": [
    "data_new = data_new.drop(data_new.loc[data_new['RegistrationYear'] > 2016].index)"
   ]
  },
  {
   "cell_type": "code",
   "execution_count": 57,
   "metadata": {},
   "outputs": [],
   "source": [
    "data_new = data_new.drop(data_new.loc[data_new['RegistrationYear'] < 1960].index)"
   ]
  },
  {
   "cell_type": "code",
   "execution_count": 58,
   "metadata": {},
   "outputs": [
    {
     "data": {
      "text/plain": [
       "<AxesSubplot:>"
      ]
     },
     "execution_count": 58,
     "metadata": {},
     "output_type": "execute_result"
    },
    {
     "data": {
      "image/png": "[encoded data removed]",
      "text/plain": [
       "<Figure size 432x288 with 1 Axes>"
      ]
     },
     "metadata": {
      "needs_background": "light"
     },
     "output_type": "display_data"
    }
   ],
   "source": [
    "data_new['RegistrationYear'].hist(bins=100)"
   ]
  },
  {
   "cell_type": "markdown",
   "metadata": {},
   "source": [
    "Дата сет после подготовки:"
   ]
  },
  {
   "cell_type": "code",
   "execution_count": 59,
   "metadata": {
    "scrolled": false
   },
   "outputs": [
    {
     "data": {
      "image/png": "[encoded data removed]",
      "text/plain": [
       "<Figure size 432x288 with 1 Axes>"
      ]
     },
     "metadata": {
      "needs_background": "light"
     },
     "output_type": "display_data"
    },
    {
     "data": {
      "image/png": "[encoded data removed]",
      "text/plain": [
       "<Figure size 432x288 with 1 Axes>"
      ]
     },
     "metadata": {
      "needs_background": "light"
     },
     "output_type": "display_data"
    },
    {
     "data": {
      "image/png": "[encoded data removed]",
      "text/plain": [
       "<Figure size 432x288 with 1 Axes>"
      ]
     },
     "metadata": {
      "needs_background": "light"
     },
     "output_type": "display_data"
    },
    {
     "data": {
      "image/png": "[encoded data removed]",
      "text/plain": [
       "<Figure size 432x288 with 1 Axes>"
      ]
     },
     "metadata": {
      "needs_background": "light"
     },
     "output_type": "display_data"
    },
    {
     "data": {
      "image/png": "[encoded data removed]",
      "text/plain": [
       "<Figure size 432x288 with 1 Axes>"
      ]
     },
     "metadata": {
      "needs_background": "light"
     },
     "output_type": "display_data"
    },
    {
     "data": {
      "image/png": "[encoded data removed]",
      "text/plain": [
       "<Figure size 432x288 with 1 Axes>"
      ]
     },
     "metadata": {
      "needs_background": "light"
     },
     "output_type": "display_data"
    },
    {
     "data": {
      "image/png": "[encoded data removed]",
      "text/plain": [
       "<Figure size 432x288 with 1 Axes>"
      ]
     },
     "metadata": {
      "needs_background": "light"
     },
     "output_type": "display_data"
    },
    {
     "data": {
      "image/png": "[encoded data removed]",
      "text/plain": [
       "<Figure size 432x288 with 1 Axes>"
      ]
     },
     "metadata": {
      "needs_background": "light"
     },
     "output_type": "display_data"
    },
    {
     "data": {
      "image/png": "[encoded data removed]",
      "text/plain": [
       "<Figure size 432x288 with 1 Axes>"
      ]
     },
     "metadata": {
      "needs_background": "light"
     },
     "output_type": "display_data"
    },
    {
     "data": {
      "image/png": "[encoded data removed]",
      "text/plain": [
       "<Figure size 432x288 with 1 Axes>"
      ]
     },
     "metadata": {
      "needs_background": "light"
     },
     "output_type": "display_data"
    }
   ],
   "source": [
    "for column in data_new.columns:\n",
    "    plt.figure()\n",
    "    sns.histplot(data_new[column])\n",
    "    plt.title(column)\n",
    "\n",
    "plt.show()"
   ]
  },
  {
   "cell_type": "markdown",
   "metadata": {},
   "source": [
    "**Вывод**  \n",
    "1. Мы изучили таблицу данных.  \n",
    "2. Выведены аномальные и пропущенные значения.  \n",
    "3. Отобраны необходимые столбцы для обучения моделей.  \n",
    "4. Заполнены пропуски в столбцах и удалены некорректные значения."
   ]
  },
  {
   "cell_type": "markdown",
   "metadata": {},
   "source": [
    "## Обучение моделей"
   ]
  },
  {
   "cell_type": "markdown",
   "metadata": {},
   "source": [
    "### CatBoost"
   ]
  },
  {
   "cell_type": "code",
   "execution_count": 60,
   "metadata": {},
   "outputs": [],
   "source": [
    "data_train, data_test = train_test_split(data_new, test_size=0.4, random_state=322)"
   ]
  },
  {
   "cell_type": "code",
   "execution_count": 61,
   "metadata": {},
   "outputs": [],
   "source": [
    "features = data_test.drop('Price', axis=1) # признаки\n",
    "target = data_test['Price'] # целевая переменная"
   ]
  },
  {
   "cell_type": "code",
   "execution_count": 62,
   "metadata": {},
   "outputs": [],
   "source": [
    "features_valid, features_test, target_valid, target_test = train_test_split(features, target, test_size=0.5, random_state=322)\n",
    "# затем из части для тестовой выборки выделяем половину для валидоционной выборки"
   ]
  },
  {
   "cell_type": "code",
   "execution_count": 63,
   "metadata": {},
   "outputs": [],
   "source": [
    "features_train = data_train.drop('Price', axis=1)\n",
    "target_train = data_train['Price']"
   ]
  },
  {
   "cell_type": "code",
   "execution_count": 64,
   "metadata": {},
   "outputs": [
    {
     "data": {
      "text/plain": [
       "((175083, 9), (58361, 9), (58362, 9))"
      ]
     },
     "execution_count": 64,
     "metadata": {},
     "output_type": "execute_result"
    }
   ],
   "source": [
    "# Проверим соотношение данных \n",
    "features_train.shape, features_valid.shape, features_test.shape "
   ]
  },
  {
   "cell_type": "code",
   "execution_count": 65,
   "metadata": {},
   "outputs": [
    {
     "name": "stdout",
     "output_type": "stream",
     "text": [
      "CPU times: user 85 µs, sys: 5 µs, total: 90 µs\n",
      "Wall time: 94.4 µs\n"
     ]
    }
   ],
   "source": [
    "%%time\n",
    "modelcat = CatBoostRegressor(\n",
    "    iterations=1000,\n",
    "    learning_rate=0.5,\n",
    "    depth=10,\n",
    "    l2_leaf_reg=5,\n",
    "    bagging_temperature=0.9,\n",
    "    random_strength=1,\n",
    "    early_stopping_rounds=20,\n",
    "    verbose=True,\n",
    "    loss_function='RMSE',\n",
    "    random_state=322\n",
    ")"
   ]
  },
  {
   "cell_type": "code",
   "execution_count": 66,
   "metadata": {
    "scrolled": true
   },
   "outputs": [
    {
     "name": "stdout",
     "output_type": "stream",
     "text": [
      "0:\tlearn: 3099.3824509\ttotal: 379ms\tremaining: 6m 18s\n",
      "1:\tlearn: 2384.5717160\ttotal: 700ms\tremaining: 5m 49s\n",
      "2:\tlearn: 2065.9310387\ttotal: 1.02s\tremaining: 5m 38s\n",
      "3:\tlearn: 1937.3448159\ttotal: 1.33s\tremaining: 5m 30s\n",
      "4:\tlearn: 1854.3365698\ttotal: 1.57s\tremaining: 5m 12s\n",
      "5:\tlearn: 1812.9600134\ttotal: 1.84s\tremaining: 5m 4s\n",
      "6:\tlearn: 1787.4463523\ttotal: 2.06s\tremaining: 4m 52s\n",
      "7:\tlearn: 1760.9731441\ttotal: 2.29s\tremaining: 4m 44s\n",
      "8:\tlearn: 1747.4202048\ttotal: 2.57s\tremaining: 4m 42s\n",
      "9:\tlearn: 1734.9659683\ttotal: 2.85s\tremaining: 4m 42s\n",
      "10:\tlearn: 1721.2870964\ttotal: 3.11s\tremaining: 4m 39s\n",
      "11:\tlearn: 1708.9754963\ttotal: 3.35s\tremaining: 4m 36s\n",
      "12:\tlearn: 1695.2173658\ttotal: 3.6s\tremaining: 4m 33s\n",
      "13:\tlearn: 1684.0813288\ttotal: 3.81s\tremaining: 4m 28s\n",
      "14:\tlearn: 1677.8000824\ttotal: 4.05s\tremaining: 4m 25s\n",
      "15:\tlearn: 1668.4074427\ttotal: 4.31s\tremaining: 4m 25s\n",
      "16:\tlearn: 1659.2243851\ttotal: 4.53s\tremaining: 4m 21s\n",
      "17:\tlearn: 1656.0544593\ttotal: 4.77s\tremaining: 4m 20s\n",
      "18:\tlearn: 1646.2418502\ttotal: 5.01s\tremaining: 4m 18s\n",
      "19:\tlearn: 1641.0843114\ttotal: 5.29s\tremaining: 4m 19s\n",
      "20:\tlearn: 1638.0020985\ttotal: 5.52s\tremaining: 4m 17s\n",
      "21:\tlearn: 1631.9506312\ttotal: 5.8s\tremaining: 4m 17s\n",
      "22:\tlearn: 1624.6861742\ttotal: 6.12s\tremaining: 4m 20s\n",
      "23:\tlearn: 1618.2884060\ttotal: 6.34s\tremaining: 4m 18s\n",
      "24:\tlearn: 1615.0734905\ttotal: 6.64s\tremaining: 4m 18s\n",
      "25:\tlearn: 1611.0342102\ttotal: 6.87s\tremaining: 4m 17s\n",
      "26:\tlearn: 1607.5769499\ttotal: 7.15s\tremaining: 4m 17s\n",
      "27:\tlearn: 1604.5526429\ttotal: 7.46s\tremaining: 4m 18s\n",
      "28:\tlearn: 1601.2043637\ttotal: 7.73s\tremaining: 4m 18s\n",
      "29:\tlearn: 1597.6134723\ttotal: 8.01s\tremaining: 4m 19s\n",
      "30:\tlearn: 1593.6948785\ttotal: 8.28s\tremaining: 4m 18s\n",
      "31:\tlearn: 1591.3453695\ttotal: 8.53s\tremaining: 4m 18s\n",
      "32:\tlearn: 1587.1605149\ttotal: 8.82s\tremaining: 4m 18s\n",
      "33:\tlearn: 1583.6127993\ttotal: 9.13s\tremaining: 4m 19s\n",
      "34:\tlearn: 1579.3488500\ttotal: 9.41s\tremaining: 4m 19s\n",
      "35:\tlearn: 1576.7372807\ttotal: 9.73s\tremaining: 4m 20s\n",
      "36:\tlearn: 1568.6913218\ttotal: 10s\tremaining: 4m 20s\n",
      "37:\tlearn: 1563.8596748\ttotal: 10.2s\tremaining: 4m 19s\n",
      "38:\tlearn: 1560.8329142\ttotal: 10.5s\tremaining: 4m 19s\n",
      "39:\tlearn: 1557.4695382\ttotal: 10.9s\tremaining: 4m 20s\n",
      "40:\tlearn: 1554.4660480\ttotal: 11.2s\tremaining: 4m 20s\n",
      "41:\tlearn: 1553.7267406\ttotal: 11.4s\tremaining: 4m 20s\n",
      "42:\tlearn: 1549.4284775\ttotal: 11.6s\tremaining: 4m 19s\n",
      "43:\tlearn: 1548.3129675\ttotal: 11.9s\tremaining: 4m 19s\n",
      "44:\tlearn: 1542.4478753\ttotal: 12.2s\tremaining: 4m 17s\n",
      "45:\tlearn: 1538.6910523\ttotal: 12.4s\tremaining: 4m 17s\n",
      "46:\tlearn: 1534.7377459\ttotal: 12.6s\tremaining: 4m 16s\n",
      "47:\tlearn: 1531.3924826\ttotal: 13s\tremaining: 4m 17s\n",
      "48:\tlearn: 1529.5157112\ttotal: 13.3s\tremaining: 4m 17s\n",
      "49:\tlearn: 1527.8610287\ttotal: 13.6s\tremaining: 4m 17s\n",
      "50:\tlearn: 1525.5047858\ttotal: 13.8s\tremaining: 4m 16s\n",
      "51:\tlearn: 1523.8347657\ttotal: 14.1s\tremaining: 4m 16s\n",
      "52:\tlearn: 1521.2926845\ttotal: 14.3s\tremaining: 4m 15s\n",
      "53:\tlearn: 1518.8925266\ttotal: 14.5s\tremaining: 4m 14s\n",
      "54:\tlearn: 1517.4507474\ttotal: 14.8s\tremaining: 4m 14s\n",
      "55:\tlearn: 1513.8358160\ttotal: 15.1s\tremaining: 4m 14s\n",
      "56:\tlearn: 1512.6025295\ttotal: 15.3s\tremaining: 4m 13s\n",
      "57:\tlearn: 1510.7297052\ttotal: 15.5s\tremaining: 4m 12s\n",
      "58:\tlearn: 1508.5273858\ttotal: 15.8s\tremaining: 4m 11s\n",
      "59:\tlearn: 1506.8724674\ttotal: 16s\tremaining: 4m 11s\n",
      "60:\tlearn: 1505.1664057\ttotal: 16.3s\tremaining: 4m 10s\n",
      "61:\tlearn: 1499.2028426\ttotal: 16.6s\tremaining: 4m 10s\n",
      "62:\tlearn: 1496.3928400\ttotal: 16.8s\tremaining: 4m 10s\n",
      "63:\tlearn: 1494.4341659\ttotal: 17.1s\tremaining: 4m 9s\n",
      "64:\tlearn: 1492.8041309\ttotal: 17.3s\tremaining: 4m 8s\n",
      "65:\tlearn: 1490.3017025\ttotal: 17.6s\tremaining: 4m 8s\n",
      "66:\tlearn: 1488.8954365\ttotal: 17.9s\tremaining: 4m 8s\n",
      "67:\tlearn: 1486.7607684\ttotal: 18.1s\tremaining: 4m 8s\n",
      "68:\tlearn: 1485.6399624\ttotal: 18.4s\tremaining: 4m 8s\n",
      "69:\tlearn: 1485.1105458\ttotal: 18.6s\tremaining: 4m 7s\n",
      "70:\tlearn: 1482.6269071\ttotal: 18.9s\tremaining: 4m 7s\n",
      "71:\tlearn: 1481.3818056\ttotal: 19.2s\tremaining: 4m 7s\n",
      "72:\tlearn: 1479.9303099\ttotal: 19.5s\tremaining: 4m 7s\n",
      "73:\tlearn: 1478.3737505\ttotal: 19.8s\tremaining: 4m 7s\n",
      "74:\tlearn: 1476.9271626\ttotal: 20.1s\tremaining: 4m 7s\n",
      "75:\tlearn: 1473.9175764\ttotal: 20.4s\tremaining: 4m 7s\n",
      "76:\tlearn: 1473.5133543\ttotal: 20.7s\tremaining: 4m 8s\n",
      "77:\tlearn: 1473.0376912\ttotal: 21s\tremaining: 4m 8s\n",
      "78:\tlearn: 1470.8536179\ttotal: 21.3s\tremaining: 4m 8s\n",
      "79:\tlearn: 1470.4927779\ttotal: 21.6s\tremaining: 4m 7s\n",
      "80:\tlearn: 1467.2077874\ttotal: 21.8s\tremaining: 4m 7s\n",
      "81:\tlearn: 1465.7996105\ttotal: 22.1s\tremaining: 4m 7s\n",
      "82:\tlearn: 1464.2484364\ttotal: 22.4s\tremaining: 4m 7s\n",
      "83:\tlearn: 1462.3112447\ttotal: 22.7s\tremaining: 4m 7s\n",
      "84:\tlearn: 1459.3334400\ttotal: 23s\tremaining: 4m 7s\n",
      "85:\tlearn: 1458.2193356\ttotal: 23.3s\tremaining: 4m 7s\n",
      "86:\tlearn: 1457.5118690\ttotal: 23.5s\tremaining: 4m 6s\n",
      "87:\tlearn: 1453.9913198\ttotal: 23.8s\tremaining: 4m 6s\n",
      "88:\tlearn: 1452.6307276\ttotal: 24.1s\tremaining: 4m 6s\n",
      "89:\tlearn: 1451.7826116\ttotal: 24.4s\tremaining: 4m 6s\n",
      "90:\tlearn: 1451.4444842\ttotal: 24.6s\tremaining: 4m 6s\n",
      "91:\tlearn: 1448.1965427\ttotal: 24.9s\tremaining: 4m 5s\n",
      "92:\tlearn: 1446.1642988\ttotal: 25.1s\tremaining: 4m 5s\n",
      "93:\tlearn: 1445.1710767\ttotal: 25.4s\tremaining: 4m 5s\n",
      "94:\tlearn: 1443.4318160\ttotal: 25.7s\tremaining: 4m 5s\n",
      "95:\tlearn: 1440.9654069\ttotal: 26.1s\tremaining: 4m 5s\n",
      "96:\tlearn: 1440.0064494\ttotal: 26.4s\tremaining: 4m 5s\n",
      "97:\tlearn: 1439.5821228\ttotal: 26.7s\tremaining: 4m 5s\n",
      "98:\tlearn: 1439.1321408\ttotal: 27s\tremaining: 4m 5s\n",
      "99:\tlearn: 1437.2509956\ttotal: 27.3s\tremaining: 4m 5s\n",
      "100:\tlearn: 1435.7986565\ttotal: 27.6s\tremaining: 4m 5s\n",
      "101:\tlearn: 1434.0245236\ttotal: 28.1s\tremaining: 4m 7s\n",
      "102:\tlearn: 1432.4276110\ttotal: 28.3s\tremaining: 4m 6s\n",
      "103:\tlearn: 1431.3600116\ttotal: 28.6s\tremaining: 4m 6s\n",
      "104:\tlearn: 1430.6571584\ttotal: 28.9s\tremaining: 4m 6s\n",
      "105:\tlearn: 1429.3400738\ttotal: 29.2s\tremaining: 4m 5s\n",
      "106:\tlearn: 1428.1429064\ttotal: 29.4s\tremaining: 4m 5s\n",
      "107:\tlearn: 1427.3009213\ttotal: 29.7s\tremaining: 4m 5s\n",
      "108:\tlearn: 1426.8366284\ttotal: 30s\tremaining: 4m 5s\n",
      "109:\tlearn: 1425.8148820\ttotal: 30.3s\tremaining: 4m 4s\n",
      "110:\tlearn: 1425.0120052\ttotal: 30.6s\tremaining: 4m 5s\n",
      "111:\tlearn: 1424.5482086\ttotal: 31s\tremaining: 4m 5s\n",
      "112:\tlearn: 1422.8308476\ttotal: 31.3s\tremaining: 4m 5s\n",
      "113:\tlearn: 1419.4197880\ttotal: 31.6s\tremaining: 4m 5s\n",
      "114:\tlearn: 1418.5677605\ttotal: 31.8s\tremaining: 4m 4s\n",
      "115:\tlearn: 1417.0975784\ttotal: 32.1s\tremaining: 4m 4s\n",
      "116:\tlearn: 1413.9230429\ttotal: 32.3s\tremaining: 4m 4s\n",
      "117:\tlearn: 1412.5232067\ttotal: 32.6s\tremaining: 4m 3s\n",
      "118:\tlearn: 1411.1095492\ttotal: 32.9s\tremaining: 4m 3s\n",
      "119:\tlearn: 1410.9923113\ttotal: 33.2s\tremaining: 4m 3s\n",
      "120:\tlearn: 1410.3765225\ttotal: 33.4s\tremaining: 4m 2s\n",
      "121:\tlearn: 1408.1595537\ttotal: 33.6s\tremaining: 4m 2s\n",
      "122:\tlearn: 1407.1188661\ttotal: 33.9s\tremaining: 4m 1s\n",
      "123:\tlearn: 1405.5425270\ttotal: 34.2s\tremaining: 4m 1s\n",
      "124:\tlearn: 1404.9161051\ttotal: 34.5s\tremaining: 4m 1s\n",
      "125:\tlearn: 1403.8839937\ttotal: 34.7s\tremaining: 4m\n",
      "126:\tlearn: 1403.4349647\ttotal: 35s\tremaining: 4m\n",
      "127:\tlearn: 1402.4131772\ttotal: 35.3s\tremaining: 4m\n",
      "128:\tlearn: 1401.8128065\ttotal: 35.5s\tremaining: 3m 59s\n",
      "129:\tlearn: 1400.0343963\ttotal: 35.8s\tremaining: 3m 59s\n",
      "130:\tlearn: 1398.6838880\ttotal: 36.1s\tremaining: 3m 59s\n",
      "131:\tlearn: 1398.0676693\ttotal: 36.3s\tremaining: 3m 58s\n",
      "132:\tlearn: 1397.2287657\ttotal: 36.6s\tremaining: 3m 58s\n",
      "133:\tlearn: 1396.3237389\ttotal: 36.9s\tremaining: 3m 58s\n",
      "134:\tlearn: 1394.7240557\ttotal: 37.2s\tremaining: 3m 58s\n",
      "135:\tlearn: 1393.8590970\ttotal: 37.4s\tremaining: 3m 57s\n",
      "136:\tlearn: 1392.8728466\ttotal: 37.8s\tremaining: 3m 57s\n",
      "137:\tlearn: 1392.1396164\ttotal: 38s\tremaining: 3m 57s\n",
      "138:\tlearn: 1391.0139973\ttotal: 38.3s\tremaining: 3m 57s\n",
      "139:\tlearn: 1389.6771898\ttotal: 38.6s\tremaining: 3m 56s\n",
      "140:\tlearn: 1388.0878543\ttotal: 38.8s\tremaining: 3m 56s\n",
      "141:\tlearn: 1386.9533259\ttotal: 39.1s\tremaining: 3m 56s\n",
      "142:\tlearn: 1386.4721206\ttotal: 39.4s\tremaining: 3m 55s\n",
      "143:\tlearn: 1385.7767124\ttotal: 39.6s\tremaining: 3m 55s\n",
      "144:\tlearn: 1384.2655267\ttotal: 39.9s\tremaining: 3m 55s\n",
      "145:\tlearn: 1382.7264449\ttotal: 40.2s\tremaining: 3m 54s\n",
      "146:\tlearn: 1381.1226734\ttotal: 40.4s\tremaining: 3m 54s\n",
      "147:\tlearn: 1380.1146985\ttotal: 40.7s\tremaining: 3m 54s\n",
      "148:\tlearn: 1379.7632686\ttotal: 41s\tremaining: 3m 54s\n",
      "149:\tlearn: 1378.5735701\ttotal: 41.3s\tremaining: 3m 53s\n",
      "150:\tlearn: 1378.3516213\ttotal: 41.5s\tremaining: 3m 53s\n",
      "151:\tlearn: 1377.5479747\ttotal: 41.7s\tremaining: 3m 52s\n",
      "152:\tlearn: 1376.7979478\ttotal: 42s\tremaining: 3m 52s\n",
      "153:\tlearn: 1376.0060975\ttotal: 42.2s\tremaining: 3m 51s\n",
      "154:\tlearn: 1375.1387895\ttotal: 42.4s\tremaining: 3m 51s\n",
      "155:\tlearn: 1374.5609798\ttotal: 42.8s\tremaining: 3m 51s\n",
      "156:\tlearn: 1373.6100453\ttotal: 43s\tremaining: 3m 50s\n",
      "157:\tlearn: 1372.5903622\ttotal: 43.3s\tremaining: 3m 50s\n",
      "158:\tlearn: 1371.9995362\ttotal: 43.6s\tremaining: 3m 50s\n",
      "159:\tlearn: 1371.0695243\ttotal: 43.9s\tremaining: 3m 50s\n",
      "160:\tlearn: 1370.6259902\ttotal: 44.2s\tremaining: 3m 50s\n",
      "161:\tlearn: 1369.8980759\ttotal: 44.5s\tremaining: 3m 50s\n",
      "162:\tlearn: 1369.0271176\ttotal: 44.8s\tremaining: 3m 49s\n",
      "163:\tlearn: 1368.2281664\ttotal: 45s\tremaining: 3m 49s\n",
      "164:\tlearn: 1367.1831937\ttotal: 45.3s\tremaining: 3m 49s\n",
      "165:\tlearn: 1366.8962207\ttotal: 45.6s\tremaining: 3m 48s\n",
      "166:\tlearn: 1366.0725223\ttotal: 45.8s\tremaining: 3m 48s\n",
      "167:\tlearn: 1365.6140618\ttotal: 46.2s\tremaining: 3m 48s\n",
      "168:\tlearn: 1365.4320533\ttotal: 46.5s\tremaining: 3m 48s\n",
      "169:\tlearn: 1364.9016996\ttotal: 46.8s\tremaining: 3m 48s\n",
      "170:\tlearn: 1364.5731351\ttotal: 47.1s\tremaining: 3m 48s\n",
      "171:\tlearn: 1363.6392330\ttotal: 47.4s\tremaining: 3m 48s\n",
      "172:\tlearn: 1363.2854875\ttotal: 47.6s\tremaining: 3m 47s\n",
      "173:\tlearn: 1362.5039158\ttotal: 47.9s\tremaining: 3m 47s\n",
      "174:\tlearn: 1361.9239023\ttotal: 48.2s\tremaining: 3m 47s\n",
      "175:\tlearn: 1361.6264772\ttotal: 48.4s\tremaining: 3m 46s\n",
      "176:\tlearn: 1360.1564145\ttotal: 48.8s\tremaining: 3m 46s\n",
      "177:\tlearn: 1359.6144359\ttotal: 49.1s\tremaining: 3m 46s\n",
      "178:\tlearn: 1358.9524065\ttotal: 49.4s\tremaining: 3m 46s\n",
      "179:\tlearn: 1358.2197421\ttotal: 49.6s\tremaining: 3m 46s\n",
      "180:\tlearn: 1357.6380949\ttotal: 49.9s\tremaining: 3m 45s\n",
      "181:\tlearn: 1357.3663705\ttotal: 50.3s\tremaining: 3m 45s\n",
      "182:\tlearn: 1356.5767864\ttotal: 50.5s\tremaining: 3m 45s\n",
      "183:\tlearn: 1355.2717530\ttotal: 50.8s\tremaining: 3m 45s\n",
      "184:\tlearn: 1354.6259931\ttotal: 51.1s\tremaining: 3m 45s\n",
      "185:\tlearn: 1354.5119098\ttotal: 51.4s\tremaining: 3m 44s\n",
      "186:\tlearn: 1353.6561040\ttotal: 51.6s\tremaining: 3m 44s\n",
      "187:\tlearn: 1352.0205530\ttotal: 51.9s\tremaining: 3m 43s\n",
      "188:\tlearn: 1351.2069477\ttotal: 52.1s\tremaining: 3m 43s\n",
      "189:\tlearn: 1350.2285655\ttotal: 52.4s\tremaining: 3m 43s\n",
      "190:\tlearn: 1349.3531941\ttotal: 52.7s\tremaining: 3m 43s\n",
      "191:\tlearn: 1348.7833259\ttotal: 53s\tremaining: 3m 42s\n",
      "192:\tlearn: 1348.4244159\ttotal: 53.3s\tremaining: 3m 42s\n",
      "193:\tlearn: 1347.8043933\ttotal: 53.6s\tremaining: 3m 42s\n",
      "194:\tlearn: 1347.4926274\ttotal: 53.9s\tremaining: 3m 42s\n",
      "195:\tlearn: 1346.5528302\ttotal: 54.1s\tremaining: 3m 42s\n",
      "196:\tlearn: 1345.5734333\ttotal: 54.4s\tremaining: 3m 41s\n",
      "197:\tlearn: 1345.3213814\ttotal: 54.7s\tremaining: 3m 41s\n",
      "198:\tlearn: 1344.6386258\ttotal: 55s\tremaining: 3m 41s\n",
      "199:\tlearn: 1343.2935739\ttotal: 55.3s\tremaining: 3m 41s\n",
      "200:\tlearn: 1341.8830087\ttotal: 55.5s\tremaining: 3m 40s\n",
      "201:\tlearn: 1341.2660782\ttotal: 55.9s\tremaining: 3m 40s\n",
      "202:\tlearn: 1340.9609409\ttotal: 56.2s\tremaining: 3m 40s\n",
      "203:\tlearn: 1340.2084894\ttotal: 56.5s\tremaining: 3m 40s\n",
      "204:\tlearn: 1339.6171634\ttotal: 56.8s\tremaining: 3m 40s\n",
      "205:\tlearn: 1339.0890877\ttotal: 57s\tremaining: 3m 39s\n",
      "206:\tlearn: 1338.5298930\ttotal: 57.3s\tremaining: 3m 39s\n",
      "207:\tlearn: 1337.6160575\ttotal: 57.6s\tremaining: 3m 39s\n",
      "208:\tlearn: 1336.7137764\ttotal: 57.9s\tremaining: 3m 38s\n",
      "209:\tlearn: 1335.5067888\ttotal: 58.1s\tremaining: 3m 38s\n",
      "210:\tlearn: 1335.1089683\ttotal: 58.4s\tremaining: 3m 38s\n",
      "211:\tlearn: 1334.4772996\ttotal: 58.8s\tremaining: 3m 38s\n",
      "212:\tlearn: 1334.1399095\ttotal: 59.1s\tremaining: 3m 38s\n",
      "213:\tlearn: 1333.5245106\ttotal: 59.4s\tremaining: 3m 38s\n",
      "214:\tlearn: 1332.9313842\ttotal: 59.7s\tremaining: 3m 37s\n",
      "215:\tlearn: 1332.0712408\ttotal: 59.9s\tremaining: 3m 37s\n",
      "216:\tlearn: 1331.5662388\ttotal: 1m\tremaining: 3m 37s\n",
      "217:\tlearn: 1331.3311811\ttotal: 1m\tremaining: 3m 37s\n",
      "218:\tlearn: 1330.5996432\ttotal: 1m\tremaining: 3m 36s\n",
      "219:\tlearn: 1330.1600724\ttotal: 1m 1s\tremaining: 3m 36s\n",
      "220:\tlearn: 1329.4709111\ttotal: 1m 1s\tremaining: 3m 36s\n",
      "221:\tlearn: 1328.6738509\ttotal: 1m 1s\tremaining: 3m 36s\n",
      "222:\tlearn: 1327.7998950\ttotal: 1m 2s\tremaining: 3m 36s\n",
      "223:\tlearn: 1327.2273345\ttotal: 1m 2s\tremaining: 3m 36s\n",
      "224:\tlearn: 1326.8366021\ttotal: 1m 2s\tremaining: 3m 35s\n",
      "225:\tlearn: 1326.2841303\ttotal: 1m 2s\tremaining: 3m 35s\n",
      "226:\tlearn: 1325.8389181\ttotal: 1m 3s\tremaining: 3m 35s\n",
      "227:\tlearn: 1324.6671295\ttotal: 1m 3s\tremaining: 3m 34s\n",
      "228:\tlearn: 1323.9698392\ttotal: 1m 3s\tremaining: 3m 34s\n",
      "229:\tlearn: 1322.3855889\ttotal: 1m 3s\tremaining: 3m 34s\n",
      "230:\tlearn: 1321.9762790\ttotal: 1m 4s\tremaining: 3m 33s\n",
      "231:\tlearn: 1321.5351429\ttotal: 1m 4s\tremaining: 3m 33s\n",
      "232:\tlearn: 1321.1923134\ttotal: 1m 4s\tremaining: 3m 33s\n",
      "233:\tlearn: 1320.7086109\ttotal: 1m 5s\tremaining: 3m 33s\n",
      "234:\tlearn: 1320.2477964\ttotal: 1m 5s\tremaining: 3m 33s\n",
      "235:\tlearn: 1319.7866783\ttotal: 1m 5s\tremaining: 3m 32s\n",
      "236:\tlearn: 1319.3810507\ttotal: 1m 6s\tremaining: 3m 32s\n",
      "237:\tlearn: 1318.8079948\ttotal: 1m 6s\tremaining: 3m 32s\n",
      "238:\tlearn: 1318.0105907\ttotal: 1m 6s\tremaining: 3m 32s\n",
      "239:\tlearn: 1317.4896035\ttotal: 1m 6s\tremaining: 3m 31s\n",
      "240:\tlearn: 1316.5720638\ttotal: 1m 7s\tremaining: 3m 31s\n",
      "241:\tlearn: 1316.3239268\ttotal: 1m 7s\tremaining: 3m 31s\n",
      "242:\tlearn: 1315.8582920\ttotal: 1m 7s\tremaining: 3m 31s\n",
      "243:\tlearn: 1315.3824078\ttotal: 1m 8s\tremaining: 3m 31s\n",
      "244:\tlearn: 1315.0286764\ttotal: 1m 8s\tremaining: 3m 31s\n",
      "245:\tlearn: 1314.0847385\ttotal: 1m 8s\tremaining: 3m 30s\n",
      "246:\tlearn: 1313.7380499\ttotal: 1m 8s\tremaining: 3m 30s\n",
      "247:\tlearn: 1313.2608613\ttotal: 1m 9s\tremaining: 3m 29s\n",
      "248:\tlearn: 1312.1094013\ttotal: 1m 9s\tremaining: 3m 29s\n",
      "249:\tlearn: 1311.5817688\ttotal: 1m 9s\tremaining: 3m 29s\n",
      "250:\tlearn: 1310.7572339\ttotal: 1m 10s\tremaining: 3m 29s\n",
      "251:\tlearn: 1310.2156991\ttotal: 1m 10s\tremaining: 3m 28s\n",
      "252:\tlearn: 1309.9896367\ttotal: 1m 10s\tremaining: 3m 28s\n",
      "253:\tlearn: 1309.0176232\ttotal: 1m 10s\tremaining: 3m 28s\n",
      "254:\tlearn: 1307.5260361\ttotal: 1m 11s\tremaining: 3m 28s\n",
      "255:\tlearn: 1307.2650919\ttotal: 1m 11s\tremaining: 3m 27s\n",
      "256:\tlearn: 1306.9655975\ttotal: 1m 11s\tremaining: 3m 27s\n",
      "257:\tlearn: 1306.4807260\ttotal: 1m 12s\tremaining: 3m 27s\n",
      "258:\tlearn: 1305.7838364\ttotal: 1m 12s\tremaining: 3m 27s\n",
      "259:\tlearn: 1304.7557227\ttotal: 1m 12s\tremaining: 3m 26s\n",
      "260:\tlearn: 1304.7178360\ttotal: 1m 12s\tremaining: 3m 26s\n",
      "261:\tlearn: 1303.9030435\ttotal: 1m 13s\tremaining: 3m 25s\n",
      "262:\tlearn: 1303.2271402\ttotal: 1m 13s\tremaining: 3m 25s\n",
      "263:\tlearn: 1302.5974438\ttotal: 1m 13s\tremaining: 3m 25s\n",
      "264:\tlearn: 1302.2719185\ttotal: 1m 13s\tremaining: 3m 25s\n",
      "265:\tlearn: 1301.3214705\ttotal: 1m 14s\tremaining: 3m 24s\n",
      "266:\tlearn: 1300.6231449\ttotal: 1m 14s\tremaining: 3m 24s\n",
      "267:\tlearn: 1299.6203665\ttotal: 1m 14s\tremaining: 3m 24s\n",
      "268:\tlearn: 1299.2790292\ttotal: 1m 15s\tremaining: 3m 23s\n",
      "269:\tlearn: 1298.6618772\ttotal: 1m 15s\tremaining: 3m 23s\n",
      "270:\tlearn: 1298.0223284\ttotal: 1m 15s\tremaining: 3m 23s\n",
      "271:\tlearn: 1297.4490122\ttotal: 1m 16s\tremaining: 3m 23s\n",
      "272:\tlearn: 1297.0891642\ttotal: 1m 16s\tremaining: 3m 23s\n",
      "273:\tlearn: 1296.1513697\ttotal: 1m 16s\tremaining: 3m 23s\n",
      "274:\tlearn: 1294.9496661\ttotal: 1m 16s\tremaining: 3m 22s\n",
      "275:\tlearn: 1294.3856613\ttotal: 1m 17s\tremaining: 3m 22s\n",
      "276:\tlearn: 1293.4554312\ttotal: 1m 17s\tremaining: 3m 22s\n",
      "277:\tlearn: 1292.3258312\ttotal: 1m 17s\tremaining: 3m 22s\n",
      "278:\tlearn: 1291.7874996\ttotal: 1m 18s\tremaining: 3m 21s\n",
      "279:\tlearn: 1291.2030960\ttotal: 1m 18s\tremaining: 3m 21s\n",
      "280:\tlearn: 1291.0901028\ttotal: 1m 18s\tremaining: 3m 21s\n",
      "281:\tlearn: 1290.9586519\ttotal: 1m 19s\tremaining: 3m 21s\n",
      "282:\tlearn: 1290.2205316\ttotal: 1m 19s\tremaining: 3m 21s\n",
      "283:\tlearn: 1289.7793735\ttotal: 1m 19s\tremaining: 3m 20s\n",
      "284:\tlearn: 1289.3527386\ttotal: 1m 20s\tremaining: 3m 20s\n",
      "285:\tlearn: 1288.8499737\ttotal: 1m 20s\tremaining: 3m 20s\n",
      "286:\tlearn: 1288.5454773\ttotal: 1m 20s\tremaining: 3m 20s\n",
      "287:\tlearn: 1287.9860476\ttotal: 1m 20s\tremaining: 3m 20s\n",
      "288:\tlearn: 1287.7709685\ttotal: 1m 21s\tremaining: 3m 20s\n",
      "289:\tlearn: 1287.6689714\ttotal: 1m 21s\tremaining: 3m 19s\n",
      "290:\tlearn: 1286.4363228\ttotal: 1m 21s\tremaining: 3m 19s\n",
      "291:\tlearn: 1285.8177609\ttotal: 1m 22s\tremaining: 3m 19s\n",
      "292:\tlearn: 1284.9818830\ttotal: 1m 22s\tremaining: 3m 18s\n",
      "293:\tlearn: 1284.4108512\ttotal: 1m 22s\tremaining: 3m 18s\n",
      "294:\tlearn: 1284.2877532\ttotal: 1m 22s\tremaining: 3m 18s\n",
      "295:\tlearn: 1284.1521043\ttotal: 1m 23s\tremaining: 3m 17s\n",
      "296:\tlearn: 1283.6138414\ttotal: 1m 23s\tremaining: 3m 17s\n",
      "297:\tlearn: 1282.8202774\ttotal: 1m 23s\tremaining: 3m 17s\n",
      "298:\tlearn: 1282.6230820\ttotal: 1m 24s\tremaining: 3m 17s\n",
      "299:\tlearn: 1282.0995177\ttotal: 1m 24s\tremaining: 3m 16s\n",
      "300:\tlearn: 1281.4737064\ttotal: 1m 24s\tremaining: 3m 16s\n",
      "301:\tlearn: 1281.1374710\ttotal: 1m 25s\tremaining: 3m 16s\n",
      "302:\tlearn: 1280.0967194\ttotal: 1m 25s\tremaining: 3m 16s\n",
      "303:\tlearn: 1280.0086253\ttotal: 1m 25s\tremaining: 3m 16s\n",
      "304:\tlearn: 1279.6646704\ttotal: 1m 26s\tremaining: 3m 16s\n",
      "305:\tlearn: 1279.0301392\ttotal: 1m 26s\tremaining: 3m 15s\n",
      "306:\tlearn: 1278.8813704\ttotal: 1m 26s\tremaining: 3m 15s\n",
      "307:\tlearn: 1278.6432978\ttotal: 1m 26s\tremaining: 3m 14s\n",
      "308:\tlearn: 1278.5798981\ttotal: 1m 27s\tremaining: 3m 14s\n",
      "309:\tlearn: 1277.7755790\ttotal: 1m 27s\tremaining: 3m 14s\n",
      "310:\tlearn: 1277.4349448\ttotal: 1m 27s\tremaining: 3m 14s\n",
      "311:\tlearn: 1277.1080025\ttotal: 1m 27s\tremaining: 3m 13s\n",
      "312:\tlearn: 1276.8256986\ttotal: 1m 28s\tremaining: 3m 13s\n",
      "313:\tlearn: 1275.7775602\ttotal: 1m 28s\tremaining: 3m 13s\n",
      "314:\tlearn: 1275.4411382\ttotal: 1m 28s\tremaining: 3m 13s\n",
      "315:\tlearn: 1274.8828911\ttotal: 1m 29s\tremaining: 3m 12s\n",
      "316:\tlearn: 1274.7750173\ttotal: 1m 29s\tremaining: 3m 12s\n",
      "317:\tlearn: 1274.5723873\ttotal: 1m 29s\tremaining: 3m 12s\n",
      "318:\tlearn: 1273.9653124\ttotal: 1m 29s\tremaining: 3m 12s\n",
      "319:\tlearn: 1273.3557807\ttotal: 1m 30s\tremaining: 3m 11s\n",
      "320:\tlearn: 1272.5845621\ttotal: 1m 30s\tremaining: 3m 11s\n",
      "321:\tlearn: 1272.2323644\ttotal: 1m 30s\tremaining: 3m 11s\n",
      "322:\tlearn: 1272.1151421\ttotal: 1m 31s\tremaining: 3m 11s\n",
      "323:\tlearn: 1271.8351281\ttotal: 1m 31s\tremaining: 3m 10s\n",
      "324:\tlearn: 1271.2665005\ttotal: 1m 31s\tremaining: 3m 10s\n",
      "325:\tlearn: 1271.0003059\ttotal: 1m 32s\tremaining: 3m 10s\n",
      "326:\tlearn: 1270.7090186\ttotal: 1m 32s\tremaining: 3m 9s\n",
      "327:\tlearn: 1270.1302307\ttotal: 1m 32s\tremaining: 3m 9s\n",
      "328:\tlearn: 1269.8082532\ttotal: 1m 32s\tremaining: 3m 9s\n",
      "329:\tlearn: 1269.4000525\ttotal: 1m 33s\tremaining: 3m 9s\n",
      "330:\tlearn: 1268.8039076\ttotal: 1m 33s\tremaining: 3m 9s\n",
      "331:\tlearn: 1267.8224948\ttotal: 1m 33s\tremaining: 3m 8s\n",
      "332:\tlearn: 1267.3394496\ttotal: 1m 34s\tremaining: 3m 8s\n",
      "333:\tlearn: 1266.6309513\ttotal: 1m 34s\tremaining: 3m 7s\n",
      "334:\tlearn: 1266.5731915\ttotal: 1m 34s\tremaining: 3m 7s\n",
      "335:\tlearn: 1266.1256656\ttotal: 1m 34s\tremaining: 3m 7s\n",
      "336:\tlearn: 1265.9478393\ttotal: 1m 35s\tremaining: 3m 6s\n",
      "337:\tlearn: 1265.7791400\ttotal: 1m 35s\tremaining: 3m 6s\n",
      "338:\tlearn: 1265.2821360\ttotal: 1m 35s\tremaining: 3m 6s\n",
      "339:\tlearn: 1264.4408354\ttotal: 1m 35s\tremaining: 3m 5s\n",
      "340:\tlearn: 1264.2734549\ttotal: 1m 36s\tremaining: 3m 5s\n",
      "341:\tlearn: 1263.6786698\ttotal: 1m 36s\tremaining: 3m 5s\n",
      "342:\tlearn: 1263.0284098\ttotal: 1m 36s\tremaining: 3m 5s\n",
      "343:\tlearn: 1262.3738926\ttotal: 1m 36s\tremaining: 3m 4s\n",
      "344:\tlearn: 1261.6849249\ttotal: 1m 37s\tremaining: 3m 4s\n",
      "345:\tlearn: 1261.3470221\ttotal: 1m 37s\tremaining: 3m 4s\n",
      "346:\tlearn: 1261.2336302\ttotal: 1m 37s\tremaining: 3m 4s\n",
      "347:\tlearn: 1261.1217806\ttotal: 1m 38s\tremaining: 3m 3s\n",
      "348:\tlearn: 1260.8482859\ttotal: 1m 38s\tremaining: 3m 3s\n",
      "349:\tlearn: 1260.0177958\ttotal: 1m 38s\tremaining: 3m 3s\n",
      "350:\tlearn: 1259.5025803\ttotal: 1m 38s\tremaining: 3m 2s\n",
      "351:\tlearn: 1259.2207075\ttotal: 1m 39s\tremaining: 3m 2s\n",
      "352:\tlearn: 1258.7183094\ttotal: 1m 39s\tremaining: 3m 2s\n",
      "353:\tlearn: 1257.7529954\ttotal: 1m 39s\tremaining: 3m 2s\n",
      "354:\tlearn: 1257.0903206\ttotal: 1m 40s\tremaining: 3m 1s\n",
      "355:\tlearn: 1256.7196205\ttotal: 1m 40s\tremaining: 3m 1s\n",
      "356:\tlearn: 1255.9143504\ttotal: 1m 40s\tremaining: 3m 1s\n",
      "357:\tlearn: 1255.7263427\ttotal: 1m 40s\tremaining: 3m\n",
      "358:\tlearn: 1255.2596902\ttotal: 1m 41s\tremaining: 3m\n",
      "359:\tlearn: 1255.2124512\ttotal: 1m 41s\tremaining: 3m\n",
      "360:\tlearn: 1254.5430124\ttotal: 1m 41s\tremaining: 2m 59s\n",
      "361:\tlearn: 1254.1747266\ttotal: 1m 41s\tremaining: 2m 59s\n",
      "362:\tlearn: 1253.5671181\ttotal: 1m 42s\tremaining: 2m 59s\n",
      "363:\tlearn: 1253.3402273\ttotal: 1m 42s\tremaining: 2m 58s\n",
      "364:\tlearn: 1253.1439754\ttotal: 1m 42s\tremaining: 2m 58s\n",
      "365:\tlearn: 1252.7875132\ttotal: 1m 42s\tremaining: 2m 58s\n",
      "366:\tlearn: 1252.2385248\ttotal: 1m 43s\tremaining: 2m 58s\n",
      "367:\tlearn: 1251.9579146\ttotal: 1m 43s\tremaining: 2m 57s\n",
      "368:\tlearn: 1251.7743287\ttotal: 1m 43s\tremaining: 2m 57s\n",
      "369:\tlearn: 1251.6850959\ttotal: 1m 44s\tremaining: 2m 57s\n",
      "370:\tlearn: 1250.7829002\ttotal: 1m 44s\tremaining: 2m 57s\n",
      "371:\tlearn: 1250.5305074\ttotal: 1m 44s\tremaining: 2m 56s\n",
      "372:\tlearn: 1250.4224763\ttotal: 1m 45s\tremaining: 2m 56s\n",
      "373:\tlearn: 1249.9780737\ttotal: 1m 45s\tremaining: 2m 56s\n",
      "374:\tlearn: 1249.7541579\ttotal: 1m 45s\tremaining: 2m 56s\n",
      "375:\tlearn: 1249.4909747\ttotal: 1m 46s\tremaining: 2m 55s\n",
      "376:\tlearn: 1249.3911206\ttotal: 1m 46s\tremaining: 2m 55s\n",
      "377:\tlearn: 1248.9454924\ttotal: 1m 46s\tremaining: 2m 55s\n",
      "378:\tlearn: 1248.6454912\ttotal: 1m 46s\tremaining: 2m 55s\n",
      "379:\tlearn: 1248.5059190\ttotal: 1m 47s\tremaining: 2m 55s\n",
      "380:\tlearn: 1248.3405908\ttotal: 1m 47s\tremaining: 2m 54s\n",
      "381:\tlearn: 1248.1846200\ttotal: 1m 47s\tremaining: 2m 54s\n",
      "382:\tlearn: 1247.8812423\ttotal: 1m 48s\tremaining: 2m 54s\n",
      "383:\tlearn: 1246.2479645\ttotal: 1m 48s\tremaining: 2m 54s\n",
      "384:\tlearn: 1246.0381231\ttotal: 1m 48s\tremaining: 2m 53s\n",
      "385:\tlearn: 1245.7482277\ttotal: 1m 49s\tremaining: 2m 53s\n",
      "386:\tlearn: 1245.2466570\ttotal: 1m 49s\tremaining: 2m 53s\n",
      "387:\tlearn: 1244.3717645\ttotal: 1m 49s\tremaining: 2m 53s\n",
      "388:\tlearn: 1244.1481297\ttotal: 1m 50s\tremaining: 2m 52s\n",
      "389:\tlearn: 1243.8216894\ttotal: 1m 50s\tremaining: 2m 52s\n",
      "390:\tlearn: 1243.6356690\ttotal: 1m 50s\tremaining: 2m 52s\n",
      "391:\tlearn: 1243.5202257\ttotal: 1m 50s\tremaining: 2m 51s\n",
      "392:\tlearn: 1243.4626390\ttotal: 1m 51s\tremaining: 2m 51s\n",
      "393:\tlearn: 1243.3909203\ttotal: 1m 51s\tremaining: 2m 51s\n",
      "394:\tlearn: 1242.9592718\ttotal: 1m 51s\tremaining: 2m 51s\n",
      "395:\tlearn: 1242.6743697\ttotal: 1m 52s\tremaining: 2m 50s\n",
      "396:\tlearn: 1242.4694025\ttotal: 1m 52s\tremaining: 2m 50s\n",
      "397:\tlearn: 1242.1616798\ttotal: 1m 52s\tremaining: 2m 50s\n",
      "398:\tlearn: 1241.5389720\ttotal: 1m 52s\tremaining: 2m 49s\n",
      "399:\tlearn: 1241.3362326\ttotal: 1m 53s\tremaining: 2m 49s\n",
      "400:\tlearn: 1241.1157873\ttotal: 1m 53s\tremaining: 2m 49s\n",
      "401:\tlearn: 1239.3660791\ttotal: 1m 53s\tremaining: 2m 49s\n",
      "402:\tlearn: 1239.1364316\ttotal: 1m 54s\tremaining: 2m 48s\n",
      "403:\tlearn: 1238.5041229\ttotal: 1m 54s\tremaining: 2m 48s\n",
      "404:\tlearn: 1238.3015667\ttotal: 1m 54s\tremaining: 2m 48s\n",
      "405:\tlearn: 1238.0128264\ttotal: 1m 54s\tremaining: 2m 48s\n",
      "406:\tlearn: 1237.7369136\ttotal: 1m 55s\tremaining: 2m 47s\n",
      "407:\tlearn: 1237.6420870\ttotal: 1m 55s\tremaining: 2m 47s\n",
      "408:\tlearn: 1237.4748275\ttotal: 1m 55s\tremaining: 2m 47s\n",
      "409:\tlearn: 1237.0227362\ttotal: 1m 56s\tremaining: 2m 47s\n",
      "410:\tlearn: 1236.7097773\ttotal: 1m 56s\tremaining: 2m 46s\n",
      "411:\tlearn: 1236.4388385\ttotal: 1m 56s\tremaining: 2m 46s\n",
      "412:\tlearn: 1235.9783214\ttotal: 1m 56s\tremaining: 2m 46s\n",
      "413:\tlearn: 1235.4604421\ttotal: 1m 57s\tremaining: 2m 46s\n",
      "414:\tlearn: 1235.4218264\ttotal: 1m 57s\tremaining: 2m 45s\n",
      "415:\tlearn: 1234.9753734\ttotal: 1m 57s\tremaining: 2m 45s\n",
      "416:\tlearn: 1234.7798879\ttotal: 1m 58s\tremaining: 2m 45s\n",
      "417:\tlearn: 1234.3873918\ttotal: 1m 58s\tremaining: 2m 44s\n",
      "418:\tlearn: 1234.1609027\ttotal: 1m 58s\tremaining: 2m 44s\n",
      "419:\tlearn: 1233.7776208\ttotal: 1m 59s\tremaining: 2m 44s\n",
      "420:\tlearn: 1233.2968500\ttotal: 1m 59s\tremaining: 2m 44s\n",
      "421:\tlearn: 1232.3846367\ttotal: 1m 59s\tremaining: 2m 43s\n",
      "422:\tlearn: 1232.0059672\ttotal: 1m 59s\tremaining: 2m 43s\n",
      "423:\tlearn: 1231.6305179\ttotal: 2m\tremaining: 2m 43s\n",
      "424:\tlearn: 1231.0637734\ttotal: 2m\tremaining: 2m 43s\n",
      "425:\tlearn: 1230.1947095\ttotal: 2m\tremaining: 2m 42s\n",
      "426:\tlearn: 1229.8523048\ttotal: 2m 1s\tremaining: 2m 42s\n",
      "427:\tlearn: 1229.4286197\ttotal: 2m 1s\tremaining: 2m 42s\n",
      "428:\tlearn: 1229.3063621\ttotal: 2m 1s\tremaining: 2m 42s\n",
      "429:\tlearn: 1229.0907846\ttotal: 2m 2s\tremaining: 2m 41s\n",
      "430:\tlearn: 1228.9990526\ttotal: 2m 2s\tremaining: 2m 41s\n",
      "431:\tlearn: 1228.5882954\ttotal: 2m 2s\tremaining: 2m 41s\n",
      "432:\tlearn: 1228.3203493\ttotal: 2m 3s\tremaining: 2m 41s\n",
      "433:\tlearn: 1228.0402211\ttotal: 2m 3s\tremaining: 2m 41s\n",
      "434:\tlearn: 1227.6236470\ttotal: 2m 3s\tremaining: 2m 40s\n",
      "435:\tlearn: 1227.3450858\ttotal: 2m 4s\tremaining: 2m 40s\n",
      "436:\tlearn: 1227.0559767\ttotal: 2m 4s\tremaining: 2m 40s\n",
      "437:\tlearn: 1226.9055944\ttotal: 2m 4s\tremaining: 2m 40s\n",
      "438:\tlearn: 1226.5242265\ttotal: 2m 5s\tremaining: 2m 39s\n",
      "439:\tlearn: 1226.2847062\ttotal: 2m 5s\tremaining: 2m 39s\n",
      "440:\tlearn: 1226.1345565\ttotal: 2m 5s\tremaining: 2m 39s\n",
      "441:\tlearn: 1225.7315013\ttotal: 2m 6s\tremaining: 2m 39s\n",
      "442:\tlearn: 1225.5141080\ttotal: 2m 6s\tremaining: 2m 38s\n",
      "443:\tlearn: 1225.3099184\ttotal: 2m 6s\tremaining: 2m 38s\n",
      "444:\tlearn: 1225.1702024\ttotal: 2m 6s\tremaining: 2m 38s\n",
      "445:\tlearn: 1224.6991217\ttotal: 2m 7s\tremaining: 2m 37s\n",
      "446:\tlearn: 1224.3910905\ttotal: 2m 7s\tremaining: 2m 37s\n",
      "447:\tlearn: 1223.7658523\ttotal: 2m 7s\tremaining: 2m 37s\n",
      "448:\tlearn: 1223.4446190\ttotal: 2m 8s\tremaining: 2m 37s\n",
      "449:\tlearn: 1223.1382586\ttotal: 2m 8s\tremaining: 2m 36s\n",
      "450:\tlearn: 1222.2654334\ttotal: 2m 8s\tremaining: 2m 36s\n",
      "451:\tlearn: 1222.0116090\ttotal: 2m 8s\tremaining: 2m 36s\n",
      "452:\tlearn: 1221.6286356\ttotal: 2m 9s\tremaining: 2m 35s\n",
      "453:\tlearn: 1221.2759151\ttotal: 2m 9s\tremaining: 2m 35s\n",
      "454:\tlearn: 1220.9679127\ttotal: 2m 9s\tremaining: 2m 35s\n",
      "455:\tlearn: 1220.6046696\ttotal: 2m 9s\tremaining: 2m 35s\n",
      "456:\tlearn: 1220.3447239\ttotal: 2m 10s\tremaining: 2m 34s\n",
      "457:\tlearn: 1219.9539088\ttotal: 2m 10s\tremaining: 2m 34s\n",
      "458:\tlearn: 1219.3008979\ttotal: 2m 10s\tremaining: 2m 34s\n",
      "459:\tlearn: 1219.0458815\ttotal: 2m 11s\tremaining: 2m 33s\n",
      "460:\tlearn: 1218.9525720\ttotal: 2m 11s\tremaining: 2m 33s\n",
      "461:\tlearn: 1218.7759709\ttotal: 2m 11s\tremaining: 2m 33s\n",
      "462:\tlearn: 1218.6871881\ttotal: 2m 12s\tremaining: 2m 33s\n",
      "463:\tlearn: 1218.6587228\ttotal: 2m 12s\tremaining: 2m 32s\n",
      "464:\tlearn: 1218.1340741\ttotal: 2m 12s\tremaining: 2m 32s\n",
      "465:\tlearn: 1218.0254208\ttotal: 2m 12s\tremaining: 2m 32s\n",
      "466:\tlearn: 1217.8362064\ttotal: 2m 13s\tremaining: 2m 31s\n",
      "467:\tlearn: 1217.5261662\ttotal: 2m 13s\tremaining: 2m 31s\n",
      "468:\tlearn: 1217.3572539\ttotal: 2m 13s\tremaining: 2m 31s\n",
      "469:\tlearn: 1217.0216232\ttotal: 2m 13s\tremaining: 2m 31s\n",
      "470:\tlearn: 1216.8908916\ttotal: 2m 14s\tremaining: 2m 30s\n",
      "471:\tlearn: 1216.6539917\ttotal: 2m 14s\tremaining: 2m 30s\n",
      "472:\tlearn: 1216.3794424\ttotal: 2m 14s\tremaining: 2m 30s\n",
      "473:\tlearn: 1216.2140469\ttotal: 2m 15s\tremaining: 2m 29s\n",
      "474:\tlearn: 1216.1179842\ttotal: 2m 15s\tremaining: 2m 29s\n",
      "475:\tlearn: 1216.1022208\ttotal: 2m 15s\tremaining: 2m 29s\n",
      "476:\tlearn: 1215.8335807\ttotal: 2m 15s\tremaining: 2m 29s\n",
      "477:\tlearn: 1215.6854971\ttotal: 2m 16s\tremaining: 2m 28s\n",
      "478:\tlearn: 1214.8059788\ttotal: 2m 16s\tremaining: 2m 28s\n",
      "479:\tlearn: 1214.2933239\ttotal: 2m 16s\tremaining: 2m 28s\n",
      "480:\tlearn: 1214.2294499\ttotal: 2m 17s\tremaining: 2m 27s\n",
      "481:\tlearn: 1214.2006478\ttotal: 2m 17s\tremaining: 2m 27s\n",
      "482:\tlearn: 1213.7230062\ttotal: 2m 17s\tremaining: 2m 27s\n",
      "483:\tlearn: 1213.6226686\ttotal: 2m 17s\tremaining: 2m 27s\n",
      "484:\tlearn: 1213.3452837\ttotal: 2m 18s\tremaining: 2m 26s\n",
      "485:\tlearn: 1213.0453125\ttotal: 2m 18s\tremaining: 2m 26s\n",
      "486:\tlearn: 1212.3444496\ttotal: 2m 18s\tremaining: 2m 26s\n",
      "487:\tlearn: 1212.2054382\ttotal: 2m 19s\tremaining: 2m 25s\n",
      "488:\tlearn: 1211.6730322\ttotal: 2m 19s\tremaining: 2m 25s\n",
      "489:\tlearn: 1211.3822778\ttotal: 2m 19s\tremaining: 2m 25s\n",
      "490:\tlearn: 1211.0517020\ttotal: 2m 19s\tremaining: 2m 25s\n",
      "491:\tlearn: 1210.9404542\ttotal: 2m 20s\tremaining: 2m 24s\n",
      "492:\tlearn: 1210.6039286\ttotal: 2m 20s\tremaining: 2m 24s\n",
      "493:\tlearn: 1210.2820605\ttotal: 2m 20s\tremaining: 2m 24s\n",
      "494:\tlearn: 1209.9870671\ttotal: 2m 21s\tremaining: 2m 23s\n",
      "495:\tlearn: 1209.8204357\ttotal: 2m 21s\tremaining: 2m 23s\n",
      "496:\tlearn: 1209.6291971\ttotal: 2m 21s\tremaining: 2m 23s\n",
      "497:\tlearn: 1208.9683344\ttotal: 2m 21s\tremaining: 2m 22s\n",
      "498:\tlearn: 1208.6814047\ttotal: 2m 22s\tremaining: 2m 22s\n",
      "499:\tlearn: 1208.4860172\ttotal: 2m 22s\tremaining: 2m 22s\n",
      "500:\tlearn: 1207.7388508\ttotal: 2m 22s\tremaining: 2m 22s\n",
      "501:\tlearn: 1207.6180583\ttotal: 2m 23s\tremaining: 2m 22s\n",
      "502:\tlearn: 1207.4002482\ttotal: 2m 23s\tremaining: 2m 21s\n",
      "503:\tlearn: 1207.2356224\ttotal: 2m 23s\tremaining: 2m 21s\n",
      "504:\tlearn: 1206.3341999\ttotal: 2m 24s\tremaining: 2m 21s\n",
      "505:\tlearn: 1205.9506620\ttotal: 2m 24s\tremaining: 2m 20s\n",
      "506:\tlearn: 1205.7560179\ttotal: 2m 24s\tremaining: 2m 20s\n",
      "507:\tlearn: 1205.6114677\ttotal: 2m 24s\tremaining: 2m 20s\n",
      "508:\tlearn: 1205.3232911\ttotal: 2m 25s\tremaining: 2m 20s\n",
      "509:\tlearn: 1205.1907958\ttotal: 2m 25s\tremaining: 2m 19s\n",
      "510:\tlearn: 1204.9501596\ttotal: 2m 25s\tremaining: 2m 19s\n",
      "511:\tlearn: 1204.7929943\ttotal: 2m 26s\tremaining: 2m 19s\n",
      "512:\tlearn: 1204.6588583\ttotal: 2m 26s\tremaining: 2m 19s\n",
      "513:\tlearn: 1204.3846050\ttotal: 2m 27s\tremaining: 2m 19s\n",
      "514:\tlearn: 1204.1904116\ttotal: 2m 27s\tremaining: 2m 18s\n",
      "515:\tlearn: 1203.8388326\ttotal: 2m 27s\tremaining: 2m 18s\n",
      "516:\tlearn: 1203.7826551\ttotal: 2m 27s\tremaining: 2m 18s\n",
      "517:\tlearn: 1203.4402879\ttotal: 2m 28s\tremaining: 2m 17s\n",
      "518:\tlearn: 1203.2141516\ttotal: 2m 28s\tremaining: 2m 17s\n",
      "519:\tlearn: 1202.9861818\ttotal: 2m 28s\tremaining: 2m 17s\n",
      "520:\tlearn: 1202.9623401\ttotal: 2m 28s\tremaining: 2m 16s\n",
      "521:\tlearn: 1202.7847168\ttotal: 2m 29s\tremaining: 2m 16s\n",
      "522:\tlearn: 1202.1061349\ttotal: 2m 29s\tremaining: 2m 16s\n",
      "523:\tlearn: 1201.6996500\ttotal: 2m 29s\tremaining: 2m 16s\n",
      "524:\tlearn: 1201.6420581\ttotal: 2m 30s\tremaining: 2m 15s\n",
      "525:\tlearn: 1201.2487896\ttotal: 2m 30s\tremaining: 2m 15s\n",
      "526:\tlearn: 1201.0850604\ttotal: 2m 30s\tremaining: 2m 15s\n",
      "527:\tlearn: 1200.7255712\ttotal: 2m 30s\tremaining: 2m 14s\n",
      "528:\tlearn: 1199.8883456\ttotal: 2m 31s\tremaining: 2m 14s\n",
      "529:\tlearn: 1199.4193013\ttotal: 2m 31s\tremaining: 2m 14s\n",
      "530:\tlearn: 1199.1715691\ttotal: 2m 31s\tremaining: 2m 14s\n",
      "531:\tlearn: 1198.9563627\ttotal: 2m 32s\tremaining: 2m 13s\n",
      "532:\tlearn: 1198.2769354\ttotal: 2m 32s\tremaining: 2m 13s\n",
      "533:\tlearn: 1197.8057088\ttotal: 2m 32s\tremaining: 2m 13s\n",
      "534:\tlearn: 1197.6253113\ttotal: 2m 32s\tremaining: 2m 12s\n",
      "535:\tlearn: 1197.2259639\ttotal: 2m 33s\tremaining: 2m 12s\n",
      "536:\tlearn: 1197.0943061\ttotal: 2m 33s\tremaining: 2m 12s\n",
      "537:\tlearn: 1196.4637354\ttotal: 2m 33s\tremaining: 2m 11s\n",
      "538:\tlearn: 1196.3662913\ttotal: 2m 34s\tremaining: 2m 11s\n",
      "539:\tlearn: 1195.6975224\ttotal: 2m 34s\tremaining: 2m 11s\n",
      "540:\tlearn: 1195.2728241\ttotal: 2m 34s\tremaining: 2m 11s\n",
      "541:\tlearn: 1194.9142083\ttotal: 2m 34s\tremaining: 2m 10s\n",
      "542:\tlearn: 1194.7840221\ttotal: 2m 35s\tremaining: 2m 10s\n",
      "543:\tlearn: 1194.5029606\ttotal: 2m 35s\tremaining: 2m 10s\n",
      "544:\tlearn: 1193.9273782\ttotal: 2m 35s\tremaining: 2m 9s\n",
      "545:\tlearn: 1193.6625494\ttotal: 2m 35s\tremaining: 2m 9s\n",
      "546:\tlearn: 1193.3081498\ttotal: 2m 36s\tremaining: 2m 9s\n",
      "547:\tlearn: 1193.2027811\ttotal: 2m 36s\tremaining: 2m 9s\n",
      "548:\tlearn: 1192.7924459\ttotal: 2m 36s\tremaining: 2m 8s\n",
      "549:\tlearn: 1192.2509982\ttotal: 2m 37s\tremaining: 2m 8s\n",
      "550:\tlearn: 1192.1872702\ttotal: 2m 37s\tremaining: 2m 8s\n",
      "551:\tlearn: 1192.1253720\ttotal: 2m 37s\tremaining: 2m 7s\n",
      "552:\tlearn: 1191.7104077\ttotal: 2m 37s\tremaining: 2m 7s\n",
      "553:\tlearn: 1190.4294500\ttotal: 2m 38s\tremaining: 2m 7s\n",
      "554:\tlearn: 1189.9121702\ttotal: 2m 38s\tremaining: 2m 7s\n",
      "555:\tlearn: 1189.6507419\ttotal: 2m 38s\tremaining: 2m 6s\n",
      "556:\tlearn: 1189.3860439\ttotal: 2m 38s\tremaining: 2m 6s\n",
      "557:\tlearn: 1189.2153593\ttotal: 2m 39s\tremaining: 2m 6s\n",
      "558:\tlearn: 1188.7107570\ttotal: 2m 39s\tremaining: 2m 5s\n",
      "559:\tlearn: 1188.5831750\ttotal: 2m 39s\tremaining: 2m 5s\n",
      "560:\tlearn: 1188.1451048\ttotal: 2m 40s\tremaining: 2m 5s\n",
      "561:\tlearn: 1187.9543242\ttotal: 2m 40s\tremaining: 2m 4s\n",
      "562:\tlearn: 1187.4107617\ttotal: 2m 40s\tremaining: 2m 4s\n",
      "563:\tlearn: 1187.1390750\ttotal: 2m 40s\tremaining: 2m 4s\n",
      "564:\tlearn: 1186.7509895\ttotal: 2m 41s\tremaining: 2m 4s\n",
      "565:\tlearn: 1186.4050396\ttotal: 2m 41s\tremaining: 2m 3s\n",
      "566:\tlearn: 1186.0713446\ttotal: 2m 41s\tremaining: 2m 3s\n",
      "567:\tlearn: 1185.5169716\ttotal: 2m 42s\tremaining: 2m 3s\n",
      "568:\tlearn: 1185.3613242\ttotal: 2m 42s\tremaining: 2m 2s\n",
      "569:\tlearn: 1184.5080223\ttotal: 2m 42s\tremaining: 2m 2s\n",
      "570:\tlearn: 1184.4142222\ttotal: 2m 42s\tremaining: 2m 2s\n",
      "571:\tlearn: 1184.3130822\ttotal: 2m 43s\tremaining: 2m 2s\n",
      "572:\tlearn: 1184.2031085\ttotal: 2m 43s\tremaining: 2m 1s\n",
      "573:\tlearn: 1184.0620262\ttotal: 2m 43s\tremaining: 2m 1s\n",
      "574:\tlearn: 1183.7110747\ttotal: 2m 44s\tremaining: 2m 1s\n",
      "575:\tlearn: 1183.5079929\ttotal: 2m 44s\tremaining: 2m 1s\n",
      "576:\tlearn: 1183.4394853\ttotal: 2m 44s\tremaining: 2m\n",
      "577:\tlearn: 1182.9208922\ttotal: 2m 45s\tremaining: 2m\n",
      "578:\tlearn: 1182.4859661\ttotal: 2m 45s\tremaining: 2m\n",
      "579:\tlearn: 1182.3518052\ttotal: 2m 45s\tremaining: 2m\n",
      "580:\tlearn: 1181.9156890\ttotal: 2m 46s\tremaining: 1m 59s\n",
      "581:\tlearn: 1181.6759506\ttotal: 2m 46s\tremaining: 1m 59s\n",
      "582:\tlearn: 1181.3765570\ttotal: 2m 46s\tremaining: 1m 59s\n",
      "583:\tlearn: 1181.0863130\ttotal: 2m 46s\tremaining: 1m 58s\n",
      "584:\tlearn: 1181.0221910\ttotal: 2m 47s\tremaining: 1m 58s\n",
      "585:\tlearn: 1180.3408790\ttotal: 2m 47s\tremaining: 1m 58s\n",
      "586:\tlearn: 1180.1380441\ttotal: 2m 47s\tremaining: 1m 57s\n",
      "587:\tlearn: 1179.7857677\ttotal: 2m 47s\tremaining: 1m 57s\n",
      "588:\tlearn: 1179.4195355\ttotal: 2m 48s\tremaining: 1m 57s\n",
      "589:\tlearn: 1179.3459495\ttotal: 2m 48s\tremaining: 1m 57s\n",
      "590:\tlearn: 1179.0064544\ttotal: 2m 48s\tremaining: 1m 56s\n",
      "591:\tlearn: 1178.5496103\ttotal: 2m 49s\tremaining: 1m 56s\n",
      "592:\tlearn: 1178.2706305\ttotal: 2m 49s\tremaining: 1m 56s\n",
      "593:\tlearn: 1178.1965732\ttotal: 2m 49s\tremaining: 1m 56s\n",
      "594:\tlearn: 1177.9049310\ttotal: 2m 50s\tremaining: 1m 55s\n",
      "595:\tlearn: 1177.5923345\ttotal: 2m 50s\tremaining: 1m 55s\n",
      "596:\tlearn: 1177.3859638\ttotal: 2m 50s\tremaining: 1m 55s\n",
      "597:\tlearn: 1177.1413884\ttotal: 2m 50s\tremaining: 1m 54s\n",
      "598:\tlearn: 1176.6712953\ttotal: 2m 51s\tremaining: 1m 54s\n",
      "599:\tlearn: 1176.5301271\ttotal: 2m 51s\tremaining: 1m 54s\n",
      "600:\tlearn: 1176.2526564\ttotal: 2m 51s\tremaining: 1m 53s\n",
      "601:\tlearn: 1175.9786419\ttotal: 2m 51s\tremaining: 1m 53s\n",
      "602:\tlearn: 1175.8602847\ttotal: 2m 52s\tremaining: 1m 53s\n",
      "603:\tlearn: 1175.6133168\ttotal: 2m 52s\tremaining: 1m 53s\n",
      "604:\tlearn: 1175.3728352\ttotal: 2m 52s\tremaining: 1m 52s\n",
      "605:\tlearn: 1175.1098572\ttotal: 2m 53s\tremaining: 1m 52s\n",
      "606:\tlearn: 1174.7015059\ttotal: 2m 53s\tremaining: 1m 52s\n",
      "607:\tlearn: 1174.5712579\ttotal: 2m 53s\tremaining: 1m 51s\n",
      "608:\tlearn: 1174.1470283\ttotal: 2m 53s\tremaining: 1m 51s\n",
      "609:\tlearn: 1173.9143476\ttotal: 2m 54s\tremaining: 1m 51s\n",
      "610:\tlearn: 1173.4321996\ttotal: 2m 54s\tremaining: 1m 51s\n",
      "611:\tlearn: 1172.8115613\ttotal: 2m 54s\tremaining: 1m 50s\n",
      "612:\tlearn: 1172.5813146\ttotal: 2m 55s\tremaining: 1m 50s\n",
      "613:\tlearn: 1172.4037633\ttotal: 2m 55s\tremaining: 1m 50s\n",
      "614:\tlearn: 1172.2904224\ttotal: 2m 55s\tremaining: 1m 50s\n",
      "615:\tlearn: 1172.2022500\ttotal: 2m 56s\tremaining: 1m 49s\n",
      "616:\tlearn: 1171.6852914\ttotal: 2m 56s\tremaining: 1m 49s\n",
      "617:\tlearn: 1171.4882310\ttotal: 2m 56s\tremaining: 1m 49s\n",
      "618:\tlearn: 1171.2796314\ttotal: 2m 56s\tremaining: 1m 48s\n",
      "619:\tlearn: 1170.7644345\ttotal: 2m 56s\tremaining: 1m 48s\n",
      "620:\tlearn: 1170.0852016\ttotal: 2m 57s\tremaining: 1m 48s\n",
      "621:\tlearn: 1169.2797292\ttotal: 2m 57s\tremaining: 1m 47s\n",
      "622:\tlearn: 1168.8317862\ttotal: 2m 57s\tremaining: 1m 47s\n",
      "623:\tlearn: 1168.7130472\ttotal: 2m 58s\tremaining: 1m 47s\n",
      "624:\tlearn: 1168.6500576\ttotal: 2m 58s\tremaining: 1m 47s\n",
      "625:\tlearn: 1168.2641325\ttotal: 2m 58s\tremaining: 1m 46s\n",
      "626:\tlearn: 1167.9031338\ttotal: 2m 59s\tremaining: 1m 46s\n",
      "627:\tlearn: 1167.8238365\ttotal: 2m 59s\tremaining: 1m 46s\n",
      "628:\tlearn: 1167.7136596\ttotal: 2m 59s\tremaining: 1m 45s\n",
      "629:\tlearn: 1167.5269704\ttotal: 3m\tremaining: 1m 45s\n",
      "630:\tlearn: 1167.2636375\ttotal: 3m\tremaining: 1m 45s\n",
      "631:\tlearn: 1167.1953111\ttotal: 3m\tremaining: 1m 45s\n",
      "632:\tlearn: 1166.7753652\ttotal: 3m\tremaining: 1m 44s\n",
      "633:\tlearn: 1166.6952427\ttotal: 3m 1s\tremaining: 1m 44s\n",
      "634:\tlearn: 1166.6366520\ttotal: 3m 1s\tremaining: 1m 44s\n",
      "635:\tlearn: 1166.4106000\ttotal: 3m 1s\tremaining: 1m 43s\n",
      "636:\tlearn: 1166.0676154\ttotal: 3m 2s\tremaining: 1m 43s\n",
      "637:\tlearn: 1165.9904438\ttotal: 3m 2s\tremaining: 1m 43s\n",
      "638:\tlearn: 1165.3667486\ttotal: 3m 2s\tremaining: 1m 43s\n",
      "639:\tlearn: 1165.1314915\ttotal: 3m 2s\tremaining: 1m 42s\n",
      "640:\tlearn: 1165.0388120\ttotal: 3m 3s\tremaining: 1m 42s\n",
      "641:\tlearn: 1165.0248683\ttotal: 3m 3s\tremaining: 1m 42s\n",
      "642:\tlearn: 1164.7863858\ttotal: 3m 3s\tremaining: 1m 42s\n",
      "643:\tlearn: 1164.5193473\ttotal: 3m 3s\tremaining: 1m 41s\n",
      "644:\tlearn: 1164.0861863\ttotal: 3m 4s\tremaining: 1m 41s\n",
      "645:\tlearn: 1163.9800543\ttotal: 3m 4s\tremaining: 1m 41s\n",
      "646:\tlearn: 1163.3165084\ttotal: 3m 4s\tremaining: 1m 40s\n",
      "647:\tlearn: 1163.0326598\ttotal: 3m 5s\tremaining: 1m 40s\n",
      "648:\tlearn: 1162.8812566\ttotal: 3m 5s\tremaining: 1m 40s\n",
      "649:\tlearn: 1162.1125016\ttotal: 3m 5s\tremaining: 1m 39s\n",
      "650:\tlearn: 1161.8412125\ttotal: 3m 5s\tremaining: 1m 39s\n",
      "651:\tlearn: 1161.4966724\ttotal: 3m 6s\tremaining: 1m 39s\n",
      "652:\tlearn: 1161.4366733\ttotal: 3m 6s\tremaining: 1m 39s\n",
      "653:\tlearn: 1161.2865410\ttotal: 3m 6s\tremaining: 1m 38s\n",
      "654:\tlearn: 1161.1290135\ttotal: 3m 7s\tremaining: 1m 38s\n",
      "655:\tlearn: 1160.6391975\ttotal: 3m 7s\tremaining: 1m 38s\n",
      "656:\tlearn: 1160.3819367\ttotal: 3m 7s\tremaining: 1m 38s\n",
      "657:\tlearn: 1160.2346129\ttotal: 3m 8s\tremaining: 1m 37s\n",
      "658:\tlearn: 1160.1319501\ttotal: 3m 8s\tremaining: 1m 37s\n",
      "659:\tlearn: 1160.0293626\ttotal: 3m 8s\tremaining: 1m 37s\n",
      "660:\tlearn: 1159.8174379\ttotal: 3m 8s\tremaining: 1m 36s\n",
      "661:\tlearn: 1159.5616620\ttotal: 3m 9s\tremaining: 1m 36s\n",
      "662:\tlearn: 1159.4959176\ttotal: 3m 9s\tremaining: 1m 36s\n",
      "663:\tlearn: 1159.2347120\ttotal: 3m 9s\tremaining: 1m 36s\n",
      "664:\tlearn: 1159.1427223\ttotal: 3m 10s\tremaining: 1m 35s\n",
      "665:\tlearn: 1158.9539188\ttotal: 3m 10s\tremaining: 1m 35s\n",
      "666:\tlearn: 1158.9031871\ttotal: 3m 10s\tremaining: 1m 35s\n",
      "667:\tlearn: 1158.7408103\ttotal: 3m 11s\tremaining: 1m 34s\n",
      "668:\tlearn: 1158.6789257\ttotal: 3m 11s\tremaining: 1m 34s\n",
      "669:\tlearn: 1158.5370715\ttotal: 3m 11s\tremaining: 1m 34s\n",
      "670:\tlearn: 1158.4138810\ttotal: 3m 11s\tremaining: 1m 34s\n",
      "671:\tlearn: 1158.2056735\ttotal: 3m 12s\tremaining: 1m 33s\n",
      "672:\tlearn: 1158.0418174\ttotal: 3m 12s\tremaining: 1m 33s\n",
      "673:\tlearn: 1157.9214943\ttotal: 3m 12s\tremaining: 1m 33s\n",
      "674:\tlearn: 1157.6380333\ttotal: 3m 13s\tremaining: 1m 32s\n",
      "675:\tlearn: 1157.5012996\ttotal: 3m 13s\tremaining: 1m 32s\n",
      "676:\tlearn: 1157.3293078\ttotal: 3m 13s\tremaining: 1m 32s\n",
      "677:\tlearn: 1157.1742656\ttotal: 3m 13s\tremaining: 1m 32s\n",
      "678:\tlearn: 1156.9584570\ttotal: 3m 14s\tremaining: 1m 31s\n",
      "679:\tlearn: 1156.4188461\ttotal: 3m 14s\tremaining: 1m 31s\n",
      "680:\tlearn: 1155.9526886\ttotal: 3m 14s\tremaining: 1m 31s\n",
      "681:\tlearn: 1155.6922808\ttotal: 3m 14s\tremaining: 1m 30s\n",
      "682:\tlearn: 1155.5813373\ttotal: 3m 15s\tremaining: 1m 30s\n",
      "683:\tlearn: 1155.3479878\ttotal: 3m 15s\tremaining: 1m 30s\n",
      "684:\tlearn: 1154.8653936\ttotal: 3m 15s\tremaining: 1m 30s\n",
      "685:\tlearn: 1154.7805082\ttotal: 3m 16s\tremaining: 1m 29s\n",
      "686:\tlearn: 1154.6321221\ttotal: 3m 16s\tremaining: 1m 29s\n",
      "687:\tlearn: 1154.2757720\ttotal: 3m 16s\tremaining: 1m 29s\n",
      "688:\tlearn: 1153.9555491\ttotal: 3m 16s\tremaining: 1m 28s\n",
      "689:\tlearn: 1153.8439422\ttotal: 3m 17s\tremaining: 1m 28s\n",
      "690:\tlearn: 1153.6909080\ttotal: 3m 17s\tremaining: 1m 28s\n",
      "691:\tlearn: 1153.3294324\ttotal: 3m 17s\tremaining: 1m 28s\n",
      "692:\tlearn: 1153.0116240\ttotal: 3m 18s\tremaining: 1m 27s\n",
      "693:\tlearn: 1152.6040335\ttotal: 3m 18s\tremaining: 1m 27s\n",
      "694:\tlearn: 1152.2901290\ttotal: 3m 18s\tremaining: 1m 27s\n",
      "695:\tlearn: 1151.8286427\ttotal: 3m 18s\tremaining: 1m 26s\n",
      "696:\tlearn: 1151.7192267\ttotal: 3m 19s\tremaining: 1m 26s\n",
      "697:\tlearn: 1151.4657864\ttotal: 3m 19s\tremaining: 1m 26s\n",
      "698:\tlearn: 1150.9695340\ttotal: 3m 19s\tremaining: 1m 26s\n",
      "699:\tlearn: 1150.7407561\ttotal: 3m 20s\tremaining: 1m 25s\n",
      "700:\tlearn: 1150.7039265\ttotal: 3m 20s\tremaining: 1m 25s\n",
      "701:\tlearn: 1150.6739506\ttotal: 3m 20s\tremaining: 1m 25s\n",
      "702:\tlearn: 1150.0803503\ttotal: 3m 20s\tremaining: 1m 24s\n",
      "703:\tlearn: 1149.6867343\ttotal: 3m 21s\tremaining: 1m 24s\n",
      "704:\tlearn: 1149.5668605\ttotal: 3m 21s\tremaining: 1m 24s\n",
      "705:\tlearn: 1149.3891933\ttotal: 3m 21s\tremaining: 1m 24s\n",
      "706:\tlearn: 1149.0937972\ttotal: 3m 21s\tremaining: 1m 23s\n",
      "707:\tlearn: 1148.8730584\ttotal: 3m 22s\tremaining: 1m 23s\n",
      "708:\tlearn: 1148.6558100\ttotal: 3m 22s\tremaining: 1m 23s\n",
      "709:\tlearn: 1148.4433493\ttotal: 3m 22s\tremaining: 1m 22s\n",
      "710:\tlearn: 1148.1964136\ttotal: 3m 23s\tremaining: 1m 22s\n",
      "711:\tlearn: 1148.0211205\ttotal: 3m 23s\tremaining: 1m 22s\n",
      "712:\tlearn: 1147.7516449\ttotal: 3m 23s\tremaining: 1m 21s\n",
      "713:\tlearn: 1147.5706781\ttotal: 3m 23s\tremaining: 1m 21s\n",
      "714:\tlearn: 1147.3311847\ttotal: 3m 24s\tremaining: 1m 21s\n",
      "715:\tlearn: 1147.2427987\ttotal: 3m 24s\tremaining: 1m 21s\n",
      "716:\tlearn: 1146.7667565\ttotal: 3m 24s\tremaining: 1m 20s\n",
      "717:\tlearn: 1146.7175066\ttotal: 3m 24s\tremaining: 1m 20s\n",
      "718:\tlearn: 1146.2409115\ttotal: 3m 25s\tremaining: 1m 20s\n",
      "719:\tlearn: 1145.9315282\ttotal: 3m 25s\tremaining: 1m 19s\n",
      "720:\tlearn: 1145.8802553\ttotal: 3m 25s\tremaining: 1m 19s\n",
      "721:\tlearn: 1145.6477183\ttotal: 3m 26s\tremaining: 1m 19s\n",
      "722:\tlearn: 1145.5681267\ttotal: 3m 26s\tremaining: 1m 19s\n",
      "723:\tlearn: 1145.4978531\ttotal: 3m 26s\tremaining: 1m 18s\n",
      "724:\tlearn: 1145.2465615\ttotal: 3m 27s\tremaining: 1m 18s\n",
      "725:\tlearn: 1145.0991779\ttotal: 3m 27s\tremaining: 1m 18s\n",
      "726:\tlearn: 1144.6418725\ttotal: 3m 27s\tremaining: 1m 17s\n",
      "727:\tlearn: 1144.3539768\ttotal: 3m 27s\tremaining: 1m 17s\n",
      "728:\tlearn: 1144.1236898\ttotal: 3m 28s\tremaining: 1m 17s\n",
      "729:\tlearn: 1143.9938303\ttotal: 3m 28s\tremaining: 1m 17s\n",
      "730:\tlearn: 1143.8837709\ttotal: 3m 28s\tremaining: 1m 16s\n",
      "731:\tlearn: 1143.5612041\ttotal: 3m 29s\tremaining: 1m 16s\n",
      "732:\tlearn: 1143.3673092\ttotal: 3m 29s\tremaining: 1m 16s\n",
      "733:\tlearn: 1143.2762285\ttotal: 3m 29s\tremaining: 1m 16s\n",
      "734:\tlearn: 1143.2159732\ttotal: 3m 30s\tremaining: 1m 15s\n",
      "735:\tlearn: 1142.9064584\ttotal: 3m 30s\tremaining: 1m 15s\n",
      "736:\tlearn: 1142.1094984\ttotal: 3m 30s\tremaining: 1m 15s\n",
      "737:\tlearn: 1142.0220909\ttotal: 3m 30s\tremaining: 1m 14s\n",
      "738:\tlearn: 1141.6157064\ttotal: 3m 31s\tremaining: 1m 14s\n",
      "739:\tlearn: 1141.5038045\ttotal: 3m 31s\tremaining: 1m 14s\n",
      "740:\tlearn: 1141.2724052\ttotal: 3m 31s\tremaining: 1m 14s\n",
      "741:\tlearn: 1140.6918396\ttotal: 3m 32s\tremaining: 1m 13s\n",
      "742:\tlearn: 1140.4944278\ttotal: 3m 32s\tremaining: 1m 13s\n",
      "743:\tlearn: 1140.2992844\ttotal: 3m 32s\tremaining: 1m 13s\n",
      "744:\tlearn: 1140.0311317\ttotal: 3m 33s\tremaining: 1m 12s\n",
      "745:\tlearn: 1139.8010950\ttotal: 3m 33s\tremaining: 1m 12s\n",
      "746:\tlearn: 1139.7317128\ttotal: 3m 33s\tremaining: 1m 12s\n",
      "747:\tlearn: 1139.6620806\ttotal: 3m 33s\tremaining: 1m 12s\n",
      "748:\tlearn: 1139.5682693\ttotal: 3m 34s\tremaining: 1m 11s\n",
      "749:\tlearn: 1139.3919111\ttotal: 3m 34s\tremaining: 1m 11s\n",
      "750:\tlearn: 1138.8299656\ttotal: 3m 34s\tremaining: 1m 11s\n",
      "751:\tlearn: 1138.7894704\ttotal: 3m 35s\tremaining: 1m 10s\n",
      "752:\tlearn: 1138.6900026\ttotal: 3m 35s\tremaining: 1m 10s\n",
      "753:\tlearn: 1138.2341760\ttotal: 3m 35s\tremaining: 1m 10s\n",
      "754:\tlearn: 1138.1266651\ttotal: 3m 35s\tremaining: 1m 10s\n",
      "755:\tlearn: 1137.9155794\ttotal: 3m 36s\tremaining: 1m 9s\n",
      "756:\tlearn: 1137.7264509\ttotal: 3m 36s\tremaining: 1m 9s\n",
      "757:\tlearn: 1137.4701843\ttotal: 3m 36s\tremaining: 1m 9s\n",
      "758:\tlearn: 1137.2640565\ttotal: 3m 36s\tremaining: 1m 8s\n",
      "759:\tlearn: 1137.0849944\ttotal: 3m 37s\tremaining: 1m 8s\n",
      "760:\tlearn: 1136.9104388\ttotal: 3m 37s\tremaining: 1m 8s\n",
      "761:\tlearn: 1136.6729306\ttotal: 3m 37s\tremaining: 1m 7s\n",
      "762:\tlearn: 1136.5978333\ttotal: 3m 37s\tremaining: 1m 7s\n",
      "763:\tlearn: 1136.4850456\ttotal: 3m 38s\tremaining: 1m 7s\n",
      "764:\tlearn: 1136.4285882\ttotal: 3m 38s\tremaining: 1m 7s\n",
      "765:\tlearn: 1136.3256436\ttotal: 3m 38s\tremaining: 1m 6s\n",
      "766:\tlearn: 1135.4924916\ttotal: 3m 39s\tremaining: 1m 6s\n",
      "767:\tlearn: 1135.1423974\ttotal: 3m 39s\tremaining: 1m 6s\n",
      "768:\tlearn: 1134.8216572\ttotal: 3m 39s\tremaining: 1m 5s\n",
      "769:\tlearn: 1134.7120488\ttotal: 3m 39s\tremaining: 1m 5s\n",
      "770:\tlearn: 1134.5144326\ttotal: 3m 40s\tremaining: 1m 5s\n",
      "771:\tlearn: 1134.3201285\ttotal: 3m 40s\tremaining: 1m 5s\n",
      "772:\tlearn: 1134.1410675\ttotal: 3m 40s\tremaining: 1m 4s\n",
      "773:\tlearn: 1133.7721630\ttotal: 3m 41s\tremaining: 1m 4s\n",
      "774:\tlearn: 1133.6814363\ttotal: 3m 41s\tremaining: 1m 4s\n",
      "775:\tlearn: 1133.4632255\ttotal: 3m 41s\tremaining: 1m 4s\n",
      "776:\tlearn: 1133.4292454\ttotal: 3m 41s\tremaining: 1m 3s\n",
      "777:\tlearn: 1133.3331903\ttotal: 3m 42s\tremaining: 1m 3s\n",
      "778:\tlearn: 1133.2277733\ttotal: 3m 42s\tremaining: 1m 3s\n",
      "779:\tlearn: 1132.9608135\ttotal: 3m 42s\tremaining: 1m 2s\n",
      "780:\tlearn: 1132.7561078\ttotal: 3m 43s\tremaining: 1m 2s\n",
      "781:\tlearn: 1132.6420056\ttotal: 3m 43s\tremaining: 1m 2s\n",
      "782:\tlearn: 1132.4260083\ttotal: 3m 43s\tremaining: 1m 1s\n",
      "783:\tlearn: 1132.3405749\ttotal: 3m 43s\tremaining: 1m 1s\n",
      "784:\tlearn: 1132.1756060\ttotal: 3m 44s\tremaining: 1m 1s\n",
      "785:\tlearn: 1132.0384132\ttotal: 3m 44s\tremaining: 1m 1s\n",
      "786:\tlearn: 1131.8326539\ttotal: 3m 44s\tremaining: 1m\n",
      "787:\tlearn: 1131.7554791\ttotal: 3m 45s\tremaining: 1m\n",
      "788:\tlearn: 1131.4863082\ttotal: 3m 45s\tremaining: 1m\n",
      "789:\tlearn: 1131.3180623\ttotal: 3m 45s\tremaining: 1m\n",
      "790:\tlearn: 1131.0942681\ttotal: 3m 46s\tremaining: 59.7s\n",
      "791:\tlearn: 1130.8353986\ttotal: 3m 46s\tremaining: 59.4s\n",
      "792:\tlearn: 1130.6563681\ttotal: 3m 46s\tremaining: 59.2s\n",
      "793:\tlearn: 1130.5282600\ttotal: 3m 46s\tremaining: 58.9s\n",
      "794:\tlearn: 1130.4255227\ttotal: 3m 47s\tremaining: 58.6s\n",
      "795:\tlearn: 1130.3743686\ttotal: 3m 47s\tremaining: 58.3s\n",
      "796:\tlearn: 1130.2784813\ttotal: 3m 47s\tremaining: 58s\n",
      "797:\tlearn: 1130.1493326\ttotal: 3m 48s\tremaining: 57.7s\n",
      "798:\tlearn: 1129.7583574\ttotal: 3m 48s\tremaining: 57.5s\n",
      "799:\tlearn: 1129.4065103\ttotal: 3m 48s\tremaining: 57.2s\n",
      "800:\tlearn: 1129.3401601\ttotal: 3m 49s\tremaining: 56.9s\n",
      "801:\tlearn: 1129.2727901\ttotal: 3m 49s\tremaining: 56.6s\n",
      "802:\tlearn: 1128.7775188\ttotal: 3m 49s\tremaining: 56.3s\n",
      "803:\tlearn: 1128.6544770\ttotal: 3m 49s\tremaining: 56s\n",
      "804:\tlearn: 1128.5589362\ttotal: 3m 50s\tremaining: 55.8s\n",
      "805:\tlearn: 1128.1572844\ttotal: 3m 50s\tremaining: 55.5s\n",
      "806:\tlearn: 1128.0148910\ttotal: 3m 50s\tremaining: 55.2s\n",
      "807:\tlearn: 1127.7383009\ttotal: 3m 51s\tremaining: 54.9s\n",
      "808:\tlearn: 1127.6715853\ttotal: 3m 51s\tremaining: 54.6s\n",
      "809:\tlearn: 1127.3725301\ttotal: 3m 51s\tremaining: 54.3s\n",
      "810:\tlearn: 1127.2707513\ttotal: 3m 51s\tremaining: 54.1s\n",
      "811:\tlearn: 1127.1145796\ttotal: 3m 52s\tremaining: 53.8s\n",
      "812:\tlearn: 1126.6340569\ttotal: 3m 52s\tremaining: 53.5s\n",
      "813:\tlearn: 1126.4599076\ttotal: 3m 52s\tremaining: 53.2s\n",
      "814:\tlearn: 1126.3894433\ttotal: 3m 53s\tremaining: 52.9s\n",
      "815:\tlearn: 1126.1461305\ttotal: 3m 53s\tremaining: 52.6s\n",
      "816:\tlearn: 1126.0270986\ttotal: 3m 53s\tremaining: 52.3s\n",
      "817:\tlearn: 1125.9568749\ttotal: 3m 53s\tremaining: 52.1s\n",
      "818:\tlearn: 1125.5174841\ttotal: 3m 54s\tremaining: 51.8s\n",
      "819:\tlearn: 1125.1338277\ttotal: 3m 54s\tremaining: 51.5s\n",
      "820:\tlearn: 1124.8897945\ttotal: 3m 54s\tremaining: 51.2s\n",
      "821:\tlearn: 1124.5851500\ttotal: 3m 55s\tremaining: 50.9s\n",
      "822:\tlearn: 1124.3190857\ttotal: 3m 55s\tremaining: 50.6s\n",
      "823:\tlearn: 1123.8685416\ttotal: 3m 55s\tremaining: 50.4s\n",
      "824:\tlearn: 1123.5372159\ttotal: 3m 55s\tremaining: 50.1s\n",
      "825:\tlearn: 1123.2840960\ttotal: 3m 56s\tremaining: 49.8s\n",
      "826:\tlearn: 1123.1470362\ttotal: 3m 56s\tremaining: 49.5s\n",
      "827:\tlearn: 1122.9342864\ttotal: 3m 56s\tremaining: 49.2s\n",
      "828:\tlearn: 1122.5846587\ttotal: 3m 57s\tremaining: 48.9s\n",
      "829:\tlearn: 1122.3858466\ttotal: 3m 57s\tremaining: 48.6s\n",
      "830:\tlearn: 1122.3623585\ttotal: 3m 57s\tremaining: 48.3s\n",
      "831:\tlearn: 1122.0971877\ttotal: 3m 57s\tremaining: 48s\n",
      "832:\tlearn: 1121.8902752\ttotal: 3m 58s\tremaining: 47.8s\n",
      "833:\tlearn: 1121.6966094\ttotal: 3m 58s\tremaining: 47.5s\n",
      "834:\tlearn: 1121.5281998\ttotal: 3m 58s\tremaining: 47.2s\n",
      "835:\tlearn: 1121.4890344\ttotal: 3m 58s\tremaining: 46.9s\n",
      "836:\tlearn: 1121.2849613\ttotal: 3m 59s\tremaining: 46.6s\n",
      "837:\tlearn: 1121.0120831\ttotal: 3m 59s\tremaining: 46.3s\n",
      "838:\tlearn: 1120.7561904\ttotal: 3m 59s\tremaining: 46s\n",
      "839:\tlearn: 1120.6425248\ttotal: 4m\tremaining: 45.7s\n",
      "840:\tlearn: 1120.3307785\ttotal: 4m\tremaining: 45.4s\n",
      "841:\tlearn: 1120.2481876\ttotal: 4m\tremaining: 45.1s\n",
      "842:\tlearn: 1120.1818498\ttotal: 4m\tremaining: 44.9s\n",
      "843:\tlearn: 1119.8827635\ttotal: 4m 1s\tremaining: 44.6s\n",
      "844:\tlearn: 1119.8032325\ttotal: 4m 1s\tremaining: 44.3s\n",
      "845:\tlearn: 1119.5778355\ttotal: 4m 1s\tremaining: 44s\n",
      "846:\tlearn: 1119.5408634\ttotal: 4m 1s\tremaining: 43.7s\n",
      "847:\tlearn: 1119.4827076\ttotal: 4m 2s\tremaining: 43.4s\n",
      "848:\tlearn: 1119.4104062\ttotal: 4m 2s\tremaining: 43.1s\n",
      "849:\tlearn: 1119.3272082\ttotal: 4m 2s\tremaining: 42.8s\n",
      "850:\tlearn: 1119.1974504\ttotal: 4m 2s\tremaining: 42.5s\n",
      "851:\tlearn: 1119.1028037\ttotal: 4m 3s\tremaining: 42.3s\n",
      "852:\tlearn: 1119.0453750\ttotal: 4m 3s\tremaining: 42s\n",
      "853:\tlearn: 1118.9292973\ttotal: 4m 3s\tremaining: 41.7s\n",
      "854:\tlearn: 1118.6544575\ttotal: 4m 3s\tremaining: 41.4s\n",
      "855:\tlearn: 1118.5778551\ttotal: 4m 4s\tremaining: 41.1s\n",
      "856:\tlearn: 1118.3926374\ttotal: 4m 4s\tremaining: 40.8s\n",
      "857:\tlearn: 1117.9646018\ttotal: 4m 4s\tremaining: 40.5s\n",
      "858:\tlearn: 1117.7365975\ttotal: 4m 5s\tremaining: 40.2s\n",
      "859:\tlearn: 1117.6282519\ttotal: 4m 5s\tremaining: 39.9s\n",
      "860:\tlearn: 1116.9674674\ttotal: 4m 5s\tremaining: 39.7s\n",
      "861:\tlearn: 1116.8723717\ttotal: 4m 5s\tremaining: 39.4s\n",
      "862:\tlearn: 1116.6919386\ttotal: 4m 6s\tremaining: 39.1s\n",
      "863:\tlearn: 1116.3035237\ttotal: 4m 6s\tremaining: 38.8s\n",
      "864:\tlearn: 1115.9809300\ttotal: 4m 6s\tremaining: 38.5s\n",
      "865:\tlearn: 1115.8583712\ttotal: 4m 7s\tremaining: 38.2s\n",
      "866:\tlearn: 1115.7505998\ttotal: 4m 7s\tremaining: 38s\n",
      "867:\tlearn: 1115.4200144\ttotal: 4m 7s\tremaining: 37.7s\n",
      "868:\tlearn: 1115.3694414\ttotal: 4m 7s\tremaining: 37.4s\n",
      "869:\tlearn: 1115.3032781\ttotal: 4m 8s\tremaining: 37.1s\n",
      "870:\tlearn: 1115.2332057\ttotal: 4m 8s\tremaining: 36.8s\n",
      "871:\tlearn: 1115.1064535\ttotal: 4m 8s\tremaining: 36.5s\n",
      "872:\tlearn: 1114.9053528\ttotal: 4m 9s\tremaining: 36.3s\n",
      "873:\tlearn: 1114.8615270\ttotal: 4m 9s\tremaining: 36s\n",
      "874:\tlearn: 1114.8292763\ttotal: 4m 9s\tremaining: 35.7s\n",
      "875:\tlearn: 1114.6749718\ttotal: 4m 10s\tremaining: 35.4s\n",
      "876:\tlearn: 1114.5367780\ttotal: 4m 10s\tremaining: 35.1s\n",
      "877:\tlearn: 1114.3550381\ttotal: 4m 10s\tremaining: 34.8s\n",
      "878:\tlearn: 1114.3000872\ttotal: 4m 10s\tremaining: 34.5s\n",
      "879:\tlearn: 1114.1308640\ttotal: 4m 11s\tremaining: 34.3s\n",
      "880:\tlearn: 1113.7169974\ttotal: 4m 11s\tremaining: 34s\n",
      "881:\tlearn: 1113.6222196\ttotal: 4m 11s\tremaining: 33.7s\n",
      "882:\tlearn: 1113.4830317\ttotal: 4m 12s\tremaining: 33.4s\n",
      "883:\tlearn: 1113.2333921\ttotal: 4m 12s\tremaining: 33.1s\n",
      "884:\tlearn: 1113.1491325\ttotal: 4m 12s\tremaining: 32.8s\n",
      "885:\tlearn: 1113.0640017\ttotal: 4m 12s\tremaining: 32.5s\n",
      "886:\tlearn: 1112.9414372\ttotal: 4m 13s\tremaining: 32.3s\n",
      "887:\tlearn: 1112.5636816\ttotal: 4m 13s\tremaining: 32s\n",
      "888:\tlearn: 1112.4374958\ttotal: 4m 13s\tremaining: 31.7s\n",
      "889:\tlearn: 1112.3524010\ttotal: 4m 13s\tremaining: 31.4s\n",
      "890:\tlearn: 1112.2466021\ttotal: 4m 14s\tremaining: 31.1s\n",
      "891:\tlearn: 1112.0868880\ttotal: 4m 14s\tremaining: 30.8s\n",
      "892:\tlearn: 1111.9709428\ttotal: 4m 14s\tremaining: 30.5s\n",
      "893:\tlearn: 1111.9210353\ttotal: 4m 14s\tremaining: 30.2s\n",
      "894:\tlearn: 1111.8667325\ttotal: 4m 15s\tremaining: 29.9s\n",
      "895:\tlearn: 1111.4289780\ttotal: 4m 15s\tremaining: 29.7s\n",
      "896:\tlearn: 1111.1128517\ttotal: 4m 16s\tremaining: 29.4s\n",
      "897:\tlearn: 1110.9425176\ttotal: 4m 16s\tremaining: 29.1s\n",
      "898:\tlearn: 1110.8299186\ttotal: 4m 16s\tremaining: 28.8s\n",
      "899:\tlearn: 1110.7930263\ttotal: 4m 16s\tremaining: 28.5s\n",
      "900:\tlearn: 1110.4906019\ttotal: 4m 17s\tremaining: 28.3s\n",
      "901:\tlearn: 1110.3012900\ttotal: 4m 17s\tremaining: 28s\n",
      "902:\tlearn: 1110.0286305\ttotal: 4m 17s\tremaining: 27.7s\n",
      "903:\tlearn: 1109.9907309\ttotal: 4m 18s\tremaining: 27.4s\n",
      "904:\tlearn: 1109.9283555\ttotal: 4m 18s\tremaining: 27.1s\n",
      "905:\tlearn: 1109.8258417\ttotal: 4m 18s\tremaining: 26.8s\n",
      "906:\tlearn: 1109.7260191\ttotal: 4m 19s\tremaining: 26.6s\n",
      "907:\tlearn: 1109.5858675\ttotal: 4m 19s\tremaining: 26.3s\n",
      "908:\tlearn: 1109.4628415\ttotal: 4m 19s\tremaining: 26s\n",
      "909:\tlearn: 1109.3477772\ttotal: 4m 20s\tremaining: 25.7s\n",
      "910:\tlearn: 1109.2767372\ttotal: 4m 20s\tremaining: 25.4s\n",
      "911:\tlearn: 1109.1212581\ttotal: 4m 20s\tremaining: 25.2s\n",
      "912:\tlearn: 1108.9192266\ttotal: 4m 20s\tremaining: 24.9s\n",
      "913:\tlearn: 1108.8265358\ttotal: 4m 21s\tremaining: 24.6s\n",
      "914:\tlearn: 1108.5943803\ttotal: 4m 21s\tremaining: 24.3s\n",
      "915:\tlearn: 1108.5509027\ttotal: 4m 21s\tremaining: 24s\n",
      "916:\tlearn: 1108.4718935\ttotal: 4m 21s\tremaining: 23.7s\n",
      "917:\tlearn: 1108.0268166\ttotal: 4m 22s\tremaining: 23.4s\n",
      "918:\tlearn: 1107.7950106\ttotal: 4m 22s\tremaining: 23.1s\n",
      "919:\tlearn: 1107.5604506\ttotal: 4m 22s\tremaining: 22.9s\n",
      "920:\tlearn: 1107.3031355\ttotal: 4m 23s\tremaining: 22.6s\n",
      "921:\tlearn: 1107.1310274\ttotal: 4m 23s\tremaining: 22.3s\n",
      "922:\tlearn: 1106.9429412\ttotal: 4m 23s\tremaining: 22s\n",
      "923:\tlearn: 1106.8934275\ttotal: 4m 24s\tremaining: 21.7s\n",
      "924:\tlearn: 1106.8462441\ttotal: 4m 24s\tremaining: 21.5s\n",
      "925:\tlearn: 1106.7386158\ttotal: 4m 24s\tremaining: 21.2s\n",
      "926:\tlearn: 1106.6159057\ttotal: 4m 25s\tremaining: 20.9s\n",
      "927:\tlearn: 1106.3375234\ttotal: 4m 25s\tremaining: 20.6s\n",
      "928:\tlearn: 1106.1195599\ttotal: 4m 25s\tremaining: 20.3s\n",
      "929:\tlearn: 1106.0042813\ttotal: 4m 26s\tremaining: 20s\n",
      "930:\tlearn: 1105.6927346\ttotal: 4m 26s\tremaining: 19.8s\n",
      "931:\tlearn: 1105.5502017\ttotal: 4m 26s\tremaining: 19.5s\n",
      "932:\tlearn: 1105.4056973\ttotal: 4m 27s\tremaining: 19.2s\n",
      "933:\tlearn: 1105.1650782\ttotal: 4m 27s\tremaining: 18.9s\n",
      "934:\tlearn: 1104.9527769\ttotal: 4m 27s\tremaining: 18.6s\n",
      "935:\tlearn: 1104.6945383\ttotal: 4m 28s\tremaining: 18.3s\n",
      "936:\tlearn: 1104.5600147\ttotal: 4m 28s\tremaining: 18.1s\n",
      "937:\tlearn: 1104.0264654\ttotal: 4m 28s\tremaining: 17.8s\n",
      "938:\tlearn: 1103.8427328\ttotal: 4m 29s\tremaining: 17.5s\n",
      "939:\tlearn: 1103.8248991\ttotal: 4m 29s\tremaining: 17.2s\n",
      "940:\tlearn: 1103.7439104\ttotal: 4m 29s\tremaining: 16.9s\n",
      "941:\tlearn: 1103.5245232\ttotal: 4m 30s\tremaining: 16.6s\n",
      "942:\tlearn: 1103.4862493\ttotal: 4m 30s\tremaining: 16.4s\n",
      "943:\tlearn: 1102.8794450\ttotal: 4m 30s\tremaining: 16.1s\n",
      "944:\tlearn: 1102.8232781\ttotal: 4m 31s\tremaining: 15.8s\n",
      "945:\tlearn: 1102.6770380\ttotal: 4m 31s\tremaining: 15.5s\n",
      "946:\tlearn: 1102.6362234\ttotal: 4m 31s\tremaining: 15.2s\n",
      "947:\tlearn: 1102.0954522\ttotal: 4m 31s\tremaining: 14.9s\n",
      "948:\tlearn: 1102.0200320\ttotal: 4m 32s\tremaining: 14.6s\n",
      "949:\tlearn: 1101.8267091\ttotal: 4m 32s\tremaining: 14.3s\n",
      "950:\tlearn: 1101.6172481\ttotal: 4m 32s\tremaining: 14.1s\n",
      "951:\tlearn: 1101.5186203\ttotal: 4m 33s\tremaining: 13.8s\n",
      "952:\tlearn: 1101.4532857\ttotal: 4m 33s\tremaining: 13.5s\n",
      "953:\tlearn: 1101.2191966\ttotal: 4m 33s\tremaining: 13.2s\n",
      "954:\tlearn: 1100.9819902\ttotal: 4m 33s\tremaining: 12.9s\n",
      "955:\tlearn: 1100.9425000\ttotal: 4m 34s\tremaining: 12.6s\n",
      "956:\tlearn: 1100.8483010\ttotal: 4m 34s\tremaining: 12.3s\n",
      "957:\tlearn: 1100.6579090\ttotal: 4m 34s\tremaining: 12s\n",
      "958:\tlearn: 1100.4685870\ttotal: 4m 35s\tremaining: 11.8s\n",
      "959:\tlearn: 1100.3872413\ttotal: 4m 35s\tremaining: 11.5s\n",
      "960:\tlearn: 1100.0258233\ttotal: 4m 35s\tremaining: 11.2s\n",
      "961:\tlearn: 1099.9619788\ttotal: 4m 35s\tremaining: 10.9s\n",
      "962:\tlearn: 1099.9332638\ttotal: 4m 36s\tremaining: 10.6s\n",
      "963:\tlearn: 1099.3507493\ttotal: 4m 36s\tremaining: 10.3s\n",
      "964:\tlearn: 1099.1285094\ttotal: 4m 36s\tremaining: 10s\n",
      "965:\tlearn: 1099.0006642\ttotal: 4m 37s\tremaining: 9.76s\n",
      "966:\tlearn: 1098.9469941\ttotal: 4m 37s\tremaining: 9.47s\n",
      "967:\tlearn: 1098.8460217\ttotal: 4m 37s\tremaining: 9.18s\n",
      "968:\tlearn: 1098.8450891\ttotal: 4m 37s\tremaining: 8.89s\n",
      "969:\tlearn: 1098.4900232\ttotal: 4m 38s\tremaining: 8.6s\n",
      "970:\tlearn: 1098.2468782\ttotal: 4m 38s\tremaining: 8.32s\n",
      "971:\tlearn: 1098.1000242\ttotal: 4m 38s\tremaining: 8.03s\n",
      "972:\tlearn: 1098.0839932\ttotal: 4m 39s\tremaining: 7.74s\n",
      "973:\tlearn: 1098.0009089\ttotal: 4m 39s\tremaining: 7.46s\n",
      "974:\tlearn: 1097.8094566\ttotal: 4m 39s\tremaining: 7.17s\n",
      "975:\tlearn: 1097.7291443\ttotal: 4m 40s\tremaining: 6.89s\n",
      "976:\tlearn: 1097.4626811\ttotal: 4m 40s\tremaining: 6.6s\n",
      "977:\tlearn: 1097.3960439\ttotal: 4m 40s\tremaining: 6.31s\n",
      "978:\tlearn: 1097.2513964\ttotal: 4m 40s\tremaining: 6.03s\n",
      "979:\tlearn: 1097.0778784\ttotal: 4m 41s\tremaining: 5.74s\n",
      "980:\tlearn: 1096.9392205\ttotal: 4m 41s\tremaining: 5.45s\n",
      "981:\tlearn: 1096.5774033\ttotal: 4m 41s\tremaining: 5.17s\n",
      "982:\tlearn: 1096.4885240\ttotal: 4m 42s\tremaining: 4.88s\n",
      "983:\tlearn: 1096.4555374\ttotal: 4m 42s\tremaining: 4.59s\n",
      "984:\tlearn: 1096.3648518\ttotal: 4m 42s\tremaining: 4.31s\n",
      "985:\tlearn: 1096.3273249\ttotal: 4m 43s\tremaining: 4.02s\n",
      "986:\tlearn: 1096.1994282\ttotal: 4m 43s\tremaining: 3.73s\n",
      "987:\tlearn: 1096.0673537\ttotal: 4m 43s\tremaining: 3.45s\n",
      "988:\tlearn: 1095.9105570\ttotal: 4m 44s\tremaining: 3.16s\n",
      "989:\tlearn: 1095.6867043\ttotal: 4m 44s\tremaining: 2.87s\n",
      "990:\tlearn: 1095.3665275\ttotal: 4m 44s\tremaining: 2.58s\n",
      "991:\tlearn: 1095.0808155\ttotal: 4m 45s\tremaining: 2.3s\n",
      "992:\tlearn: 1094.8582957\ttotal: 4m 45s\tremaining: 2.01s\n",
      "993:\tlearn: 1094.6564389\ttotal: 4m 45s\tremaining: 1.72s\n",
      "994:\tlearn: 1094.4749443\ttotal: 4m 46s\tremaining: 1.44s\n",
      "995:\tlearn: 1094.0361685\ttotal: 4m 46s\tremaining: 1.15s\n",
      "996:\tlearn: 1093.1500654\ttotal: 4m 46s\tremaining: 863ms\n",
      "997:\tlearn: 1092.6916512\ttotal: 4m 47s\tremaining: 575ms\n",
      "998:\tlearn: 1092.3198182\ttotal: 4m 47s\tremaining: 288ms\n",
      "999:\tlearn: 1092.2639402\ttotal: 4m 47s\tremaining: 0us\n",
      "CPU times: user 4min 46s, sys: 1.92 s, total: 4min 48s\n",
      "Wall time: 4min 52s\n"
     ]
    },
    {
     "data": {
      "text/plain": [
       "<catboost.core.CatBoostRegressor at 0x7fb7ccce5130>"
      ]
     },
     "execution_count": 66,
     "metadata": {},
     "output_type": "execute_result"
    }
   ],
   "source": [
    "%%time\n",
    "modelcat.fit(features_train, target_train, cat_features=['VehicleType', 'Gearbox', 'Model', 'FuelType', 'Brand', 'Repaired'])"
   ]
  },
  {
   "cell_type": "code",
   "execution_count": 67,
   "metadata": {
    "scrolled": true
   },
   "outputs": [
    {
     "name": "stdout",
     "output_type": "stream",
     "text": [
      "RMSE на тестовых данных: 1571.422427935333\n",
      "CPU times: user 1.52 s, sys: 15.6 ms, total: 1.54 s\n",
      "Wall time: 1.55 s\n"
     ]
    }
   ],
   "source": [
    "%%time\n",
    "cat_pred = modelcat.predict(features_valid)\n",
    "\n",
    "# Оценка качества модели на валидации\n",
    "mse = mean_squared_error(target_valid, cat_pred)\n",
    "rmse = np.sqrt(mse)\n",
    "print('RMSE на валидационных данных:', rmse)"
   ]
  },
  {
   "cell_type": "markdown",
   "metadata": {},
   "source": [
    "Время fit. : 4min 48s  \n",
    "Время predict : 1.54 s  \n",
    "RMSE 1571  \n",
    "Порог прошла"
   ]
  },
  {
   "cell_type": "markdown",
   "metadata": {},
   "source": [
    "### LightBM"
   ]
  },
  {
   "cell_type": "code",
   "execution_count": 68,
   "metadata": {},
   "outputs": [],
   "source": [
    "catlist = ['VehicleType', 'Gearbox', 'Model', 'FuelType', 'Brand', 'Repaired']"
   ]
  },
  {
   "cell_type": "markdown",
   "metadata": {},
   "source": [
    "lgb  не может преобразовать object, так что преобразуем object в category"
   ]
  },
  {
   "cell_type": "code",
   "execution_count": 69,
   "metadata": {},
   "outputs": [],
   "source": [
    "for feature in catlist:\n",
    "    features_train[feature] = pd.Series(features_train[feature], dtype=\"category\")"
   ]
  },
  {
   "cell_type": "code",
   "execution_count": 70,
   "metadata": {},
   "outputs": [
    {
     "name": "stderr",
     "output_type": "stream",
     "text": [
      "/tmp/ipykernel_31/3392568829.py:2: SettingWithCopyWarning: \n",
      "A value is trying to be set on a copy of a slice from a DataFrame.\n",
      "Try using .loc[row_indexer,col_indexer] = value instead\n",
      "\n",
      "See the caveats in the documentation: https://pandas.pydata.org/pandas-docs/stable/user_guide/indexing.html#returning-a-view-versus-a-copy\n",
      "  features_valid[feature] = pd.Series(features_valid[feature], dtype=\"category\")\n"
     ]
    }
   ],
   "source": [
    "for feature in catlist:\n",
    "    features_valid[feature] = pd.Series(features_valid[feature], dtype=\"category\")"
   ]
  },
  {
   "cell_type": "code",
   "execution_count": 71,
   "metadata": {},
   "outputs": [
    {
     "name": "stderr",
     "output_type": "stream",
     "text": [
      "/tmp/ipykernel_31/1220871413.py:2: SettingWithCopyWarning: \n",
      "A value is trying to be set on a copy of a slice from a DataFrame.\n",
      "Try using .loc[row_indexer,col_indexer] = value instead\n",
      "\n",
      "See the caveats in the documentation: https://pandas.pydata.org/pandas-docs/stable/user_guide/indexing.html#returning-a-view-versus-a-copy\n",
      "  features_test[feature] = pd.Series(features_test[feature], dtype=\"category\")\n"
     ]
    }
   ],
   "source": [
    "for feature in catlist:\n",
    "    features_test[feature] = pd.Series(features_test[feature], dtype=\"category\")"
   ]
  },
  {
   "cell_type": "code",
   "execution_count": null,
   "metadata": {},
   "outputs": [],
   "source": [
    "#for col in catlist:\n",
    " #   data[col] = data[col].astype('category')"
   ]
  },
  {
   "cell_type": "code",
   "execution_count": 72,
   "metadata": {},
   "outputs": [],
   "source": [
    "\n",
    "# Преобразуйте данные в формат Dataset\n",
    "train_dataset = lgb.Dataset(features_train, label=target_train)\n",
    "valid_dataset = lgb.Dataset(features_valid, label=target_valid)\n",
    "\n",
    "# Определите параметры модели\n",
    "params = {\n",
    "    'objective': 'regression',\n",
    "    'metric': 'rmse',\n",
    "    'num_leaves': 31,\n",
    "    'learning_rate': 0.50,\n",
    "    'feature_fraction': 0.9\n",
    "}"
   ]
  },
  {
   "cell_type": "code",
   "execution_count": 73,
   "metadata": {},
   "outputs": [
    {
     "name": "stderr",
     "output_type": "stream",
     "text": [
      "/opt/conda/lib/python3.9/site-packages/lightgbm/engine.py:181: UserWarning: 'early_stopping_rounds' argument is deprecated and will be removed in a future release of LightGBM. Pass 'early_stopping()' callback via 'callbacks' argument instead.\n",
      "  _log_warning(\"'early_stopping_rounds' argument is deprecated and will be removed in a future release of LightGBM. \"\n"
     ]
    },
    {
     "name": "stdout",
     "output_type": "stream",
     "text": [
      "[LightGBM] [Warning] Auto-choosing row-wise multi-threading, the overhead of testing was 0.403200 seconds.\n",
      "You can set `force_row_wise=true` to remove the overhead.\n",
      "And if memory is not enough, you can set `force_col_wise=true`.\n",
      "[LightGBM] [Info] Total Bins 571\n",
      "[LightGBM] [Info] Number of data points in the train set: 175083, number of used features: 9\n"
     ]
    },
    {
     "name": "stderr",
     "output_type": "stream",
     "text": [
      "/opt/conda/lib/python3.9/site-packages/lightgbm/basic.py:1780: UserWarning: Overriding the parameters from Reference Dataset.\n",
      "  _log_warning('Overriding the parameters from Reference Dataset.')\n",
      "/opt/conda/lib/python3.9/site-packages/lightgbm/basic.py:1513: UserWarning: categorical_column in param dict is overridden.\n",
      "  _log_warning(f'{cat_alias} in param dict is overridden.')\n"
     ]
    },
    {
     "name": "stdout",
     "output_type": "stream",
     "text": [
      "[LightGBM] [Info] Start training from score 4903.698714\n",
      "[1]\tvalid_0's rmse: 3014.96\n",
      "Training until validation scores don't improve for 10 rounds\n",
      "[2]\tvalid_0's rmse: 2431.97\n",
      "[3]\tvalid_0's rmse: 2179.47\n",
      "[4]\tvalid_0's rmse: 1958.22\n",
      "[5]\tvalid_0's rmse: 1880.57\n",
      "[6]\tvalid_0's rmse: 1828.59\n",
      "[7]\tvalid_0's rmse: 1797.91\n",
      "[8]\tvalid_0's rmse: 1779.87\n",
      "[9]\tvalid_0's rmse: 1758.09\n",
      "[10]\tvalid_0's rmse: 1743.13\n",
      "[11]\tvalid_0's rmse: 1732.28\n",
      "[12]\tvalid_0's rmse: 1720.39\n",
      "[13]\tvalid_0's rmse: 1712.39\n",
      "[14]\tvalid_0's rmse: 1707.31\n",
      "[15]\tvalid_0's rmse: 1701.83\n",
      "[16]\tvalid_0's rmse: 1693.21\n",
      "[17]\tvalid_0's rmse: 1689.76\n",
      "[18]\tvalid_0's rmse: 1686.91\n",
      "[19]\tvalid_0's rmse: 1678.81\n",
      "[20]\tvalid_0's rmse: 1669.33\n",
      "[21]\tvalid_0's rmse: 1665.14\n",
      "[22]\tvalid_0's rmse: 1663.22\n",
      "[23]\tvalid_0's rmse: 1660.7\n",
      "[24]\tvalid_0's rmse: 1659.63\n",
      "[25]\tvalid_0's rmse: 1658.38\n",
      "[26]\tvalid_0's rmse: 1654.35\n",
      "[27]\tvalid_0's rmse: 1653.24\n",
      "[28]\tvalid_0's rmse: 1652.41\n",
      "[29]\tvalid_0's rmse: 1651.88\n",
      "[30]\tvalid_0's rmse: 1651.85\n",
      "[31]\tvalid_0's rmse: 1649.24\n",
      "[32]\tvalid_0's rmse: 1647.99\n",
      "[33]\tvalid_0's rmse: 1646.64\n",
      "[34]\tvalid_0's rmse: 1643.74\n",
      "[35]\tvalid_0's rmse: 1642.88\n",
      "[36]\tvalid_0's rmse: 1641.28\n",
      "[37]\tvalid_0's rmse: 1640.64\n",
      "[38]\tvalid_0's rmse: 1639.63\n",
      "[39]\tvalid_0's rmse: 1638.06\n",
      "[40]\tvalid_0's rmse: 1636.9\n",
      "[41]\tvalid_0's rmse: 1635.76\n",
      "[42]\tvalid_0's rmse: 1635.07\n",
      "[43]\tvalid_0's rmse: 1633.75\n",
      "[44]\tvalid_0's rmse: 1633.09\n",
      "[45]\tvalid_0's rmse: 1632.6\n",
      "[46]\tvalid_0's rmse: 1631.75\n",
      "[47]\tvalid_0's rmse: 1631.46\n",
      "[48]\tvalid_0's rmse: 1630.53\n",
      "[49]\tvalid_0's rmse: 1629.1\n",
      "[50]\tvalid_0's rmse: 1628.29\n",
      "[51]\tvalid_0's rmse: 1627.96\n",
      "[52]\tvalid_0's rmse: 1627\n",
      "[53]\tvalid_0's rmse: 1626.49\n",
      "[54]\tvalid_0's rmse: 1623.49\n",
      "[55]\tvalid_0's rmse: 1622.16\n",
      "[56]\tvalid_0's rmse: 1621.71\n",
      "[57]\tvalid_0's rmse: 1621.54\n",
      "[58]\tvalid_0's rmse: 1621\n",
      "[59]\tvalid_0's rmse: 1619.28\n",
      "[60]\tvalid_0's rmse: 1618.86\n",
      "[61]\tvalid_0's rmse: 1618.37\n",
      "[62]\tvalid_0's rmse: 1617.78\n",
      "[63]\tvalid_0's rmse: 1616.69\n",
      "[64]\tvalid_0's rmse: 1615.99\n",
      "[65]\tvalid_0's rmse: 1615.84\n",
      "[66]\tvalid_0's rmse: 1615.42\n",
      "[67]\tvalid_0's rmse: 1614.82\n",
      "[68]\tvalid_0's rmse: 1613.65\n",
      "[69]\tvalid_0's rmse: 1613.41\n",
      "[70]\tvalid_0's rmse: 1613.31\n",
      "[71]\tvalid_0's rmse: 1612.79\n",
      "[72]\tvalid_0's rmse: 1612.06\n",
      "[73]\tvalid_0's rmse: 1611.26\n",
      "[74]\tvalid_0's rmse: 1610.54\n",
      "[75]\tvalid_0's rmse: 1609.45\n",
      "[76]\tvalid_0's rmse: 1609.05\n",
      "[77]\tvalid_0's rmse: 1606.78\n",
      "[78]\tvalid_0's rmse: 1606.67\n",
      "[79]\tvalid_0's rmse: 1605.83\n",
      "[80]\tvalid_0's rmse: 1604.91\n",
      "[81]\tvalid_0's rmse: 1605.14\n",
      "[82]\tvalid_0's rmse: 1605.13\n",
      "[83]\tvalid_0's rmse: 1604.53\n",
      "[84]\tvalid_0's rmse: 1603.74\n",
      "[85]\tvalid_0's rmse: 1603.23\n",
      "[86]\tvalid_0's rmse: 1602.92\n",
      "[87]\tvalid_0's rmse: 1602.32\n",
      "[88]\tvalid_0's rmse: 1601.82\n",
      "[89]\tvalid_0's rmse: 1602.43\n",
      "[90]\tvalid_0's rmse: 1601.58\n",
      "[91]\tvalid_0's rmse: 1601.46\n",
      "[92]\tvalid_0's rmse: 1601.3\n",
      "[93]\tvalid_0's rmse: 1600.59\n",
      "[94]\tvalid_0's rmse: 1600.19\n",
      "[95]\tvalid_0's rmse: 1600\n",
      "[96]\tvalid_0's rmse: 1600.24\n",
      "[97]\tvalid_0's rmse: 1600.31\n",
      "[98]\tvalid_0's rmse: 1599.78\n",
      "[99]\tvalid_0's rmse: 1599.69\n",
      "[100]\tvalid_0's rmse: 1598.91\n",
      "[101]\tvalid_0's rmse: 1598.58\n",
      "[102]\tvalid_0's rmse: 1598\n",
      "[103]\tvalid_0's rmse: 1598.12\n",
      "[104]\tvalid_0's rmse: 1597.87\n",
      "[105]\tvalid_0's rmse: 1597.35\n",
      "[106]\tvalid_0's rmse: 1597.31\n",
      "[107]\tvalid_0's rmse: 1596.98\n",
      "[108]\tvalid_0's rmse: 1596.73\n",
      "[109]\tvalid_0's rmse: 1596.26\n",
      "[110]\tvalid_0's rmse: 1595.45\n",
      "[111]\tvalid_0's rmse: 1595.22\n",
      "[112]\tvalid_0's rmse: 1595.15\n",
      "[113]\tvalid_0's rmse: 1595.32\n",
      "[114]\tvalid_0's rmse: 1595.25\n",
      "[115]\tvalid_0's rmse: 1593.54\n",
      "[116]\tvalid_0's rmse: 1593.2\n",
      "[117]\tvalid_0's rmse: 1592.93\n",
      "[118]\tvalid_0's rmse: 1592.01\n",
      "[119]\tvalid_0's rmse: 1591.79\n",
      "[120]\tvalid_0's rmse: 1590.75\n",
      "[121]\tvalid_0's rmse: 1590.97\n",
      "[122]\tvalid_0's rmse: 1590.74\n",
      "[123]\tvalid_0's rmse: 1590.96\n",
      "[124]\tvalid_0's rmse: 1590.69\n",
      "[125]\tvalid_0's rmse: 1590.66\n",
      "[126]\tvalid_0's rmse: 1590.58\n",
      "[127]\tvalid_0's rmse: 1590.75\n",
      "[128]\tvalid_0's rmse: 1590.59\n",
      "[129]\tvalid_0's rmse: 1590.3\n",
      "[130]\tvalid_0's rmse: 1590.37\n",
      "[131]\tvalid_0's rmse: 1590.06\n",
      "[132]\tvalid_0's rmse: 1589.31\n",
      "[133]\tvalid_0's rmse: 1589.06\n",
      "[134]\tvalid_0's rmse: 1588.76\n",
      "[135]\tvalid_0's rmse: 1588.07\n",
      "[136]\tvalid_0's rmse: 1588.17\n",
      "[137]\tvalid_0's rmse: 1587.85\n",
      "[138]\tvalid_0's rmse: 1587.45\n",
      "[139]\tvalid_0's rmse: 1587.24\n",
      "[140]\tvalid_0's rmse: 1587.31\n",
      "[141]\tvalid_0's rmse: 1587.59\n",
      "[142]\tvalid_0's rmse: 1587.03\n",
      "[143]\tvalid_0's rmse: 1586.19\n",
      "[144]\tvalid_0's rmse: 1585.89\n",
      "[145]\tvalid_0's rmse: 1585.76\n",
      "[146]\tvalid_0's rmse: 1585.38\n",
      "[147]\tvalid_0's rmse: 1585.28\n",
      "[148]\tvalid_0's rmse: 1585.38\n",
      "[149]\tvalid_0's rmse: 1585.36\n",
      "[150]\tvalid_0's rmse: 1585.21\n",
      "[151]\tvalid_0's rmse: 1584.9\n",
      "[152]\tvalid_0's rmse: 1584.64\n",
      "[153]\tvalid_0's rmse: 1584.74\n",
      "[154]\tvalid_0's rmse: 1584.39\n",
      "[155]\tvalid_0's rmse: 1584.09\n",
      "[156]\tvalid_0's rmse: 1584.15\n",
      "[157]\tvalid_0's rmse: 1583.65\n",
      "[158]\tvalid_0's rmse: 1583.29\n",
      "[159]\tvalid_0's rmse: 1583.12\n",
      "[160]\tvalid_0's rmse: 1583.38\n",
      "[161]\tvalid_0's rmse: 1583.3\n",
      "[162]\tvalid_0's rmse: 1583.15\n",
      "[163]\tvalid_0's rmse: 1583.26\n",
      "[164]\tvalid_0's rmse: 1582.74\n",
      "[165]\tvalid_0's rmse: 1582.54\n",
      "[166]\tvalid_0's rmse: 1582.19\n",
      "[167]\tvalid_0's rmse: 1582.23\n",
      "[168]\tvalid_0's rmse: 1582.36\n",
      "[169]\tvalid_0's rmse: 1582.14\n",
      "[170]\tvalid_0's rmse: 1581.62\n",
      "[171]\tvalid_0's rmse: 1581.38\n",
      "[172]\tvalid_0's rmse: 1581.48\n",
      "[173]\tvalid_0's rmse: 1581.18\n",
      "[174]\tvalid_0's rmse: 1581.09\n",
      "[175]\tvalid_0's rmse: 1580.98\n",
      "[176]\tvalid_0's rmse: 1581.43\n",
      "[177]\tvalid_0's rmse: 1581.08\n",
      "[178]\tvalid_0's rmse: 1581.27\n",
      "[179]\tvalid_0's rmse: 1581.32\n",
      "[180]\tvalid_0's rmse: 1581.08\n",
      "[181]\tvalid_0's rmse: 1581.11\n",
      "[182]\tvalid_0's rmse: 1580.96\n",
      "[183]\tvalid_0's rmse: 1580.9\n",
      "[184]\tvalid_0's rmse: 1580.94\n",
      "[185]\tvalid_0's rmse: 1580.75\n",
      "[186]\tvalid_0's rmse: 1580.54\n",
      "[187]\tvalid_0's rmse: 1580.42\n",
      "[188]\tvalid_0's rmse: 1580.36\n",
      "[189]\tvalid_0's rmse: 1580.14\n",
      "[190]\tvalid_0's rmse: 1579.51\n",
      "[191]\tvalid_0's rmse: 1579.39\n",
      "[192]\tvalid_0's rmse: 1579.34\n",
      "[193]\tvalid_0's rmse: 1579.39\n",
      "[194]\tvalid_0's rmse: 1579.48\n",
      "[195]\tvalid_0's rmse: 1579.37\n",
      "[196]\tvalid_0's rmse: 1579.37\n",
      "[197]\tvalid_0's rmse: 1579.47\n",
      "[198]\tvalid_0's rmse: 1579.7\n",
      "[199]\tvalid_0's rmse: 1579.79\n",
      "[200]\tvalid_0's rmse: 1579.81\n",
      "Did not meet early stopping. Best iteration is:\n",
      "[192]\tvalid_0's rmse: 1579.34\n",
      "CPU times: user 9min 59s, sys: 4.48 s, total: 10min 4s\n",
      "Wall time: 10min 8s\n"
     ]
    }
   ],
   "source": [
    "%%time\n",
    "modellgb = lgb.train(params, train_dataset, num_boost_round=200, valid_sets=[valid_dataset], \n",
    "                     early_stopping_rounds=10\n",
    "                    )"
   ]
  },
  {
   "cell_type": "code",
   "execution_count": 74,
   "metadata": {},
   "outputs": [
    {
     "name": "stdout",
     "output_type": "stream",
     "text": [
      "RMSE на тестовых данных: 1579.341143317113\n",
      "CPU times: user 753 ms, sys: 6.85 ms, total: 760 ms\n",
      "Wall time: 720 ms\n"
     ]
    }
   ],
   "source": [
    "%%time\n",
    "predictions = modellgb.predict(features_valid)\n",
    "\n",
    "mse = mean_squared_error(target_valid, predictions)\n",
    "rmse = np.sqrt(mse)\n",
    "print('RMSE на валидационных данных:', rmse)"
   ]
  },
  {
   "cell_type": "markdown",
   "metadata": {},
   "source": [
    "Время fit. : 10min 4s  \n",
    "Время predict : 760 ms  \n",
    "RMSE 1579  \n",
    "Порог прошла."
   ]
  },
  {
   "cell_type": "markdown",
   "metadata": {},
   "source": [
    "### Линейная регрессия"
   ]
  },
  {
   "cell_type": "code",
   "execution_count": 91,
   "metadata": {},
   "outputs": [],
   "source": [
    "data_OHE = pd.get_dummies(data_new,drop_first=True, columns=catlist)"
   ]
  },
  {
   "cell_type": "code",
   "execution_count": 92,
   "metadata": {},
   "outputs": [],
   "source": [
    "data_trainOHE, data_testOHE = train_test_split(data_OHE, test_size=0.4, random_state=322)"
   ]
  },
  {
   "cell_type": "code",
   "execution_count": 93,
   "metadata": {},
   "outputs": [],
   "source": [
    "featuresOHE = data_testOHE.drop('Price', axis=1) # признаки\n",
    "targetOHE = data_testOHE['Price'] # целевая переменная"
   ]
  },
  {
   "cell_type": "code",
   "execution_count": 94,
   "metadata": {},
   "outputs": [],
   "source": [
    "features_validOHE, features_testOHE, target_validOHE, target_testOHE = train_test_split(featuresOHE,\n",
    "                                                                                        targetOHE,\n",
    "                                                                                        test_size=0.5,\n",
    "                                                                                        random_state=322\n",
    "                                                                                       )\n",
    "# затем из части для тестовой выборки выделяем половину для валидоционной выборки"
   ]
  },
  {
   "cell_type": "code",
   "execution_count": 95,
   "metadata": {},
   "outputs": [],
   "source": [
    "features_trainOHE = data_trainOHE.drop('Price', axis=1)\n",
    "target_trainOHE = data_trainOHE['Price']"
   ]
  },
  {
   "cell_type": "code",
   "execution_count": 96,
   "metadata": {},
   "outputs": [
    {
     "name": "stdout",
     "output_type": "stream",
     "text": [
      "(175083, 305)\n",
      "(58361, 305)\n",
      "(58362, 305)\n"
     ]
    }
   ],
   "source": [
    "print(features_trainOHE.shape)\n",
    "print(features_validOHE.shape)\n",
    "print(features_testOHE.shape)"
   ]
  },
  {
   "cell_type": "code",
   "execution_count": 97,
   "metadata": {},
   "outputs": [
    {
     "name": "stdout",
     "output_type": "stream",
     "text": [
      "CPU times: user 11.3 s, sys: 5.04 s, total: 16.3 s\n",
      "Wall time: 16.3 s\n"
     ]
    },
    {
     "data": {
      "text/plain": [
       "LinearRegression()"
      ]
     },
     "execution_count": 97,
     "metadata": {},
     "output_type": "execute_result"
    }
   ],
   "source": [
    "%%time\n",
    "linmodel = LinearRegression()\n",
    "linmodel.fit(features_trainOHE, target_trainOHE)"
   ]
  },
  {
   "cell_type": "code",
   "execution_count": 98,
   "metadata": {
    "scrolled": true
   },
   "outputs": [
    {
     "name": "stdout",
     "output_type": "stream",
     "text": [
      "CPU times: user 136 ms, sys: 97.8 ms, total: 234 ms\n",
      "Wall time: 195 ms\n"
     ]
    }
   ],
   "source": [
    "%%time\n",
    "preds_linmodel = linmodel.predict(features_validOHE)"
   ]
  },
  {
   "cell_type": "code",
   "execution_count": 99,
   "metadata": {},
   "outputs": [
    {
     "name": "stdout",
     "output_type": "stream",
     "text": [
      "RMSE на валидационных данных: 2574.5316614952226\n"
     ]
    }
   ],
   "source": [
    "mse = mean_squared_error(target_validOHE, preds_linmodel)\n",
    "rmse = np.sqrt(mse)\n",
    "print('RMSE на валидационных данных:', rmse)"
   ]
  },
  {
   "cell_type": "markdown",
   "metadata": {},
   "source": [
    "Время fit. : 16.3 s  \n",
    "Время predict : 234 ms  \n",
    "RMSE 2575  \n",
    "Порог не прошла."
   ]
  },
  {
   "cell_type": "markdown",
   "metadata": {},
   "source": [
    "### Вывод  \n",
    "Catboost и lightGB прошли порог по рмсе в 1600, линейная регрессия порог не преодолела. Catboost оказался точнее и быстрее lightGB. Проверку на тесте пройдет Catboost."
   ]
  },
  {
   "cell_type": "markdown",
   "metadata": {},
   "source": [
    "## Анализ моделей"
   ]
  },
  {
   "cell_type": "code",
   "execution_count": 82,
   "metadata": {},
   "outputs": [
    {
     "name": "stdout",
     "output_type": "stream",
     "text": [
      "RMSE на тестовых данных: 1560.6696252166266\n",
      "CPU times: user 1.24 s, sys: 4.66 ms, total: 1.25 s\n",
      "Wall time: 1.25 s\n"
     ]
    }
   ],
   "source": [
    "%%time\n",
    "cat_pred_test = modelcat.predict(features_test)\n",
    "\n",
    "# Оценка качества модели на валидации\n",
    "mse = mean_squared_error(target_test, cat_pred_test)\n",
    "rmse = np.sqrt(mse)\n",
    "print('RMSE на тестовых данных:', rmse)"
   ]
  },
  {
   "cell_type": "markdown",
   "metadata": {},
   "source": [
    "Результаты Catboost на тестовой выборке: time predict : 1.25 s, RMSE 1560.  \n",
    "Порог в 1600 преодолен. "
   ]
  },
  {
   "cell_type": "code",
   "execution_count": 84,
   "metadata": {},
   "outputs": [
    {
     "data": {
      "text/plain": [
       "array([ 8.61762567, 31.85413453,  1.28319957, 22.36515133,  6.74315832,\n",
       "       11.32651152,  3.32887827, 11.67355278,  2.80778801])"
      ]
     },
     "metadata": {},
     "output_type": "display_data"
    }
   ],
   "source": [
    "feature_importances = modelcat.feature_importances_\n",
    "display(feature_importances)"
   ]
  },
  {
   "cell_type": "code",
   "execution_count": 87,
   "metadata": {},
   "outputs": [
    {
     "data": {
      "image/png": "[encoded data removed]",
      "text/plain": [
       "<Figure size 720x360 with 1 Axes>"
      ]
     },
     "metadata": {
      "needs_background": "light"
     },
     "output_type": "display_data"
    }
   ],
   "source": [
    "# Построение графика важности признаков\n",
    "feature_names = features.columns\n",
    "feature_importance_df = pd.DataFrame({'feature_names': feature_names, 'feature_importance': feature_importances})\n",
    "feature_importance_df = feature_importance_df.sort_values(by=['feature_importance'], ascending=False)\n",
    "\n",
    "plt.figure(figsize=(10, 5))\n",
    "plt.bar(feature_importance_df['feature_names'], feature_importance_df['feature_importance'])\n",
    "plt.xticks(rotation=90)\n",
    "plt.xlabel('Названия признаков')\n",
    "plt.ylabel('Важность признака')\n",
    "plt.title('График важности признаков')\n",
    "plt.show()"
   ]
  },
  {
   "cell_type": "markdown",
   "metadata": {},
   "source": [
    "**Вывод** На тестовой выборке Catboost прошел порог и показал результат 1560 RMSE за 1.25 s. "
   ]
  },
  {
   "cell_type": "markdown",
   "metadata": {},
   "source": [
    "## Итоги"
   ]
  },
  {
   "cell_type": "markdown",
   "metadata": {},
   "source": [
    "Мы в ходе проекта: загрузили данные и провели предобработку. Сравнили модели catboost, lgbm и linerReg.  \n",
    "Лучший результат на валидационной выборке показал Catboost.  \n",
    "На тестовой выборке результаты Catboost:  \n",
    "time fit - 4min 48s  \n",
    "time predict - 1.25 s  \n",
    "RMSE - 1560  \n",
    "Наибольшее значение в формировании цены играет год выпуска. Наименьшее значение у коробки передач. "
   ]
  },
  {
   "cell_type": "code",
   "execution_count": null,
   "metadata": {},
   "outputs": [],
   "source": []
  }
 ],
 "metadata": {
  "ExecuteTimeLog": [
   {
    "duration": 449,
    "start_time": "2023-04-26T19:25:53.201Z"
   },
   {
    "duration": 1284,
    "start_time": "2023-04-26T19:26:07.994Z"
   },
   {
    "duration": 182,
    "start_time": "2023-04-26T19:26:17.659Z"
   },
   {
    "duration": 3,
    "start_time": "2023-04-26T19:28:35.493Z"
   },
   {
    "duration": 470,
    "start_time": "2023-04-26T19:29:39.067Z"
   },
   {
    "duration": 115,
    "start_time": "2023-04-26T19:30:22.435Z"
   },
   {
    "duration": 11,
    "start_time": "2023-04-26T19:30:35.997Z"
   },
   {
    "duration": 8,
    "start_time": "2023-04-26T19:30:58.471Z"
   },
   {
    "duration": 3,
    "start_time": "2023-04-26T19:31:00.254Z"
   },
   {
    "duration": 1973,
    "start_time": "2023-04-26T19:31:00.602Z"
   },
   {
    "duration": 8,
    "start_time": "2023-04-26T19:31:17.040Z"
   },
   {
    "duration": 15,
    "start_time": "2023-04-26T19:31:40.414Z"
   },
   {
    "duration": 3,
    "start_time": "2023-04-26T19:32:07.052Z"
   },
   {
    "duration": 905,
    "start_time": "2023-04-26T19:32:07.690Z"
   },
   {
    "duration": 149,
    "start_time": "2023-04-26T19:32:08.855Z"
   },
   {
    "duration": 93,
    "start_time": "2023-04-26T19:32:10.432Z"
   },
   {
    "duration": 98,
    "start_time": "2023-04-26T19:32:18.761Z"
   },
   {
    "duration": 14,
    "start_time": "2023-04-26T19:32:37.808Z"
   },
   {
    "duration": 730,
    "start_time": "2023-04-26T19:35:20.809Z"
   },
   {
    "duration": 5,
    "start_time": "2023-04-26T19:41:10.383Z"
   },
   {
    "duration": 96,
    "start_time": "2023-04-26T19:41:31.902Z"
   },
   {
    "duration": 17,
    "start_time": "2023-04-26T19:41:41.464Z"
   },
   {
    "duration": 97,
    "start_time": "2023-04-26T19:41:48.975Z"
   },
   {
    "duration": 8,
    "start_time": "2023-04-26T20:32:31.580Z"
   },
   {
    "duration": 9,
    "start_time": "2023-04-26T20:32:43.675Z"
   },
   {
    "duration": 183,
    "start_time": "2023-04-26T20:32:49.936Z"
   },
   {
    "duration": 77,
    "start_time": "2023-04-26T20:34:09.086Z"
   },
   {
    "duration": 70,
    "start_time": "2023-04-26T20:34:13.065Z"
   },
   {
    "duration": 264,
    "start_time": "2023-04-26T20:34:18.705Z"
   },
   {
    "duration": 13,
    "start_time": "2023-04-26T20:34:57.285Z"
   },
   {
    "duration": 154,
    "start_time": "2023-04-26T20:35:01.358Z"
   },
   {
    "duration": 60,
    "start_time": "2023-04-26T20:36:41.515Z"
   },
   {
    "duration": 269,
    "start_time": "2023-04-26T20:37:57.454Z"
   },
   {
    "duration": 1598,
    "start_time": "2023-04-27T18:52:01.622Z"
   },
   {
    "duration": 3,
    "start_time": "2023-04-27T18:52:11.321Z"
   },
   {
    "duration": 3012,
    "start_time": "2023-04-27T18:52:11.326Z"
   },
   {
    "duration": 150,
    "start_time": "2023-04-27T18:52:14.340Z"
   },
   {
    "duration": 114,
    "start_time": "2023-04-27T18:52:14.492Z"
   },
   {
    "duration": 12,
    "start_time": "2023-04-27T18:52:14.608Z"
   },
   {
    "duration": 17,
    "start_time": "2023-04-27T18:52:14.622Z"
   },
   {
    "duration": 174,
    "start_time": "2023-04-27T18:52:14.641Z"
   },
   {
    "duration": 0,
    "start_time": "2023-04-27T18:52:14.817Z"
   },
   {
    "duration": 43,
    "start_time": "2023-04-27T18:52:38.139Z"
   },
   {
    "duration": 12,
    "start_time": "2023-04-27T18:52:59.079Z"
   },
   {
    "duration": 29,
    "start_time": "2023-04-27T18:53:07.551Z"
   },
   {
    "duration": 108,
    "start_time": "2023-04-27T18:53:09.887Z"
   },
   {
    "duration": 8,
    "start_time": "2023-04-27T18:54:07.419Z"
   },
   {
    "duration": 117,
    "start_time": "2023-04-27T18:54:09.571Z"
   },
   {
    "duration": 92,
    "start_time": "2023-04-27T18:54:20.081Z"
   },
   {
    "duration": 64,
    "start_time": "2023-04-27T18:55:00.515Z"
   },
   {
    "duration": 5,
    "start_time": "2023-04-27T18:57:29.017Z"
   },
   {
    "duration": 8,
    "start_time": "2023-04-27T18:58:18.197Z"
   },
   {
    "duration": 769,
    "start_time": "2023-04-27T18:58:30.910Z"
   },
   {
    "duration": 11,
    "start_time": "2023-04-27T18:58:43.259Z"
   },
   {
    "duration": 738,
    "start_time": "2023-04-27T18:58:47.714Z"
   },
   {
    "duration": 784,
    "start_time": "2023-04-27T18:58:54.476Z"
   },
   {
    "duration": 836,
    "start_time": "2023-04-27T18:59:01.103Z"
   },
   {
    "duration": 787,
    "start_time": "2023-04-27T18:59:12.619Z"
   },
   {
    "duration": 11,
    "start_time": "2023-04-27T18:59:54.869Z"
   },
   {
    "duration": 24,
    "start_time": "2023-04-27T18:59:57.205Z"
   },
   {
    "duration": 22,
    "start_time": "2023-04-27T19:00:02.738Z"
   },
   {
    "duration": 47,
    "start_time": "2023-04-27T19:00:19.870Z"
   },
   {
    "duration": 50,
    "start_time": "2023-04-27T19:00:26.205Z"
   },
   {
    "duration": 10,
    "start_time": "2023-04-27T19:01:02.205Z"
   },
   {
    "duration": 87,
    "start_time": "2023-04-27T19:01:22.516Z"
   },
   {
    "duration": 1544,
    "start_time": "2023-04-29T13:28:41.728Z"
   },
   {
    "duration": 1013,
    "start_time": "2023-04-29T13:28:45.827Z"
   },
   {
    "duration": 105,
    "start_time": "2023-04-29T13:28:50.452Z"
   },
   {
    "duration": 96,
    "start_time": "2023-04-29T13:28:52.436Z"
   },
   {
    "duration": 13,
    "start_time": "2023-04-29T13:28:54.014Z"
   },
   {
    "duration": 2,
    "start_time": "2023-04-29T13:28:56.280Z"
   },
   {
    "duration": 28,
    "start_time": "2023-04-29T13:28:58.116Z"
   },
   {
    "duration": 79,
    "start_time": "2023-04-29T13:28:58.779Z"
   },
   {
    "duration": 97,
    "start_time": "2023-04-29T13:29:26.010Z"
   },
   {
    "duration": 173,
    "start_time": "2023-04-29T13:29:59.317Z"
   },
   {
    "duration": 100,
    "start_time": "2023-04-29T13:30:17.420Z"
   },
   {
    "duration": 12,
    "start_time": "2023-04-29T13:30:19.029Z"
   },
   {
    "duration": 534,
    "start_time": "2023-04-29T13:30:43.083Z"
   },
   {
    "duration": 656,
    "start_time": "2023-04-29T13:31:17.584Z"
   },
   {
    "duration": 588,
    "start_time": "2023-04-29T13:31:22.720Z"
   },
   {
    "duration": 617,
    "start_time": "2023-04-29T13:31:26.211Z"
   },
   {
    "duration": 481,
    "start_time": "2023-04-29T13:31:31.443Z"
   },
   {
    "duration": 405,
    "start_time": "2023-04-29T13:31:37.382Z"
   },
   {
    "duration": 467,
    "start_time": "2023-04-29T13:31:40.516Z"
   },
   {
    "duration": 48,
    "start_time": "2023-04-29T13:32:15.159Z"
   },
   {
    "duration": 1672,
    "start_time": "2023-04-30T17:22:06.660Z"
   },
   {
    "duration": 2826,
    "start_time": "2023-04-30T17:22:11.947Z"
   },
   {
    "duration": 107,
    "start_time": "2023-04-30T17:22:14.774Z"
   },
   {
    "duration": 93,
    "start_time": "2023-04-30T17:22:16.307Z"
   },
   {
    "duration": 14,
    "start_time": "2023-04-30T17:22:17.589Z"
   },
   {
    "duration": 3,
    "start_time": "2023-04-30T17:22:19.552Z"
   },
   {
    "duration": 23,
    "start_time": "2023-04-30T17:22:20.155Z"
   },
   {
    "duration": 77,
    "start_time": "2023-04-30T17:22:20.651Z"
   },
   {
    "duration": 85,
    "start_time": "2023-04-30T17:22:21.890Z"
   },
   {
    "duration": 218,
    "start_time": "2023-04-30T17:22:23.194Z"
   },
   {
    "duration": 418,
    "start_time": "2023-04-30T17:22:25.262Z"
   },
   {
    "duration": 24,
    "start_time": "2023-04-30T17:22:26.915Z"
   },
   {
    "duration": 3,
    "start_time": "2023-04-30T17:25:55.502Z"
   },
   {
    "duration": 46,
    "start_time": "2023-04-30T17:37:03.384Z"
   },
   {
    "duration": 53,
    "start_time": "2023-04-30T17:37:07.074Z"
   },
   {
    "duration": 116,
    "start_time": "2023-04-30T17:38:04.983Z"
   },
   {
    "duration": 10,
    "start_time": "2023-04-30T17:38:15.838Z"
   },
   {
    "duration": 8,
    "start_time": "2023-04-30T17:38:17.237Z"
   },
   {
    "duration": 19,
    "start_time": "2023-04-30T17:38:30.952Z"
   },
   {
    "duration": 17,
    "start_time": "2023-04-30T17:38:34.392Z"
   },
   {
    "duration": 5,
    "start_time": "2023-04-30T17:38:48.431Z"
   },
   {
    "duration": 6,
    "start_time": "2023-04-30T17:38:55.286Z"
   },
   {
    "duration": 5,
    "start_time": "2023-04-30T17:38:57.938Z"
   },
   {
    "duration": 194,
    "start_time": "2023-04-30T17:39:12.520Z"
   },
   {
    "duration": 222,
    "start_time": "2023-04-30T17:39:37.007Z"
   },
   {
    "duration": 77,
    "start_time": "2023-04-30T17:59:04.319Z"
   },
   {
    "duration": 873,
    "start_time": "2023-04-30T17:59:07.041Z"
   },
   {
    "duration": 17,
    "start_time": "2023-04-30T18:00:33.081Z"
   },
   {
    "duration": 226,
    "start_time": "2023-04-30T18:01:37.815Z"
   },
   {
    "duration": 270,
    "start_time": "2023-04-30T18:02:00.659Z"
   },
   {
    "duration": 274,
    "start_time": "2023-04-30T18:02:03.841Z"
   },
   {
    "duration": 28,
    "start_time": "2023-04-30T18:03:02.948Z"
   },
   {
    "duration": 20,
    "start_time": "2023-04-30T18:03:06.614Z"
   },
   {
    "duration": 6,
    "start_time": "2023-04-30T18:03:14.214Z"
   },
   {
    "duration": 12,
    "start_time": "2023-04-30T18:03:44.650Z"
   },
   {
    "duration": 88,
    "start_time": "2023-04-30T18:03:50.316Z"
   },
   {
    "duration": 11,
    "start_time": "2023-04-30T18:04:08.323Z"
   },
   {
    "duration": 1028,
    "start_time": "2023-04-30T18:04:13.018Z"
   },
   {
    "duration": 4,
    "start_time": "2023-04-30T18:05:24.684Z"
   },
   {
    "duration": 5,
    "start_time": "2023-04-30T18:07:04.114Z"
   },
   {
    "duration": 173,
    "start_time": "2023-04-30T23:16:10.887Z"
   },
   {
    "duration": 208,
    "start_time": "2023-04-30T23:16:36.203Z"
   },
   {
    "duration": 6,
    "start_time": "2023-04-30T23:18:14.130Z"
   },
   {
    "duration": 15,
    "start_time": "2023-04-30T23:18:17.483Z"
   },
   {
    "duration": 6,
    "start_time": "2023-04-30T23:18:19.479Z"
   },
   {
    "duration": 3,
    "start_time": "2023-04-30T23:18:46.110Z"
   },
   {
    "duration": 9,
    "start_time": "2023-04-30T23:18:47.875Z"
   },
   {
    "duration": 8,
    "start_time": "2023-04-30T23:19:12.245Z"
   },
   {
    "duration": 10,
    "start_time": "2023-04-30T23:19:24.834Z"
   },
   {
    "duration": 3,
    "start_time": "2023-04-30T23:19:35.702Z"
   },
   {
    "duration": 12,
    "start_time": "2023-04-30T23:19:37.324Z"
   },
   {
    "duration": 3,
    "start_time": "2023-04-30T23:20:26.143Z"
   },
   {
    "duration": 9,
    "start_time": "2023-04-30T23:20:26.887Z"
   },
   {
    "duration": 1297,
    "start_time": "2023-04-30T23:20:43.819Z"
   },
   {
    "duration": 824,
    "start_time": "2023-04-30T23:20:45.118Z"
   },
   {
    "duration": 126,
    "start_time": "2023-04-30T23:20:45.943Z"
   },
   {
    "duration": 106,
    "start_time": "2023-04-30T23:20:46.071Z"
   },
   {
    "duration": 11,
    "start_time": "2023-04-30T23:20:46.179Z"
   },
   {
    "duration": 5,
    "start_time": "2023-04-30T23:20:46.192Z"
   },
   {
    "duration": 25,
    "start_time": "2023-04-30T23:20:46.199Z"
   },
   {
    "duration": 89,
    "start_time": "2023-04-30T23:20:46.226Z"
   },
   {
    "duration": 69,
    "start_time": "2023-04-30T23:20:46.317Z"
   },
   {
    "duration": 184,
    "start_time": "2023-04-30T23:20:46.387Z"
   },
   {
    "duration": 412,
    "start_time": "2023-04-30T23:20:46.573Z"
   },
   {
    "duration": 22,
    "start_time": "2023-04-30T23:20:46.986Z"
   },
   {
    "duration": 12,
    "start_time": "2023-04-30T23:20:47.009Z"
   },
   {
    "duration": 210,
    "start_time": "2023-04-30T23:20:47.023Z"
   },
   {
    "duration": 5,
    "start_time": "2023-04-30T23:20:47.234Z"
   },
   {
    "duration": 31,
    "start_time": "2023-04-30T23:20:47.241Z"
   },
   {
    "duration": 5,
    "start_time": "2023-04-30T23:20:47.273Z"
   },
   {
    "duration": 41,
    "start_time": "2023-04-30T23:20:47.280Z"
   },
   {
    "duration": 76,
    "start_time": "2023-04-30T23:20:47.322Z"
   },
   {
    "duration": 65,
    "start_time": "2023-04-30T23:22:45.723Z"
   },
   {
    "duration": 22,
    "start_time": "2023-04-30T23:22:52.081Z"
   },
   {
    "duration": 213,
    "start_time": "2023-04-30T23:23:10.060Z"
   },
   {
    "duration": 18,
    "start_time": "2023-04-30T23:26:13.993Z"
   },
   {
    "duration": 295,
    "start_time": "2023-04-30T23:26:15.481Z"
   },
   {
    "duration": 108,
    "start_time": "2023-04-30T23:26:36.495Z"
   },
   {
    "duration": 16,
    "start_time": "2023-04-30T23:26:41.500Z"
   },
   {
    "duration": 239,
    "start_time": "2023-04-30T23:26:42.201Z"
   },
   {
    "duration": 22,
    "start_time": "2023-04-30T23:27:12.433Z"
   },
   {
    "duration": 211,
    "start_time": "2023-04-30T23:27:13.616Z"
   },
   {
    "duration": 14,
    "start_time": "2023-04-30T23:30:26.919Z"
   },
   {
    "duration": 12,
    "start_time": "2023-04-30T23:30:42.185Z"
   },
   {
    "duration": 10,
    "start_time": "2023-04-30T23:30:59.173Z"
   },
   {
    "duration": 13,
    "start_time": "2023-04-30T23:31:05.223Z"
   },
   {
    "duration": 12,
    "start_time": "2023-04-30T23:31:09.358Z"
   },
   {
    "duration": 12,
    "start_time": "2023-04-30T23:31:14.887Z"
   },
   {
    "duration": 11,
    "start_time": "2023-04-30T23:31:26.566Z"
   },
   {
    "duration": 23,
    "start_time": "2023-04-30T23:32:16.579Z"
   },
   {
    "duration": 192,
    "start_time": "2023-04-30T23:32:18.301Z"
   },
   {
    "duration": 217,
    "start_time": "2023-04-30T23:33:03.398Z"
   },
   {
    "duration": 214,
    "start_time": "2023-04-30T23:33:12.066Z"
   },
   {
    "duration": 182,
    "start_time": "2023-04-30T23:33:16.519Z"
   },
   {
    "duration": 208,
    "start_time": "2023-04-30T23:33:20.723Z"
   },
   {
    "duration": 15,
    "start_time": "2023-04-30T23:33:43.096Z"
   },
   {
    "duration": 37,
    "start_time": "2023-04-30T23:35:16.905Z"
   },
   {
    "duration": 252,
    "start_time": "2023-04-30T23:35:17.654Z"
   },
   {
    "duration": 26,
    "start_time": "2023-04-30T23:35:41.376Z"
   },
   {
    "duration": 25,
    "start_time": "2023-04-30T23:35:43.633Z"
   },
   {
    "duration": 312,
    "start_time": "2023-04-30T23:35:44.094Z"
   },
   {
    "duration": 31,
    "start_time": "2023-04-30T23:36:14.028Z"
   },
   {
    "duration": 310,
    "start_time": "2023-04-30T23:38:24.001Z"
   },
   {
    "duration": 46,
    "start_time": "2023-04-30T23:38:41.398Z"
   },
   {
    "duration": 373,
    "start_time": "2023-04-30T23:38:52.661Z"
   },
   {
    "duration": 384,
    "start_time": "2023-04-30T23:39:38.689Z"
   },
   {
    "duration": 218,
    "start_time": "2023-04-30T23:39:48.947Z"
   },
   {
    "duration": 534,
    "start_time": "2023-04-30T23:39:51.759Z"
   },
   {
    "duration": 399,
    "start_time": "2023-04-30T23:40:05.270Z"
   },
   {
    "duration": 555,
    "start_time": "2023-04-30T23:40:09.339Z"
   },
   {
    "duration": 374,
    "start_time": "2023-04-30T23:40:14.507Z"
   },
   {
    "duration": 526,
    "start_time": "2023-04-30T23:40:16.904Z"
   },
   {
    "duration": 431,
    "start_time": "2023-04-30T23:40:21.384Z"
   },
   {
    "duration": 371,
    "start_time": "2023-04-30T23:40:24.526Z"
   },
   {
    "duration": 390,
    "start_time": "2023-04-30T23:40:44.220Z"
   },
   {
    "duration": 525,
    "start_time": "2023-04-30T23:40:55.401Z"
   },
   {
    "duration": 383,
    "start_time": "2023-04-30T23:41:01.068Z"
   },
   {
    "duration": 390,
    "start_time": "2023-04-30T23:41:05.346Z"
   },
   {
    "duration": 564,
    "start_time": "2023-04-30T23:41:20.966Z"
   },
   {
    "duration": 407,
    "start_time": "2023-04-30T23:41:29.792Z"
   },
   {
    "duration": 402,
    "start_time": "2023-04-30T23:43:45.366Z"
   },
   {
    "duration": 460,
    "start_time": "2023-04-30T23:44:05.079Z"
   },
   {
    "duration": 535,
    "start_time": "2023-04-30T23:44:10.809Z"
   },
   {
    "duration": 465,
    "start_time": "2023-04-30T23:44:13.642Z"
   },
   {
    "duration": 448,
    "start_time": "2023-04-30T23:44:33.896Z"
   },
   {
    "duration": 22,
    "start_time": "2023-04-30T23:46:17.447Z"
   },
   {
    "duration": 1729,
    "start_time": "2023-05-02T16:19:45.800Z"
   },
   {
    "duration": 2784,
    "start_time": "2023-05-02T16:19:49.065Z"
   },
   {
    "duration": 133,
    "start_time": "2023-05-02T16:19:51.850Z"
   },
   {
    "duration": 93,
    "start_time": "2023-05-02T16:19:52.506Z"
   },
   {
    "duration": 12,
    "start_time": "2023-05-02T16:19:54.872Z"
   },
   {
    "duration": 4,
    "start_time": "2023-05-02T16:19:56.442Z"
   },
   {
    "duration": 22,
    "start_time": "2023-05-02T16:19:57.162Z"
   },
   {
    "duration": 84,
    "start_time": "2023-05-02T16:19:57.702Z"
   },
   {
    "duration": 80,
    "start_time": "2023-05-02T16:19:58.851Z"
   },
   {
    "duration": 159,
    "start_time": "2023-05-02T16:20:00.106Z"
   },
   {
    "duration": 409,
    "start_time": "2023-05-02T16:20:02.467Z"
   },
   {
    "duration": 25,
    "start_time": "2023-05-02T16:20:04.787Z"
   },
   {
    "duration": 11,
    "start_time": "2023-05-02T16:20:06.199Z"
   },
   {
    "duration": 177,
    "start_time": "2023-05-02T16:20:07.975Z"
   },
   {
    "duration": 5,
    "start_time": "2023-05-02T16:20:29.002Z"
   },
   {
    "duration": 16,
    "start_time": "2023-05-02T16:20:29.904Z"
   },
   {
    "duration": 5,
    "start_time": "2023-05-02T16:20:31.400Z"
   },
   {
    "duration": 29,
    "start_time": "2023-05-02T16:20:32.671Z"
   },
   {
    "duration": 78,
    "start_time": "2023-05-02T16:20:33.515Z"
   },
   {
    "duration": 19,
    "start_time": "2023-05-02T16:20:35.008Z"
   },
   {
    "duration": 25,
    "start_time": "2023-05-02T16:20:36.398Z"
   },
   {
    "duration": 29,
    "start_time": "2023-05-02T16:20:37.067Z"
   },
   {
    "duration": 17,
    "start_time": "2023-05-02T16:20:37.655Z"
   },
   {
    "duration": 197,
    "start_time": "2023-05-02T16:20:44.542Z"
   },
   {
    "duration": 215,
    "start_time": "2023-05-02T16:20:45.900Z"
   },
   {
    "duration": 9,
    "start_time": "2023-05-02T16:31:46.749Z"
   },
   {
    "duration": 10,
    "start_time": "2023-05-02T16:32:02.460Z"
   },
   {
    "duration": 16,
    "start_time": "2023-05-02T16:32:06.471Z"
   },
   {
    "duration": 61,
    "start_time": "2023-05-02T16:32:36.036Z"
   },
   {
    "duration": 18,
    "start_time": "2023-05-02T16:32:41.263Z"
   },
   {
    "duration": 28,
    "start_time": "2023-05-02T16:32:48.936Z"
   },
   {
    "duration": 486,
    "start_time": "2023-05-02T16:32:50.922Z"
   },
   {
    "duration": 17,
    "start_time": "2023-05-02T16:32:56.224Z"
   },
   {
    "duration": 530,
    "start_time": "2023-05-02T16:32:56.957Z"
   },
   {
    "duration": 1414,
    "start_time": "2023-05-02T16:33:03.530Z"
   },
   {
    "duration": 799,
    "start_time": "2023-05-02T16:33:04.946Z"
   },
   {
    "duration": 169,
    "start_time": "2023-05-02T16:33:05.747Z"
   },
   {
    "duration": 100,
    "start_time": "2023-05-02T16:33:05.918Z"
   },
   {
    "duration": 12,
    "start_time": "2023-05-02T16:33:06.020Z"
   },
   {
    "duration": 7,
    "start_time": "2023-05-02T16:33:06.034Z"
   },
   {
    "duration": 29,
    "start_time": "2023-05-02T16:33:06.043Z"
   },
   {
    "duration": 144,
    "start_time": "2023-05-02T16:33:06.074Z"
   },
   {
    "duration": 110,
    "start_time": "2023-05-02T16:33:06.219Z"
   },
   {
    "duration": 269,
    "start_time": "2023-05-02T16:33:06.331Z"
   },
   {
    "duration": 602,
    "start_time": "2023-05-02T16:33:06.602Z"
   },
   {
    "duration": 48,
    "start_time": "2023-05-02T16:33:07.206Z"
   },
   {
    "duration": 12,
    "start_time": "2023-05-02T16:33:07.256Z"
   },
   {
    "duration": 262,
    "start_time": "2023-05-02T16:33:07.271Z"
   },
   {
    "duration": 6,
    "start_time": "2023-05-02T16:33:07.535Z"
   },
   {
    "duration": 20,
    "start_time": "2023-05-02T16:33:07.542Z"
   },
   {
    "duration": 8,
    "start_time": "2023-05-02T16:33:07.564Z"
   },
   {
    "duration": 80,
    "start_time": "2023-05-02T16:33:07.573Z"
   },
   {
    "duration": 106,
    "start_time": "2023-05-02T16:33:07.657Z"
   },
   {
    "duration": 48,
    "start_time": "2023-05-02T16:33:07.765Z"
   },
   {
    "duration": 33,
    "start_time": "2023-05-02T16:33:07.816Z"
   },
   {
    "duration": 66,
    "start_time": "2023-05-02T16:33:07.851Z"
   },
   {
    "duration": 32,
    "start_time": "2023-05-02T16:33:07.919Z"
   },
   {
    "duration": 601,
    "start_time": "2023-05-02T16:33:07.954Z"
   },
   {
    "duration": 317,
    "start_time": "2023-05-02T16:33:08.560Z"
   },
   {
    "duration": 116,
    "start_time": "2023-05-02T16:33:08.880Z"
   },
   {
    "duration": 111,
    "start_time": "2023-05-02T16:34:08.703Z"
   },
   {
    "duration": 16,
    "start_time": "2023-05-02T16:34:11.407Z"
   },
   {
    "duration": 24,
    "start_time": "2023-05-02T16:34:15.630Z"
   },
   {
    "duration": 449,
    "start_time": "2023-05-02T16:34:16.335Z"
   },
   {
    "duration": 476,
    "start_time": "2023-05-02T16:36:46.031Z"
   },
   {
    "duration": 38,
    "start_time": "2023-05-02T16:37:17.052Z"
   },
   {
    "duration": 534,
    "start_time": "2023-05-02T16:38:17.675Z"
   },
   {
    "duration": 496,
    "start_time": "2023-05-02T16:40:19.295Z"
   },
   {
    "duration": 10515,
    "start_time": "2023-05-02T16:40:28.015Z"
   },
   {
    "duration": 1314,
    "start_time": "2023-05-02T16:48:51.419Z"
   },
   {
    "duration": 740,
    "start_time": "2023-05-02T16:48:52.735Z"
   },
   {
    "duration": 136,
    "start_time": "2023-05-02T16:48:53.476Z"
   },
   {
    "duration": 98,
    "start_time": "2023-05-02T16:48:53.614Z"
   },
   {
    "duration": 13,
    "start_time": "2023-05-02T16:48:53.715Z"
   },
   {
    "duration": 1902,
    "start_time": "2023-05-02T16:50:02.120Z"
   },
   {
    "duration": 767,
    "start_time": "2023-05-02T16:50:04.024Z"
   },
   {
    "duration": 139,
    "start_time": "2023-05-02T16:50:04.805Z"
   },
   {
    "duration": 100,
    "start_time": "2023-05-02T16:50:04.946Z"
   },
   {
    "duration": 11,
    "start_time": "2023-05-02T16:50:05.049Z"
   },
   {
    "duration": 15,
    "start_time": "2023-05-02T16:50:05.062Z"
   },
   {
    "duration": 32,
    "start_time": "2023-05-02T16:50:05.078Z"
   },
   {
    "duration": 127,
    "start_time": "2023-05-02T16:50:05.112Z"
   },
   {
    "duration": 18361,
    "start_time": "2023-05-02T16:50:05.240Z"
   },
   {
    "duration": 76,
    "start_time": "2023-05-02T16:50:23.603Z"
   },
   {
    "duration": 179,
    "start_time": "2023-05-02T16:50:23.680Z"
   },
   {
    "duration": 448,
    "start_time": "2023-05-02T16:50:23.860Z"
   },
   {
    "duration": 23,
    "start_time": "2023-05-02T16:50:24.310Z"
   },
   {
    "duration": 12,
    "start_time": "2023-05-02T16:50:24.336Z"
   },
   {
    "duration": 204,
    "start_time": "2023-05-02T16:50:24.350Z"
   },
   {
    "duration": 4,
    "start_time": "2023-05-02T16:50:24.556Z"
   },
   {
    "duration": 26,
    "start_time": "2023-05-02T16:50:24.562Z"
   },
   {
    "duration": 10,
    "start_time": "2023-05-02T16:50:24.590Z"
   },
   {
    "duration": 30,
    "start_time": "2023-05-02T16:50:24.601Z"
   },
   {
    "duration": 94,
    "start_time": "2023-05-02T16:50:24.633Z"
   },
   {
    "duration": 16,
    "start_time": "2023-05-02T16:50:24.728Z"
   },
   {
    "duration": 25,
    "start_time": "2023-05-02T16:50:24.746Z"
   },
   {
    "duration": 43,
    "start_time": "2023-05-02T16:50:24.773Z"
   },
   {
    "duration": 27,
    "start_time": "2023-05-02T16:50:24.818Z"
   },
   {
    "duration": 443,
    "start_time": "2023-05-02T16:50:24.848Z"
   },
   {
    "duration": 23,
    "start_time": "2023-05-02T16:50:25.293Z"
   },
   {
    "duration": 11823,
    "start_time": "2023-05-02T16:50:25.318Z"
   },
   {
    "duration": 17,
    "start_time": "2023-05-02T17:12:41.281Z"
   },
   {
    "duration": 12,
    "start_time": "2023-05-02T17:12:55.576Z"
   },
   {
    "duration": 6,
    "start_time": "2023-05-02T17:13:07.862Z"
   },
   {
    "duration": 106,
    "start_time": "2023-05-02T17:14:10.540Z"
   },
   {
    "duration": 21,
    "start_time": "2023-05-02T17:14:36.942Z"
   },
   {
    "duration": 201,
    "start_time": "2023-05-02T17:15:01.845Z"
   },
   {
    "duration": 8,
    "start_time": "2023-05-02T19:06:09.732Z"
   },
   {
    "duration": 16,
    "start_time": "2023-05-02T19:06:13.435Z"
   },
   {
    "duration": 0,
    "start_time": "2023-05-02T19:06:58.998Z"
   },
   {
    "duration": 3346,
    "start_time": "2023-05-02T19:07:00.859Z"
   },
   {
    "duration": 1719,
    "start_time": "2023-05-02T19:07:43.365Z"
   },
   {
    "duration": 9,
    "start_time": "2023-05-02T19:08:16.731Z"
   },
   {
    "duration": 21,
    "start_time": "2023-05-02T19:08:30.449Z"
   },
   {
    "duration": 17,
    "start_time": "2023-05-02T19:09:18.133Z"
   },
   {
    "duration": 863,
    "start_time": "2023-05-02T19:09:26.983Z"
   },
   {
    "duration": 9,
    "start_time": "2023-05-02T19:09:37.827Z"
   },
   {
    "duration": 27,
    "start_time": "2023-05-02T19:09:53.453Z"
   },
   {
    "duration": 22,
    "start_time": "2023-05-02T19:10:09.856Z"
   },
   {
    "duration": 11493,
    "start_time": "2023-05-02T19:10:16.356Z"
   },
   {
    "duration": 11,
    "start_time": "2023-05-02T19:11:10.783Z"
   },
   {
    "duration": 4594,
    "start_time": "2023-05-02T19:11:26.282Z"
   },
   {
    "duration": 127,
    "start_time": "2023-05-02T19:13:04.633Z"
   },
   {
    "duration": 182,
    "start_time": "2023-05-02T19:13:14.865Z"
   },
   {
    "duration": 5,
    "start_time": "2023-05-02T19:13:30.855Z"
   },
   {
    "duration": 4,
    "start_time": "2023-05-02T19:14:16.799Z"
   },
   {
    "duration": 1628,
    "start_time": "2023-05-02T19:14:18.262Z"
   },
   {
    "duration": 5,
    "start_time": "2023-05-02T19:14:28.984Z"
   },
   {
    "duration": 1390,
    "start_time": "2023-05-02T19:14:46.320Z"
   },
   {
    "duration": 753,
    "start_time": "2023-05-02T19:14:47.711Z"
   },
   {
    "duration": 131,
    "start_time": "2023-05-02T19:14:48.465Z"
   },
   {
    "duration": 95,
    "start_time": "2023-05-02T19:14:48.597Z"
   },
   {
    "duration": 12,
    "start_time": "2023-05-02T19:14:48.694Z"
   },
   {
    "duration": 5,
    "start_time": "2023-05-02T19:14:48.707Z"
   },
   {
    "duration": 30,
    "start_time": "2023-05-02T19:14:48.713Z"
   },
   {
    "duration": 98,
    "start_time": "2023-05-02T19:14:48.744Z"
   },
   {
    "duration": 18578,
    "start_time": "2023-05-02T19:14:48.844Z"
   },
   {
    "duration": 80,
    "start_time": "2023-05-02T19:15:07.424Z"
   },
   {
    "duration": 173,
    "start_time": "2023-05-02T19:15:07.506Z"
   },
   {
    "duration": 428,
    "start_time": "2023-05-02T19:15:07.680Z"
   },
   {
    "duration": 25,
    "start_time": "2023-05-02T19:15:08.110Z"
   },
   {
    "duration": 14,
    "start_time": "2023-05-02T19:15:08.138Z"
   },
   {
    "duration": 203,
    "start_time": "2023-05-02T19:15:08.153Z"
   },
   {
    "duration": 6,
    "start_time": "2023-05-02T19:15:08.357Z"
   },
   {
    "duration": 30,
    "start_time": "2023-05-02T19:15:08.366Z"
   },
   {
    "duration": 29,
    "start_time": "2023-05-02T19:15:08.397Z"
   },
   {
    "duration": 86,
    "start_time": "2023-05-02T19:15:08.428Z"
   },
   {
    "duration": 17,
    "start_time": "2023-05-02T19:15:08.516Z"
   },
   {
    "duration": 27,
    "start_time": "2023-05-02T19:15:08.534Z"
   },
   {
    "duration": 49,
    "start_time": "2023-05-02T19:15:08.563Z"
   },
   {
    "duration": 22,
    "start_time": "2023-05-02T19:15:08.614Z"
   },
   {
    "duration": 438,
    "start_time": "2023-05-02T19:15:08.638Z"
   },
   {
    "duration": 32,
    "start_time": "2023-05-02T19:15:09.077Z"
   },
   {
    "duration": 11249,
    "start_time": "2023-05-02T19:15:09.110Z"
   },
   {
    "duration": 12,
    "start_time": "2023-05-02T19:15:20.361Z"
   },
   {
    "duration": 30,
    "start_time": "2023-05-02T19:15:20.375Z"
   },
   {
    "duration": 40,
    "start_time": "2023-05-02T19:15:20.406Z"
   },
   {
    "duration": 5124,
    "start_time": "2023-05-02T19:15:20.448Z"
   },
   {
    "duration": 181,
    "start_time": "2023-05-02T19:15:25.574Z"
   },
   {
    "duration": 4,
    "start_time": "2023-05-02T19:18:09.084Z"
   },
   {
    "duration": 6,
    "start_time": "2023-05-02T19:18:24.680Z"
   },
   {
    "duration": 5,
    "start_time": "2023-05-02T19:18:26.228Z"
   },
   {
    "duration": 6,
    "start_time": "2023-05-02T19:19:06.496Z"
   },
   {
    "duration": 6,
    "start_time": "2023-05-02T19:19:12.320Z"
   },
   {
    "duration": 5,
    "start_time": "2023-05-02T19:19:17.645Z"
   },
   {
    "duration": 5,
    "start_time": "2023-05-02T19:19:24.062Z"
   },
   {
    "duration": 5,
    "start_time": "2023-05-02T19:19:26.189Z"
   },
   {
    "duration": 5,
    "start_time": "2023-05-02T19:19:39.328Z"
   },
   {
    "duration": 4,
    "start_time": "2023-05-02T19:19:41.599Z"
   },
   {
    "duration": 171,
    "start_time": "2023-05-02T19:19:43.613Z"
   },
   {
    "duration": 5,
    "start_time": "2023-05-02T19:19:56.945Z"
   },
   {
    "duration": 5,
    "start_time": "2023-05-02T19:20:01.473Z"
   },
   {
    "duration": 6,
    "start_time": "2023-05-02T19:20:03.839Z"
   },
   {
    "duration": 1675,
    "start_time": "2023-05-03T11:31:09.058Z"
   },
   {
    "duration": 1377,
    "start_time": "2023-05-03T11:31:11.623Z"
   },
   {
    "duration": 176,
    "start_time": "2023-05-03T11:31:13.002Z"
   },
   {
    "duration": 106,
    "start_time": "2023-05-03T11:31:15.046Z"
   },
   {
    "duration": 18,
    "start_time": "2023-05-03T11:31:16.317Z"
   },
   {
    "duration": 4,
    "start_time": "2023-05-03T11:31:19.925Z"
   },
   {
    "duration": 25,
    "start_time": "2023-05-03T11:31:20.758Z"
   },
   {
    "duration": 102,
    "start_time": "2023-05-03T11:31:21.341Z"
   },
   {
    "duration": 22031,
    "start_time": "2023-05-03T11:31:23.159Z"
   },
   {
    "duration": 1501,
    "start_time": "2023-05-03T12:02:12.930Z"
   },
   {
    "duration": 901,
    "start_time": "2023-05-03T12:02:14.434Z"
   },
   {
    "duration": 187,
    "start_time": "2023-05-03T12:02:15.336Z"
   },
   {
    "duration": 120,
    "start_time": "2023-05-03T12:02:15.526Z"
   },
   {
    "duration": 14,
    "start_time": "2023-05-03T12:02:15.649Z"
   },
   {
    "duration": 6,
    "start_time": "2023-05-03T12:02:15.665Z"
   },
   {
    "duration": 48,
    "start_time": "2023-05-03T12:02:15.673Z"
   },
   {
    "duration": 143,
    "start_time": "2023-05-03T12:02:15.723Z"
   },
   {
    "duration": 22373,
    "start_time": "2023-05-03T12:02:15.869Z"
   },
   {
    "duration": 103,
    "start_time": "2023-05-03T12:02:38.244Z"
   },
   {
    "duration": 206,
    "start_time": "2023-05-03T12:02:38.349Z"
   },
   {
    "duration": 608,
    "start_time": "2023-05-03T12:02:38.557Z"
   },
   {
    "duration": 31,
    "start_time": "2023-05-03T12:02:39.167Z"
   },
   {
    "duration": 16,
    "start_time": "2023-05-03T12:02:39.213Z"
   },
   {
    "duration": 273,
    "start_time": "2023-05-03T12:02:39.231Z"
   },
   {
    "duration": 19,
    "start_time": "2023-05-03T12:02:39.506Z"
   },
   {
    "duration": 19,
    "start_time": "2023-05-03T12:02:39.529Z"
   },
   {
    "duration": 38,
    "start_time": "2023-05-03T12:02:39.549Z"
   },
   {
    "duration": 113,
    "start_time": "2023-05-03T12:02:39.589Z"
   },
   {
    "duration": 40,
    "start_time": "2023-05-03T12:02:39.713Z"
   },
   {
    "duration": 36,
    "start_time": "2023-05-03T12:02:39.755Z"
   },
   {
    "duration": 45,
    "start_time": "2023-05-03T12:02:39.793Z"
   },
   {
    "duration": 27,
    "start_time": "2023-05-03T12:02:39.840Z"
   },
   {
    "duration": 534,
    "start_time": "2023-05-03T12:02:39.869Z"
   },
   {
    "duration": 44,
    "start_time": "2023-05-03T12:02:40.405Z"
   },
   {
    "duration": 13379,
    "start_time": "2023-05-03T12:02:40.451Z"
   },
   {
    "duration": 14,
    "start_time": "2023-05-03T12:02:53.832Z"
   },
   {
    "duration": 32,
    "start_time": "2023-05-03T12:02:53.848Z"
   },
   {
    "duration": 29,
    "start_time": "2023-05-03T12:02:53.882Z"
   },
   {
    "duration": 6301,
    "start_time": "2023-05-03T12:02:53.912Z"
   },
   {
    "duration": 10,
    "start_time": "2023-05-03T12:03:00.217Z"
   },
   {
    "duration": 38,
    "start_time": "2023-05-03T12:03:00.229Z"
   },
   {
    "duration": 266,
    "start_time": "2023-05-03T12:03:00.269Z"
   },
   {
    "duration": 5,
    "start_time": "2023-05-03T12:04:18.525Z"
   },
   {
    "duration": 10,
    "start_time": "2023-05-03T12:04:22.709Z"
   },
   {
    "duration": 208,
    "start_time": "2023-05-03T12:04:23.795Z"
   },
   {
    "duration": 7,
    "start_time": "2023-05-03T12:04:49.145Z"
   },
   {
    "duration": 226,
    "start_time": "2023-05-03T12:05:08.410Z"
   },
   {
    "duration": 13,
    "start_time": "2023-05-03T12:09:58.846Z"
   },
   {
    "duration": 40,
    "start_time": "2023-05-03T12:12:03.419Z"
   },
   {
    "duration": 156,
    "start_time": "2023-05-03T12:12:47.672Z"
   },
   {
    "duration": 34,
    "start_time": "2023-05-03T12:12:55.243Z"
   },
   {
    "duration": 32,
    "start_time": "2023-05-03T12:13:48.246Z"
   },
   {
    "duration": 36,
    "start_time": "2023-05-03T12:13:51.095Z"
   },
   {
    "duration": 12,
    "start_time": "2023-05-03T12:14:24.830Z"
   },
   {
    "duration": 107,
    "start_time": "2023-05-03T12:14:40.540Z"
   },
   {
    "duration": 22,
    "start_time": "2023-05-03T12:14:51.708Z"
   },
   {
    "duration": 6,
    "start_time": "2023-05-03T12:14:52.725Z"
   },
   {
    "duration": 6,
    "start_time": "2023-05-03T12:15:02.377Z"
   },
   {
    "duration": 4,
    "start_time": "2023-05-03T12:15:05.426Z"
   },
   {
    "duration": 7,
    "start_time": "2023-05-03T12:15:08.380Z"
   },
   {
    "duration": 1489,
    "start_time": "2023-05-03T12:15:31.018Z"
   },
   {
    "duration": 927,
    "start_time": "2023-05-03T12:15:32.509Z"
   },
   {
    "duration": 161,
    "start_time": "2023-05-03T12:15:33.438Z"
   },
   {
    "duration": 115,
    "start_time": "2023-05-03T12:15:33.611Z"
   },
   {
    "duration": 15,
    "start_time": "2023-05-03T12:15:33.728Z"
   },
   {
    "duration": 15,
    "start_time": "2023-05-03T12:15:33.745Z"
   },
   {
    "duration": 61,
    "start_time": "2023-05-03T12:15:33.761Z"
   },
   {
    "duration": 117,
    "start_time": "2023-05-03T12:15:33.824Z"
   },
   {
    "duration": 21224,
    "start_time": "2023-05-03T12:15:33.943Z"
   },
   {
    "duration": 96,
    "start_time": "2023-05-03T12:15:55.170Z"
   },
   {
    "duration": 200,
    "start_time": "2023-05-03T12:15:55.267Z"
   },
   {
    "duration": 516,
    "start_time": "2023-05-03T12:15:55.469Z"
   },
   {
    "duration": 39,
    "start_time": "2023-05-03T12:15:55.986Z"
   },
   {
    "duration": 12,
    "start_time": "2023-05-03T12:15:56.027Z"
   },
   {
    "duration": 230,
    "start_time": "2023-05-03T12:15:56.041Z"
   },
   {
    "duration": 43,
    "start_time": "2023-05-03T12:15:56.273Z"
   },
   {
    "duration": 93,
    "start_time": "2023-05-03T12:15:56.326Z"
   },
   {
    "duration": 19,
    "start_time": "2023-05-03T12:15:56.423Z"
   },
   {
    "duration": 98,
    "start_time": "2023-05-03T12:15:56.444Z"
   },
   {
    "duration": 557,
    "start_time": "2023-05-03T12:15:56.544Z"
   },
   {
    "duration": 41,
    "start_time": "2023-05-03T12:15:57.103Z"
   },
   {
    "duration": 13510,
    "start_time": "2023-05-03T12:15:57.146Z"
   },
   {
    "duration": 15,
    "start_time": "2023-05-03T12:16:10.658Z"
   },
   {
    "duration": 22,
    "start_time": "2023-05-03T12:16:10.675Z"
   },
   {
    "duration": 29,
    "start_time": "2023-05-03T12:16:10.714Z"
   },
   {
    "duration": 6157,
    "start_time": "2023-05-03T12:16:10.745Z"
   },
   {
    "duration": 6,
    "start_time": "2023-05-03T12:16:16.904Z"
   },
   {
    "duration": 244,
    "start_time": "2023-05-03T12:16:16.914Z"
   },
   {
    "duration": 5,
    "start_time": "2023-05-03T12:16:17.161Z"
   },
   {
    "duration": 22,
    "start_time": "2023-05-03T12:16:17.168Z"
   },
   {
    "duration": 53,
    "start_time": "2023-05-03T12:16:17.192Z"
   },
   {
    "duration": 76,
    "start_time": "2023-05-03T12:16:17.247Z"
   },
   {
    "duration": 39,
    "start_time": "2023-05-03T12:16:17.326Z"
   },
   {
    "duration": 20,
    "start_time": "2023-05-03T12:16:17.368Z"
   },
   {
    "duration": 35,
    "start_time": "2023-05-03T12:16:47.810Z"
   },
   {
    "duration": 168,
    "start_time": "2023-05-03T12:18:02.526Z"
   },
   {
    "duration": 36,
    "start_time": "2023-05-03T12:18:17.024Z"
   },
   {
    "duration": 18,
    "start_time": "2023-05-03T12:18:17.752Z"
   },
   {
    "duration": 172,
    "start_time": "2023-05-03T12:18:18.623Z"
   },
   {
    "duration": 82,
    "start_time": "2023-05-03T14:19:36.330Z"
   },
   {
    "duration": 3239,
    "start_time": "2023-05-03T14:20:51.929Z"
   },
   {
    "duration": 111,
    "start_time": "2023-05-03T14:21:13.240Z"
   },
   {
    "duration": 293,
    "start_time": "2023-05-03T14:21:28.104Z"
   },
   {
    "duration": 12,
    "start_time": "2023-05-03T14:21:42.884Z"
   },
   {
    "duration": 10,
    "start_time": "2023-05-03T14:21:46.092Z"
   },
   {
    "duration": 858,
    "start_time": "2023-05-03T14:21:59.385Z"
   },
   {
    "duration": 61,
    "start_time": "2023-05-03T14:22:05.550Z"
   },
   {
    "duration": 819,
    "start_time": "2023-05-03T14:22:06.345Z"
   },
   {
    "duration": 26,
    "start_time": "2023-05-03T14:22:14.607Z"
   },
   {
    "duration": 48,
    "start_time": "2023-05-03T14:22:17.709Z"
   },
   {
    "duration": 29,
    "start_time": "2023-05-03T14:22:18.448Z"
   },
   {
    "duration": 35,
    "start_time": "2023-05-03T14:59:13.917Z"
   },
   {
    "duration": 32,
    "start_time": "2023-05-03T14:59:26.318Z"
   },
   {
    "duration": 61,
    "start_time": "2023-05-03T14:59:28.808Z"
   },
   {
    "duration": 31,
    "start_time": "2023-05-03T14:59:31.014Z"
   },
   {
    "duration": 16,
    "start_time": "2023-05-03T15:08:13.656Z"
   },
   {
    "duration": 1454,
    "start_time": "2023-05-03T15:15:07.373Z"
   },
   {
    "duration": 938,
    "start_time": "2023-05-03T15:15:08.829Z"
   },
   {
    "duration": 143,
    "start_time": "2023-05-03T15:15:09.769Z"
   },
   {
    "duration": 105,
    "start_time": "2023-05-03T15:15:09.914Z"
   },
   {
    "duration": 14,
    "start_time": "2023-05-03T15:15:10.021Z"
   },
   {
    "duration": 9,
    "start_time": "2023-05-03T15:15:10.036Z"
   },
   {
    "duration": 30,
    "start_time": "2023-05-03T15:15:10.046Z"
   },
   {
    "duration": 108,
    "start_time": "2023-05-03T15:15:10.078Z"
   },
   {
    "duration": 20034,
    "start_time": "2023-05-03T15:15:10.188Z"
   },
   {
    "duration": 91,
    "start_time": "2023-05-03T15:15:30.224Z"
   },
   {
    "duration": 199,
    "start_time": "2023-05-03T15:15:30.317Z"
   },
   {
    "duration": 487,
    "start_time": "2023-05-03T15:15:30.518Z"
   },
   {
    "duration": 26,
    "start_time": "2023-05-03T15:15:31.012Z"
   },
   {
    "duration": 34,
    "start_time": "2023-05-03T15:15:31.041Z"
   },
   {
    "duration": 234,
    "start_time": "2023-05-03T15:15:31.077Z"
   },
   {
    "duration": 32,
    "start_time": "2023-05-03T15:15:31.313Z"
   },
   {
    "duration": 99,
    "start_time": "2023-05-03T15:15:31.347Z"
   },
   {
    "duration": 45,
    "start_time": "2023-05-03T15:15:31.448Z"
   },
   {
    "duration": 112,
    "start_time": "2023-05-03T15:15:31.495Z"
   },
   {
    "duration": 456,
    "start_time": "2023-05-03T15:15:31.608Z"
   },
   {
    "duration": 25,
    "start_time": "2023-05-03T15:15:32.066Z"
   },
   {
    "duration": 12927,
    "start_time": "2023-05-03T15:15:32.092Z"
   },
   {
    "duration": 12,
    "start_time": "2023-05-03T15:15:45.021Z"
   },
   {
    "duration": 43,
    "start_time": "2023-05-03T15:15:45.035Z"
   },
   {
    "duration": 37,
    "start_time": "2023-05-03T15:15:45.080Z"
   },
   {
    "duration": 5951,
    "start_time": "2023-05-03T15:15:45.119Z"
   },
   {
    "duration": 6,
    "start_time": "2023-05-03T15:15:51.072Z"
   },
   {
    "duration": 223,
    "start_time": "2023-05-03T15:15:51.079Z"
   },
   {
    "duration": 9,
    "start_time": "2023-05-03T15:15:51.304Z"
   },
   {
    "duration": 35,
    "start_time": "2023-05-03T15:15:51.314Z"
   },
   {
    "duration": 48,
    "start_time": "2023-05-03T15:15:51.350Z"
   },
   {
    "duration": 58,
    "start_time": "2023-05-03T15:15:51.400Z"
   },
   {
    "duration": 37,
    "start_time": "2023-05-03T15:15:51.460Z"
   },
   {
    "duration": 28,
    "start_time": "2023-05-03T15:15:51.499Z"
   },
   {
    "duration": 191,
    "start_time": "2023-05-03T15:15:51.529Z"
   },
   {
    "duration": 76,
    "start_time": "2023-05-03T15:15:51.721Z"
   },
   {
    "duration": 36,
    "start_time": "2023-05-03T15:15:51.799Z"
   },
   {
    "duration": 19,
    "start_time": "2023-05-03T15:15:51.836Z"
   },
   {
    "duration": 91,
    "start_time": "2023-05-03T15:16:37.255Z"
   },
   {
    "duration": 9,
    "start_time": "2023-05-03T15:16:58.068Z"
   },
   {
    "duration": 1471,
    "start_time": "2023-05-03T15:18:22.812Z"
   },
   {
    "duration": 888,
    "start_time": "2023-05-03T15:18:24.286Z"
   },
   {
    "duration": 142,
    "start_time": "2023-05-03T15:18:25.176Z"
   },
   {
    "duration": 106,
    "start_time": "2023-05-03T15:18:25.319Z"
   },
   {
    "duration": 13,
    "start_time": "2023-05-03T15:18:25.428Z"
   },
   {
    "duration": 4,
    "start_time": "2023-05-03T15:18:25.442Z"
   },
   {
    "duration": 29,
    "start_time": "2023-05-03T15:18:25.447Z"
   },
   {
    "duration": 109,
    "start_time": "2023-05-03T15:18:25.477Z"
   },
   {
    "duration": 20469,
    "start_time": "2023-05-03T15:18:25.587Z"
   },
   {
    "duration": 84,
    "start_time": "2023-05-03T15:18:46.058Z"
   },
   {
    "duration": 194,
    "start_time": "2023-05-03T15:18:46.144Z"
   },
   {
    "duration": 496,
    "start_time": "2023-05-03T15:18:46.340Z"
   },
   {
    "duration": 27,
    "start_time": "2023-05-03T15:18:46.837Z"
   },
   {
    "duration": 12,
    "start_time": "2023-05-03T15:18:46.867Z"
   },
   {
    "duration": 240,
    "start_time": "2023-05-03T15:18:46.881Z"
   },
   {
    "duration": 33,
    "start_time": "2023-05-03T15:18:47.123Z"
   },
   {
    "duration": 98,
    "start_time": "2023-05-03T15:18:47.158Z"
   },
   {
    "duration": 20,
    "start_time": "2023-05-03T15:18:47.257Z"
   },
   {
    "duration": 147,
    "start_time": "2023-05-03T15:18:47.279Z"
   },
   {
    "duration": 472,
    "start_time": "2023-05-03T15:18:47.428Z"
   },
   {
    "duration": 29,
    "start_time": "2023-05-03T15:18:47.902Z"
   },
   {
    "duration": 12751,
    "start_time": "2023-05-03T15:18:47.933Z"
   },
   {
    "duration": 26,
    "start_time": "2023-05-03T15:19:00.686Z"
   },
   {
    "duration": 53,
    "start_time": "2023-05-03T15:19:00.715Z"
   },
   {
    "duration": 75,
    "start_time": "2023-05-03T15:19:00.770Z"
   },
   {
    "duration": 6072,
    "start_time": "2023-05-03T15:19:00.847Z"
   },
   {
    "duration": 6,
    "start_time": "2023-05-03T15:19:06.920Z"
   },
   {
    "duration": 222,
    "start_time": "2023-05-03T15:19:06.928Z"
   },
   {
    "duration": 4,
    "start_time": "2023-05-03T15:19:07.153Z"
   },
   {
    "duration": 12,
    "start_time": "2023-05-03T15:19:07.159Z"
   },
   {
    "duration": 53,
    "start_time": "2023-05-03T15:19:07.173Z"
   },
   {
    "duration": 60,
    "start_time": "2023-05-03T15:19:07.227Z"
   },
   {
    "duration": 62,
    "start_time": "2023-05-03T15:19:07.289Z"
   },
   {
    "duration": 18,
    "start_time": "2023-05-03T15:19:07.352Z"
   },
   {
    "duration": 179,
    "start_time": "2023-05-03T15:19:07.372Z"
   },
   {
    "duration": 85,
    "start_time": "2023-05-03T15:19:07.553Z"
   },
   {
    "duration": 32,
    "start_time": "2023-05-03T15:19:07.640Z"
   },
   {
    "duration": 92,
    "start_time": "2023-05-03T15:19:07.674Z"
   },
   {
    "duration": 10,
    "start_time": "2023-05-03T15:19:07.768Z"
   },
   {
    "duration": 128,
    "start_time": "2023-05-03T15:19:07.779Z"
   },
   {
    "duration": 0,
    "start_time": "2023-05-03T15:19:07.911Z"
   },
   {
    "duration": 1193,
    "start_time": "2023-05-03T15:20:23.108Z"
   },
   {
    "duration": 32,
    "start_time": "2023-05-03T15:20:36.106Z"
   },
   {
    "duration": 32,
    "start_time": "2023-05-03T15:21:37.626Z"
   },
   {
    "duration": 36,
    "start_time": "2023-05-03T15:22:05.921Z"
   },
   {
    "duration": 33,
    "start_time": "2023-05-03T15:22:15.208Z"
   },
   {
    "duration": 76,
    "start_time": "2023-05-03T15:22:26.391Z"
   },
   {
    "duration": 17,
    "start_time": "2023-05-03T15:23:04.571Z"
   },
   {
    "duration": 75,
    "start_time": "2023-05-03T15:23:07.656Z"
   },
   {
    "duration": 16,
    "start_time": "2023-05-03T15:23:36.891Z"
   },
   {
    "duration": 1473,
    "start_time": "2023-05-03T15:39:35.421Z"
   },
   {
    "duration": 925,
    "start_time": "2023-05-03T15:39:36.896Z"
   },
   {
    "duration": 135,
    "start_time": "2023-05-03T15:39:37.822Z"
   },
   {
    "duration": 113,
    "start_time": "2023-05-03T15:39:37.961Z"
   },
   {
    "duration": 13,
    "start_time": "2023-05-03T15:39:38.076Z"
   },
   {
    "duration": 21,
    "start_time": "2023-05-03T15:39:38.090Z"
   },
   {
    "duration": 29,
    "start_time": "2023-05-03T15:39:38.113Z"
   },
   {
    "duration": 97,
    "start_time": "2023-05-03T15:39:38.144Z"
   },
   {
    "duration": 20681,
    "start_time": "2023-05-03T15:39:38.242Z"
   },
   {
    "duration": 104,
    "start_time": "2023-05-03T15:39:58.928Z"
   },
   {
    "duration": 200,
    "start_time": "2023-05-03T15:39:59.034Z"
   },
   {
    "duration": 518,
    "start_time": "2023-05-03T15:39:59.236Z"
   },
   {
    "duration": 25,
    "start_time": "2023-05-03T15:39:59.756Z"
   },
   {
    "duration": 13,
    "start_time": "2023-05-03T15:39:59.783Z"
   },
   {
    "duration": 244,
    "start_time": "2023-05-03T15:39:59.797Z"
   },
   {
    "duration": 35,
    "start_time": "2023-05-03T15:40:00.043Z"
   },
   {
    "duration": 99,
    "start_time": "2023-05-03T15:40:00.080Z"
   },
   {
    "duration": 42,
    "start_time": "2023-05-03T15:40:00.181Z"
   },
   {
    "duration": 105,
    "start_time": "2023-05-03T15:40:00.224Z"
   },
   {
    "duration": 518,
    "start_time": "2023-05-03T15:40:00.331Z"
   },
   {
    "duration": 26,
    "start_time": "2023-05-03T15:40:00.852Z"
   },
   {
    "duration": 12900,
    "start_time": "2023-05-03T15:40:00.880Z"
   },
   {
    "duration": 14,
    "start_time": "2023-05-03T15:40:13.782Z"
   },
   {
    "duration": 27,
    "start_time": "2023-05-03T15:40:13.797Z"
   },
   {
    "duration": 29,
    "start_time": "2023-05-03T15:40:13.827Z"
   },
   {
    "duration": 6078,
    "start_time": "2023-05-03T15:40:13.858Z"
   },
   {
    "duration": 5,
    "start_time": "2023-05-03T15:40:19.938Z"
   },
   {
    "duration": 221,
    "start_time": "2023-05-03T15:40:19.947Z"
   },
   {
    "duration": 6,
    "start_time": "2023-05-03T15:40:20.170Z"
   },
   {
    "duration": 40,
    "start_time": "2023-05-03T15:40:20.177Z"
   },
   {
    "duration": 70,
    "start_time": "2023-05-03T15:40:20.219Z"
   },
   {
    "duration": 62,
    "start_time": "2023-05-03T15:40:20.291Z"
   },
   {
    "duration": 38,
    "start_time": "2023-05-03T15:40:20.355Z"
   },
   {
    "duration": 28,
    "start_time": "2023-05-03T15:40:20.395Z"
   },
   {
    "duration": 186,
    "start_time": "2023-05-03T15:40:20.425Z"
   },
   {
    "duration": 99,
    "start_time": "2023-05-03T15:40:20.613Z"
   },
   {
    "duration": 59,
    "start_time": "2023-05-03T15:40:20.714Z"
   },
   {
    "duration": 83,
    "start_time": "2023-05-03T15:40:20.775Z"
   },
   {
    "duration": 9,
    "start_time": "2023-05-03T15:40:20.860Z"
   },
   {
    "duration": 1199,
    "start_time": "2023-05-03T15:40:20.871Z"
   },
   {
    "duration": 79,
    "start_time": "2023-05-03T15:40:22.072Z"
   },
   {
    "duration": 2,
    "start_time": "2023-05-03T15:40:22.153Z"
   },
   {
    "duration": 117,
    "start_time": "2023-05-03T15:42:25.942Z"
   },
   {
    "duration": 13,
    "start_time": "2023-05-03T15:42:28.957Z"
   },
   {
    "duration": 46,
    "start_time": "2023-05-03T15:42:39.274Z"
   },
   {
    "duration": 11,
    "start_time": "2023-05-03T15:42:40.880Z"
   },
   {
    "duration": 17,
    "start_time": "2023-05-03T15:43:03.133Z"
   },
   {
    "duration": 72,
    "start_time": "2023-05-03T15:43:42.363Z"
   },
   {
    "duration": 131,
    "start_time": "2023-05-03T15:43:54.287Z"
   },
   {
    "duration": 73,
    "start_time": "2023-05-03T15:44:00.357Z"
   },
   {
    "duration": 1157,
    "start_time": "2023-05-03T15:44:27.380Z"
   },
   {
    "duration": 71,
    "start_time": "2023-05-03T15:44:31.729Z"
   },
   {
    "duration": 20,
    "start_time": "2023-05-03T15:45:18.829Z"
   },
   {
    "duration": 71,
    "start_time": "2023-05-03T15:45:20.125Z"
   },
   {
    "duration": 231,
    "start_time": "2023-05-03T15:46:33.485Z"
   },
   {
    "duration": 85,
    "start_time": "2023-05-03T15:48:32.586Z"
   },
   {
    "duration": 31,
    "start_time": "2023-05-03T15:48:58.003Z"
   },
   {
    "duration": 7654,
    "start_time": "2023-05-03T15:50:01.832Z"
   },
   {
    "duration": 75,
    "start_time": "2023-05-03T15:50:16.725Z"
   },
   {
    "duration": 226,
    "start_time": "2023-05-03T15:50:24.420Z"
   },
   {
    "duration": 5,
    "start_time": "2023-05-03T17:16:19.819Z"
   },
   {
    "duration": 3,
    "start_time": "2023-05-03T17:17:49.582Z"
   },
   {
    "duration": 23,
    "start_time": "2023-05-03T17:23:28.545Z"
   },
   {
    "duration": 230,
    "start_time": "2023-05-03T17:27:08.336Z"
   },
   {
    "duration": 83,
    "start_time": "2023-05-03T17:29:09.006Z"
   },
   {
    "duration": 12,
    "start_time": "2023-05-03T17:30:16.669Z"
   },
   {
    "duration": 9,
    "start_time": "2023-05-03T17:30:20.927Z"
   },
   {
    "duration": 1150,
    "start_time": "2023-05-03T17:30:21.516Z"
   },
   {
    "duration": 68,
    "start_time": "2023-05-03T17:30:29.757Z"
   },
   {
    "duration": 78,
    "start_time": "2023-05-03T17:33:33.889Z"
   },
   {
    "duration": 12,
    "start_time": "2023-05-03T17:36:34.047Z"
   },
   {
    "duration": 76,
    "start_time": "2023-05-03T17:36:37.929Z"
   },
   {
    "duration": 521,
    "start_time": "2023-05-03T18:56:12.670Z"
   },
   {
    "duration": 732,
    "start_time": "2023-05-03T18:56:18.956Z"
   },
   {
    "duration": 63229,
    "start_time": "2023-05-03T18:56:53.699Z"
   },
   {
    "duration": 13,
    "start_time": "2023-05-03T18:58:24.372Z"
   },
   {
    "duration": 87,
    "start_time": "2023-05-03T18:58:25.061Z"
   },
   {
    "duration": 70111,
    "start_time": "2023-05-03T18:58:26.454Z"
   },
   {
    "duration": 6,
    "start_time": "2023-05-03T19:01:01.577Z"
   },
   {
    "duration": 26,
    "start_time": "2023-05-03T19:01:11.921Z"
   },
   {
    "duration": 12,
    "start_time": "2023-05-03T19:01:56.381Z"
   },
   {
    "duration": 12,
    "start_time": "2023-05-03T19:02:03.000Z"
   },
   {
    "duration": 431,
    "start_time": "2023-05-03T19:02:20.095Z"
   },
   {
    "duration": 487,
    "start_time": "2023-05-03T19:02:43.348Z"
   },
   {
    "duration": 17,
    "start_time": "2023-05-03T19:03:36.078Z"
   },
   {
    "duration": 150,
    "start_time": "2023-05-03T19:05:31.034Z"
   },
   {
    "duration": 199,
    "start_time": "2023-05-03T19:05:33.025Z"
   },
   {
    "duration": 159,
    "start_time": "2023-05-03T19:05:37.267Z"
   },
   {
    "duration": 147,
    "start_time": "2023-05-03T19:05:40.345Z"
   },
   {
    "duration": 268,
    "start_time": "2023-05-03T19:05:44.775Z"
   },
   {
    "duration": 10,
    "start_time": "2023-05-03T19:06:04.897Z"
   },
   {
    "duration": 6680,
    "start_time": "2023-05-03T19:06:12.714Z"
   },
   {
    "duration": 259,
    "start_time": "2023-05-03T19:06:30.795Z"
   },
   {
    "duration": 12,
    "start_time": "2023-05-03T19:07:03.545Z"
   },
   {
    "duration": 51,
    "start_time": "2023-05-03T19:07:30.158Z"
   },
   {
    "duration": 47,
    "start_time": "2023-05-03T19:07:37.015Z"
   },
   {
    "duration": 13,
    "start_time": "2023-05-03T19:07:43.407Z"
   },
   {
    "duration": 27,
    "start_time": "2023-05-03T19:08:54.996Z"
   },
   {
    "duration": 34,
    "start_time": "2023-05-03T19:09:08.161Z"
   },
   {
    "duration": 265,
    "start_time": "2023-05-03T19:09:12.246Z"
   },
   {
    "duration": 34,
    "start_time": "2023-05-03T19:09:28.432Z"
   },
   {
    "duration": 467,
    "start_time": "2023-05-03T19:09:28.888Z"
   },
   {
    "duration": 48,
    "start_time": "2023-05-03T19:09:49.064Z"
   },
   {
    "duration": 258,
    "start_time": "2023-05-03T19:09:49.987Z"
   },
   {
    "duration": 38,
    "start_time": "2023-05-03T19:09:53.854Z"
   },
   {
    "duration": 268,
    "start_time": "2023-05-03T19:09:57.233Z"
   },
   {
    "duration": 18,
    "start_time": "2023-05-03T19:09:59.004Z"
   },
   {
    "duration": 7688,
    "start_time": "2023-05-04T00:06:47.954Z"
   },
   {
    "duration": 1262,
    "start_time": "2023-05-04T00:07:59.668Z"
   },
   {
    "duration": 870,
    "start_time": "2023-05-04T00:08:00.932Z"
   },
   {
    "duration": 141,
    "start_time": "2023-05-04T00:08:01.804Z"
   },
   {
    "duration": 121,
    "start_time": "2023-05-04T00:08:01.947Z"
   },
   {
    "duration": 13,
    "start_time": "2023-05-04T00:08:02.070Z"
   },
   {
    "duration": 45,
    "start_time": "2023-05-04T00:08:02.084Z"
   },
   {
    "duration": 81,
    "start_time": "2023-05-04T00:08:02.131Z"
   },
   {
    "duration": 113,
    "start_time": "2023-05-04T00:08:02.214Z"
   },
   {
    "duration": 19163,
    "start_time": "2023-05-04T00:08:02.329Z"
   },
   {
    "duration": 90,
    "start_time": "2023-05-04T00:08:21.493Z"
   },
   {
    "duration": 1498,
    "start_time": "2023-05-04T00:08:21.585Z"
   },
   {
    "duration": 485,
    "start_time": "2023-05-04T00:08:23.085Z"
   },
   {
    "duration": 26,
    "start_time": "2023-05-04T00:08:23.572Z"
   },
   {
    "duration": 11,
    "start_time": "2023-05-04T00:08:23.614Z"
   },
   {
    "duration": 217,
    "start_time": "2023-05-04T00:08:23.627Z"
   },
   {
    "duration": 31,
    "start_time": "2023-05-04T00:08:23.847Z"
   },
   {
    "duration": 103,
    "start_time": "2023-05-04T00:08:23.881Z"
   },
   {
    "duration": 26,
    "start_time": "2023-05-04T00:08:23.986Z"
   },
   {
    "duration": 78,
    "start_time": "2023-05-04T00:08:24.013Z"
   },
   {
    "duration": 445,
    "start_time": "2023-05-04T00:08:24.093Z"
   },
   {
    "duration": 26,
    "start_time": "2023-05-04T00:08:24.540Z"
   },
   {
    "duration": 11231,
    "start_time": "2023-05-04T00:08:24.568Z"
   },
   {
    "duration": 22,
    "start_time": "2023-05-04T00:08:35.801Z"
   },
   {
    "duration": 24,
    "start_time": "2023-05-04T00:08:35.824Z"
   },
   {
    "duration": 31,
    "start_time": "2023-05-04T00:08:35.850Z"
   },
   {
    "duration": 5493,
    "start_time": "2023-05-04T00:08:35.882Z"
   },
   {
    "duration": 5,
    "start_time": "2023-05-04T00:08:41.377Z"
   },
   {
    "duration": 211,
    "start_time": "2023-05-04T00:08:41.383Z"
   },
   {
    "duration": 4,
    "start_time": "2023-05-04T00:08:41.596Z"
   },
   {
    "duration": 20,
    "start_time": "2023-05-04T00:08:41.602Z"
   },
   {
    "duration": 57,
    "start_time": "2023-05-04T00:08:41.623Z"
   },
   {
    "duration": 62,
    "start_time": "2023-05-04T00:08:41.681Z"
   },
   {
    "duration": 39,
    "start_time": "2023-05-04T00:08:41.745Z"
   },
   {
    "duration": 31,
    "start_time": "2023-05-04T00:08:41.785Z"
   },
   {
    "duration": 339,
    "start_time": "2023-05-04T00:08:41.818Z"
   },
   {
    "duration": 78,
    "start_time": "2023-05-04T00:08:42.159Z"
   },
   {
    "duration": 31,
    "start_time": "2023-05-04T00:08:42.239Z"
   },
   {
    "duration": 89,
    "start_time": "2023-05-04T00:08:42.272Z"
   },
   {
    "duration": 9,
    "start_time": "2023-05-04T00:08:42.363Z"
   },
   {
    "duration": 1177,
    "start_time": "2023-05-04T00:08:42.373Z"
   },
   {
    "duration": 83,
    "start_time": "2023-05-04T00:08:43.554Z"
   },
   {
    "duration": 84,
    "start_time": "2023-05-04T00:08:43.639Z"
   },
   {
    "duration": 16,
    "start_time": "2023-05-04T00:08:43.724Z"
   },
   {
    "duration": 247,
    "start_time": "2023-05-04T00:08:43.742Z"
   },
   {
    "duration": 83,
    "start_time": "2023-05-04T00:08:43.991Z"
   },
   {
    "duration": 45,
    "start_time": "2023-05-04T00:08:44.076Z"
   },
   {
    "duration": 7212,
    "start_time": "2023-05-04T00:08:44.123Z"
   },
   {
    "duration": 78,
    "start_time": "2023-05-04T00:08:51.337Z"
   },
   {
    "duration": 227,
    "start_time": "2023-05-04T00:08:51.417Z"
   },
   {
    "duration": 88,
    "start_time": "2023-05-04T00:08:51.646Z"
   },
   {
    "duration": 10,
    "start_time": "2023-05-04T00:08:51.735Z"
   },
   {
    "duration": 1147,
    "start_time": "2023-05-04T00:08:51.747Z"
   },
   {
    "duration": 75,
    "start_time": "2023-05-04T00:08:52.896Z"
   },
   {
    "duration": 14,
    "start_time": "2023-05-04T00:08:52.973Z"
   },
   {
    "duration": 90,
    "start_time": "2023-05-04T00:08:52.989Z"
   },
   {
    "duration": 32,
    "start_time": "2023-05-04T00:08:53.081Z"
   },
   {
    "duration": 37,
    "start_time": "2023-05-04T00:08:53.115Z"
   },
   {
    "duration": 38,
    "start_time": "2023-05-04T00:08:53.154Z"
   },
   {
    "duration": 264,
    "start_time": "2023-05-04T00:08:53.211Z"
   },
   {
    "duration": 7611,
    "start_time": "2023-05-04T00:08:53.477Z"
   },
   {
    "duration": 69,
    "start_time": "2023-05-04T00:23:04.207Z"
   },
   {
    "duration": 2846,
    "start_time": "2023-05-04T09:31:48.918Z"
   },
   {
    "duration": 4,
    "start_time": "2023-05-04T09:31:53.364Z"
   },
   {
    "duration": 6641,
    "start_time": "2023-05-04T09:31:53.370Z"
   },
   {
    "duration": 339,
    "start_time": "2023-05-04T09:32:00.013Z"
   },
   {
    "duration": 230,
    "start_time": "2023-05-04T09:32:00.354Z"
   },
   {
    "duration": 21,
    "start_time": "2023-05-04T09:32:00.592Z"
   },
   {
    "duration": 93,
    "start_time": "2023-05-04T09:32:00.615Z"
   },
   {
    "duration": 194,
    "start_time": "2023-05-04T09:32:00.710Z"
   },
   {
    "duration": 282,
    "start_time": "2023-05-04T09:32:00.906Z"
   },
   {
    "duration": 31339,
    "start_time": "2023-05-04T09:32:01.191Z"
   },
   {
    "duration": 188,
    "start_time": "2023-05-04T09:32:32.533Z"
   },
   {
    "duration": 2035,
    "start_time": "2023-05-04T09:32:32.724Z"
   },
   {
    "duration": 866,
    "start_time": "2023-05-04T09:32:34.763Z"
   },
   {
    "duration": 90,
    "start_time": "2023-05-04T09:32:35.634Z"
   },
   {
    "duration": 15,
    "start_time": "2023-05-04T09:32:35.726Z"
   },
   {
    "duration": 392,
    "start_time": "2023-05-04T09:32:35.754Z"
   },
   {
    "duration": 63,
    "start_time": "2023-05-04T09:32:36.151Z"
   },
   {
    "duration": 194,
    "start_time": "2023-05-04T09:32:36.218Z"
   },
   {
    "duration": 48,
    "start_time": "2023-05-04T09:32:36.414Z"
   },
   {
    "duration": 231,
    "start_time": "2023-05-04T09:32:36.465Z"
   },
   {
    "duration": 823,
    "start_time": "2023-05-04T09:32:36.702Z"
   },
   {
    "duration": 57,
    "start_time": "2023-05-04T09:32:37.530Z"
   },
   {
    "duration": 18133,
    "start_time": "2023-05-04T09:32:37.590Z"
   },
   {
    "duration": 44,
    "start_time": "2023-05-04T09:32:55.725Z"
   },
   {
    "duration": 50,
    "start_time": "2023-05-04T09:32:55.777Z"
   },
   {
    "duration": 103,
    "start_time": "2023-05-04T09:32:55.829Z"
   },
   {
    "duration": 9144,
    "start_time": "2023-05-04T09:32:55.940Z"
   },
   {
    "duration": 21,
    "start_time": "2023-05-04T09:33:05.096Z"
   },
   {
    "duration": 701,
    "start_time": "2023-05-04T09:33:05.129Z"
   },
   {
    "duration": 18,
    "start_time": "2023-05-04T09:33:05.834Z"
   },
   {
    "duration": 158,
    "start_time": "2023-05-04T09:33:05.855Z"
   },
   {
    "duration": 241,
    "start_time": "2023-05-04T09:33:06.019Z"
   },
   {
    "duration": 259,
    "start_time": "2023-05-04T09:33:06.263Z"
   },
   {
    "duration": 147,
    "start_time": "2023-05-04T09:33:06.525Z"
   },
   {
    "duration": 202,
    "start_time": "2023-05-04T09:33:06.678Z"
   },
   {
    "duration": 784,
    "start_time": "2023-05-04T09:33:06.886Z"
   },
   {
    "duration": 264,
    "start_time": "2023-05-04T09:33:07.680Z"
   },
   {
    "duration": 113,
    "start_time": "2023-05-04T09:33:07.957Z"
   },
   {
    "duration": 261,
    "start_time": "2023-05-04T09:33:08.083Z"
   },
   {
    "duration": 29,
    "start_time": "2023-05-04T09:33:08.351Z"
   },
   {
    "duration": 2734,
    "start_time": "2023-05-04T09:33:08.386Z"
   },
   {
    "duration": 165,
    "start_time": "2023-05-04T09:33:11.122Z"
   },
   {
    "duration": 156,
    "start_time": "2023-05-04T09:33:11.289Z"
   },
   {
    "duration": 75,
    "start_time": "2023-05-04T09:33:11.447Z"
   },
   {
    "duration": 675,
    "start_time": "2023-05-04T09:33:11.544Z"
   },
   {
    "duration": 134,
    "start_time": "2023-05-04T09:33:12.225Z"
   },
   {
    "duration": 51,
    "start_time": "2023-05-04T09:33:12.366Z"
   },
   {
    "duration": 14724,
    "start_time": "2023-05-04T09:33:12.419Z"
   },
   {
    "duration": 178,
    "start_time": "2023-05-04T09:33:27.145Z"
   },
   {
    "duration": 447,
    "start_time": "2023-05-04T09:33:27.326Z"
   },
   {
    "duration": 152,
    "start_time": "2023-05-04T09:33:27.776Z"
   },
   {
    "duration": 32,
    "start_time": "2023-05-04T09:33:27.932Z"
   },
   {
    "duration": 2381,
    "start_time": "2023-05-04T09:33:27.967Z"
   },
   {
    "duration": 189,
    "start_time": "2023-05-04T09:33:30.350Z"
   },
   {
    "duration": 146,
    "start_time": "2023-05-04T09:33:30.542Z"
   },
   {
    "duration": 297,
    "start_time": "2023-05-04T09:33:30.694Z"
   },
   {
    "duration": 199,
    "start_time": "2023-05-04T09:33:31.000Z"
   },
   {
    "duration": 309,
    "start_time": "2023-05-04T09:33:31.201Z"
   },
   {
    "duration": 162,
    "start_time": "2023-05-04T09:33:31.519Z"
   },
   {
    "duration": 497,
    "start_time": "2023-05-04T09:33:31.690Z"
   },
   {
    "duration": 11804,
    "start_time": "2023-05-04T09:33:32.194Z"
   },
   {
    "duration": 76,
    "start_time": "2023-05-04T15:25:01.985Z"
   },
   {
    "duration": 961,
    "start_time": "2023-05-04T15:25:59.122Z"
   },
   {
    "duration": 77,
    "start_time": "2023-05-04T15:26:28.053Z"
   },
   {
    "duration": 4,
    "start_time": "2023-05-04T15:26:31.982Z"
   },
   {
    "duration": 187481,
    "start_time": "2023-05-04T15:27:03.425Z"
   },
   {
    "duration": 413,
    "start_time": "2023-05-04T15:30:31.955Z"
   },
   {
    "duration": 217,
    "start_time": "2023-05-04T16:13:47.271Z"
   },
   {
    "duration": 5,
    "start_time": "2023-05-04T16:13:51.486Z"
   },
   {
    "duration": 8,
    "start_time": "2023-05-04T16:13:58.175Z"
   },
   {
    "duration": 187,
    "start_time": "2023-05-04T16:14:45.500Z"
   },
   {
    "duration": 190,
    "start_time": "2023-05-04T16:17:32.095Z"
   },
   {
    "duration": 180,
    "start_time": "2023-05-04T16:18:02.623Z"
   },
   {
    "duration": 4,
    "start_time": "2023-05-04T16:18:28.850Z"
   },
   {
    "duration": 4,
    "start_time": "2023-05-04T16:18:32.942Z"
   },
   {
    "duration": 116,
    "start_time": "2023-05-04T16:18:48.054Z"
   },
   {
    "duration": 356,
    "start_time": "2023-05-04T16:19:59.129Z"
   },
   {
    "duration": 3,
    "start_time": "2023-05-04T16:20:01.221Z"
   },
   {
    "duration": 3,
    "start_time": "2023-05-04T16:20:02.193Z"
   },
   {
    "duration": 209,
    "start_time": "2023-05-04T16:20:04.638Z"
   },
   {
    "duration": 135,
    "start_time": "2023-05-04T16:20:34.523Z"
   },
   {
    "duration": 4,
    "start_time": "2023-05-04T16:20:35.332Z"
   },
   {
    "duration": 3,
    "start_time": "2023-05-04T16:20:35.864Z"
   },
   {
    "duration": 197,
    "start_time": "2023-05-04T16:20:36.412Z"
   },
   {
    "duration": 1548,
    "start_time": "2023-05-04T16:22:45.859Z"
   },
   {
    "duration": 3085,
    "start_time": "2023-05-04T16:22:47.409Z"
   },
   {
    "duration": 143,
    "start_time": "2023-05-04T16:22:50.496Z"
   },
   {
    "duration": 112,
    "start_time": "2023-05-04T16:22:50.641Z"
   },
   {
    "duration": 22,
    "start_time": "2023-05-04T16:22:50.755Z"
   },
   {
    "duration": 14,
    "start_time": "2023-05-04T16:22:50.779Z"
   },
   {
    "duration": 41,
    "start_time": "2023-05-04T16:22:50.795Z"
   },
   {
    "duration": 134,
    "start_time": "2023-05-04T16:22:50.838Z"
   },
   {
    "duration": 19928,
    "start_time": "2023-05-04T16:22:50.974Z"
   },
   {
    "duration": 84,
    "start_time": "2023-05-04T16:23:10.905Z"
   },
   {
    "duration": 205,
    "start_time": "2023-05-04T16:23:10.992Z"
   },
   {
    "duration": 481,
    "start_time": "2023-05-04T16:23:11.199Z"
   },
   {
    "duration": 24,
    "start_time": "2023-05-04T16:23:11.682Z"
   },
   {
    "duration": 27,
    "start_time": "2023-05-04T16:23:11.707Z"
   },
   {
    "duration": 224,
    "start_time": "2023-05-04T16:23:11.735Z"
   },
   {
    "duration": 33,
    "start_time": "2023-05-04T16:23:11.961Z"
   },
   {
    "duration": 137,
    "start_time": "2023-05-04T16:23:11.997Z"
   },
   {
    "duration": 18,
    "start_time": "2023-05-04T16:23:12.136Z"
   },
   {
    "duration": 93,
    "start_time": "2023-05-04T16:23:12.156Z"
   },
   {
    "duration": 482,
    "start_time": "2023-05-04T16:23:12.251Z"
   },
   {
    "duration": 28,
    "start_time": "2023-05-04T16:23:12.735Z"
   },
   {
    "duration": 12725,
    "start_time": "2023-05-04T16:23:12.765Z"
   },
   {
    "duration": 13,
    "start_time": "2023-05-04T16:23:25.492Z"
   },
   {
    "duration": 31,
    "start_time": "2023-05-04T16:23:25.506Z"
   },
   {
    "duration": 24,
    "start_time": "2023-05-04T16:23:25.538Z"
   },
   {
    "duration": 6146,
    "start_time": "2023-05-04T16:23:25.564Z"
   },
   {
    "duration": 6,
    "start_time": "2023-05-04T16:23:31.711Z"
   },
   {
    "duration": 231,
    "start_time": "2023-05-04T16:23:31.736Z"
   },
   {
    "duration": 6,
    "start_time": "2023-05-04T16:23:31.969Z"
   },
   {
    "duration": 28,
    "start_time": "2023-05-04T16:23:31.977Z"
   },
   {
    "duration": 50,
    "start_time": "2023-05-04T16:23:32.007Z"
   },
   {
    "duration": 73,
    "start_time": "2023-05-04T16:23:32.060Z"
   },
   {
    "duration": 50,
    "start_time": "2023-05-04T16:23:32.136Z"
   },
   {
    "duration": 17,
    "start_time": "2023-05-04T16:23:32.188Z"
   },
   {
    "duration": 176,
    "start_time": "2023-05-04T16:23:32.207Z"
   },
   {
    "duration": 86,
    "start_time": "2023-05-04T16:23:32.385Z"
   },
   {
    "duration": 34,
    "start_time": "2023-05-04T16:23:32.473Z"
   },
   {
    "duration": 91,
    "start_time": "2023-05-04T16:23:32.509Z"
   },
   {
    "duration": 9,
    "start_time": "2023-05-04T16:23:32.602Z"
   },
   {
    "duration": 1224,
    "start_time": "2023-05-04T16:23:32.613Z"
   },
   {
    "duration": 87,
    "start_time": "2023-05-04T16:23:33.839Z"
   },
   {
    "duration": 79,
    "start_time": "2023-05-04T16:23:33.934Z"
   },
   {
    "duration": 47,
    "start_time": "2023-05-04T16:23:34.015Z"
   },
   {
    "duration": 231,
    "start_time": "2023-05-04T16:23:34.064Z"
   },
   {
    "duration": 84,
    "start_time": "2023-05-04T16:23:34.296Z"
   },
   {
    "duration": 32,
    "start_time": "2023-05-04T16:23:34.382Z"
   },
   {
    "duration": 7567,
    "start_time": "2023-05-04T16:23:34.416Z"
   },
   {
    "duration": 74,
    "start_time": "2023-05-04T16:23:41.985Z"
   },
   {
    "duration": 245,
    "start_time": "2023-05-04T16:23:42.061Z"
   },
   {
    "duration": 113,
    "start_time": "2023-05-04T16:23:42.308Z"
   },
   {
    "duration": 12,
    "start_time": "2023-05-04T16:23:42.422Z"
   },
   {
    "duration": 1202,
    "start_time": "2023-05-04T16:23:42.436Z"
   },
   {
    "duration": 68,
    "start_time": "2023-05-04T16:23:43.640Z"
   },
   {
    "duration": 26,
    "start_time": "2023-05-04T16:23:43.709Z"
   },
   {
    "duration": 76,
    "start_time": "2023-05-04T16:23:43.736Z"
   },
   {
    "duration": 30,
    "start_time": "2023-05-04T16:23:43.813Z"
   },
   {
    "duration": 39,
    "start_time": "2023-05-04T16:23:43.845Z"
   },
   {
    "duration": 61,
    "start_time": "2023-05-04T16:23:43.885Z"
   },
   {
    "duration": 288,
    "start_time": "2023-05-04T16:23:43.948Z"
   },
   {
    "duration": 7702,
    "start_time": "2023-05-04T16:23:44.239Z"
   },
   {
    "duration": 119,
    "start_time": "2023-05-04T16:23:51.943Z"
   },
   {
    "duration": 0,
    "start_time": "2023-05-04T16:23:52.064Z"
   },
   {
    "duration": 0,
    "start_time": "2023-05-04T16:23:52.065Z"
   },
   {
    "duration": 0,
    "start_time": "2023-05-04T16:23:52.066Z"
   },
   {
    "duration": 0,
    "start_time": "2023-05-04T16:23:52.068Z"
   },
   {
    "duration": 76,
    "start_time": "2023-05-04T16:24:15.223Z"
   },
   {
    "duration": 6,
    "start_time": "2023-05-04T16:24:16.637Z"
   },
   {
    "duration": 171570,
    "start_time": "2023-05-04T16:24:17.545Z"
   },
   {
    "duration": 435,
    "start_time": "2023-05-04T16:27:09.117Z"
   },
   {
    "duration": 728,
    "start_time": "2023-05-04T16:42:39.672Z"
   },
   {
    "duration": 872,
    "start_time": "2023-05-04T16:43:02.569Z"
   },
   {
    "duration": 4,
    "start_time": "2023-05-04T16:43:34.873Z"
   },
   {
    "duration": 499315,
    "start_time": "2023-05-04T16:43:51.305Z"
   },
   {
    "duration": 1177,
    "start_time": "2023-05-04T16:52:10.622Z"
   },
   {
    "duration": 1789,
    "start_time": "2023-05-04T16:56:27.793Z"
   },
   {
    "duration": 2988,
    "start_time": "2023-05-04T16:56:29.584Z"
   },
   {
    "duration": 168,
    "start_time": "2023-05-04T16:56:32.574Z"
   },
   {
    "duration": 175,
    "start_time": "2023-05-04T16:56:32.754Z"
   },
   {
    "duration": 40,
    "start_time": "2023-05-04T16:56:32.930Z"
   },
   {
    "duration": 20,
    "start_time": "2023-05-04T16:56:32.974Z"
   },
   {
    "duration": 44,
    "start_time": "2023-05-04T16:56:32.996Z"
   },
   {
    "duration": 156,
    "start_time": "2023-05-04T16:56:33.042Z"
   },
   {
    "duration": 24292,
    "start_time": "2023-05-04T16:56:33.201Z"
   },
   {
    "duration": 107,
    "start_time": "2023-05-04T16:56:57.496Z"
   },
   {
    "duration": 213,
    "start_time": "2023-05-04T16:56:57.604Z"
   },
   {
    "duration": 559,
    "start_time": "2023-05-04T16:56:57.819Z"
   },
   {
    "duration": 24,
    "start_time": "2023-05-04T16:56:58.380Z"
   },
   {
    "duration": 14,
    "start_time": "2023-05-04T16:56:58.405Z"
   },
   {
    "duration": 264,
    "start_time": "2023-05-04T16:56:58.421Z"
   },
   {
    "duration": 34,
    "start_time": "2023-05-04T16:56:58.688Z"
   },
   {
    "duration": 109,
    "start_time": "2023-05-04T16:56:58.741Z"
   },
   {
    "duration": 26,
    "start_time": "2023-05-04T16:56:58.853Z"
   },
   {
    "duration": 116,
    "start_time": "2023-05-04T16:56:58.881Z"
   },
   {
    "duration": 500,
    "start_time": "2023-05-04T16:56:59.000Z"
   },
   {
    "duration": 60,
    "start_time": "2023-05-04T16:56:59.502Z"
   },
   {
    "duration": 14086,
    "start_time": "2023-05-04T16:56:59.565Z"
   },
   {
    "duration": 18,
    "start_time": "2023-05-04T16:57:13.660Z"
   },
   {
    "duration": 29,
    "start_time": "2023-05-04T16:57:13.680Z"
   },
   {
    "duration": 61,
    "start_time": "2023-05-04T16:57:13.710Z"
   },
   {
    "duration": 6813,
    "start_time": "2023-05-04T16:57:13.774Z"
   },
   {
    "duration": 6,
    "start_time": "2023-05-04T16:57:20.588Z"
   },
   {
    "duration": 265,
    "start_time": "2023-05-04T16:57:20.598Z"
   },
   {
    "duration": 6,
    "start_time": "2023-05-04T16:57:20.873Z"
   },
   {
    "duration": 33,
    "start_time": "2023-05-04T16:57:20.880Z"
   },
   {
    "duration": 80,
    "start_time": "2023-05-04T16:57:20.916Z"
   },
   {
    "duration": 93,
    "start_time": "2023-05-04T16:57:20.998Z"
   },
   {
    "duration": 55,
    "start_time": "2023-05-04T16:57:21.092Z"
   },
   {
    "duration": 22,
    "start_time": "2023-05-04T16:57:21.149Z"
   },
   {
    "duration": 212,
    "start_time": "2023-05-04T16:57:21.173Z"
   },
   {
    "duration": 96,
    "start_time": "2023-05-04T16:57:21.387Z"
   },
   {
    "duration": 84,
    "start_time": "2023-05-04T16:57:21.485Z"
   },
   {
    "duration": 98,
    "start_time": "2023-05-04T16:57:21.578Z"
   },
   {
    "duration": 10,
    "start_time": "2023-05-04T16:57:21.678Z"
   },
   {
    "duration": 1491,
    "start_time": "2023-05-04T16:57:21.690Z"
   },
   {
    "duration": 123,
    "start_time": "2023-05-04T16:57:23.183Z"
   },
   {
    "duration": 96,
    "start_time": "2023-05-04T16:57:23.307Z"
   },
   {
    "duration": 15,
    "start_time": "2023-05-04T16:57:23.405Z"
   },
   {
    "duration": 276,
    "start_time": "2023-05-04T16:57:23.422Z"
   },
   {
    "duration": 90,
    "start_time": "2023-05-04T16:57:23.700Z"
   },
   {
    "duration": 32,
    "start_time": "2023-05-04T16:57:23.791Z"
   },
   {
    "duration": 9156,
    "start_time": "2023-05-04T16:57:23.836Z"
   },
   {
    "duration": 95,
    "start_time": "2023-05-04T16:57:32.994Z"
   },
   {
    "duration": 294,
    "start_time": "2023-05-04T16:57:33.091Z"
   },
   {
    "duration": 99,
    "start_time": "2023-05-04T16:57:33.387Z"
   },
   {
    "duration": 10,
    "start_time": "2023-05-04T16:57:33.487Z"
   },
   {
    "duration": 1521,
    "start_time": "2023-05-04T16:57:33.498Z"
   },
   {
    "duration": 155,
    "start_time": "2023-05-04T16:57:35.021Z"
   },
   {
    "duration": 13,
    "start_time": "2023-05-04T16:57:35.178Z"
   },
   {
    "duration": 103,
    "start_time": "2023-05-04T16:57:35.193Z"
   },
   {
    "duration": 35,
    "start_time": "2023-05-04T16:57:35.298Z"
   },
   {
    "duration": 66,
    "start_time": "2023-05-04T16:57:35.342Z"
   },
   {
    "duration": 51,
    "start_time": "2023-05-04T16:57:35.410Z"
   },
   {
    "duration": 356,
    "start_time": "2023-05-04T16:57:35.464Z"
   },
   {
    "duration": 9042,
    "start_time": "2023-05-04T16:57:35.822Z"
   },
   {
    "duration": 82,
    "start_time": "2023-05-04T16:57:44.868Z"
   },
   {
    "duration": 7,
    "start_time": "2023-05-04T16:57:44.953Z"
   },
   {
    "duration": 196328,
    "start_time": "2023-05-04T16:57:44.962Z"
   },
   {
    "duration": 471,
    "start_time": "2023-05-04T17:01:01.293Z"
   },
   {
    "duration": 910,
    "start_time": "2023-05-04T17:01:01.769Z"
   },
   {
    "duration": 982,
    "start_time": "2023-05-04T17:01:02.681Z"
   },
   {
    "duration": 4,
    "start_time": "2023-05-04T17:01:03.670Z"
   },
   {
    "duration": 592473,
    "start_time": "2023-05-04T17:01:03.677Z"
   },
   {
    "duration": 786,
    "start_time": "2023-05-04T17:10:56.156Z"
   },
   {
    "duration": 922,
    "start_time": "2023-05-04T17:31:54.868Z"
   },
   {
    "duration": 161,
    "start_time": "2023-05-04T18:07:03.904Z"
   },
   {
    "duration": 3,
    "start_time": "2023-05-04T18:07:08.171Z"
   },
   {
    "duration": 18,
    "start_time": "2023-05-04T18:07:11.945Z"
   },
   {
    "duration": 17,
    "start_time": "2023-05-04T18:08:00.548Z"
   },
   {
    "duration": 13,
    "start_time": "2023-05-04T18:08:02.730Z"
   },
   {
    "duration": 4,
    "start_time": "2023-05-04T18:08:33.888Z"
   },
   {
    "duration": 9,
    "start_time": "2023-05-04T18:08:35.380Z"
   },
   {
    "duration": 101,
    "start_time": "2023-05-04T23:52:00.382Z"
   },
   {
    "duration": 51,
    "start_time": "2023-05-06T17:43:06.914Z"
   },
   {
    "duration": 1771,
    "start_time": "2023-05-06T17:43:18.624Z"
   },
   {
    "duration": 3135,
    "start_time": "2023-05-06T17:43:20.397Z"
   },
   {
    "duration": 139,
    "start_time": "2023-05-06T17:43:23.534Z"
   },
   {
    "duration": 113,
    "start_time": "2023-05-06T17:43:23.675Z"
   },
   {
    "duration": 14,
    "start_time": "2023-05-06T17:43:23.789Z"
   },
   {
    "duration": 18,
    "start_time": "2023-05-06T17:43:23.805Z"
   },
   {
    "duration": 28,
    "start_time": "2023-05-06T17:43:23.825Z"
   },
   {
    "duration": 100,
    "start_time": "2023-05-06T17:43:23.855Z"
   },
   {
    "duration": 21387,
    "start_time": "2023-05-06T17:43:23.956Z"
   },
   {
    "duration": 89,
    "start_time": "2023-05-06T17:43:45.346Z"
   },
   {
    "duration": 195,
    "start_time": "2023-05-06T17:43:45.437Z"
   },
   {
    "duration": 498,
    "start_time": "2023-05-06T17:43:45.634Z"
   },
   {
    "duration": 25,
    "start_time": "2023-05-06T17:43:46.134Z"
   },
   {
    "duration": 18,
    "start_time": "2023-05-06T17:43:46.161Z"
   },
   {
    "duration": 236,
    "start_time": "2023-05-06T17:43:46.181Z"
   },
   {
    "duration": 33,
    "start_time": "2023-05-06T17:43:46.419Z"
   },
   {
    "duration": 100,
    "start_time": "2023-05-06T17:43:46.454Z"
   },
   {
    "duration": 19,
    "start_time": "2023-05-06T17:43:46.556Z"
   },
   {
    "duration": 101,
    "start_time": "2023-05-06T17:43:46.577Z"
   },
   {
    "duration": 511,
    "start_time": "2023-05-06T17:43:46.680Z"
   },
   {
    "duration": 35,
    "start_time": "2023-05-06T17:43:47.195Z"
   },
   {
    "duration": 13140,
    "start_time": "2023-05-06T17:43:47.232Z"
   },
   {
    "duration": 13,
    "start_time": "2023-05-06T17:44:00.374Z"
   },
   {
    "duration": 72,
    "start_time": "2023-05-06T17:44:00.389Z"
   },
   {
    "duration": 72,
    "start_time": "2023-05-06T17:44:00.463Z"
   },
   {
    "duration": 6158,
    "start_time": "2023-05-06T17:44:00.536Z"
   },
   {
    "duration": 238,
    "start_time": "2023-05-06T17:44:06.696Z"
   },
   {
    "duration": 5,
    "start_time": "2023-05-06T17:44:06.937Z"
   },
   {
    "duration": 31,
    "start_time": "2023-05-06T17:44:06.944Z"
   },
   {
    "duration": 50,
    "start_time": "2023-05-06T17:44:06.977Z"
   },
   {
    "duration": 64,
    "start_time": "2023-05-06T17:44:07.029Z"
   },
   {
    "duration": 63,
    "start_time": "2023-05-06T17:44:07.095Z"
   },
   {
    "duration": 24,
    "start_time": "2023-05-06T17:44:07.160Z"
   },
   {
    "duration": 210,
    "start_time": "2023-05-06T17:44:07.186Z"
   },
   {
    "duration": 90,
    "start_time": "2023-05-06T17:44:07.397Z"
   },
   {
    "duration": 57,
    "start_time": "2023-05-06T17:44:07.489Z"
   },
   {
    "duration": 108,
    "start_time": "2023-05-06T17:44:07.548Z"
   },
   {
    "duration": 9,
    "start_time": "2023-05-06T17:44:07.658Z"
   },
   {
    "duration": 1332,
    "start_time": "2023-05-06T17:44:07.669Z"
   },
   {
    "duration": 84,
    "start_time": "2023-05-06T17:44:09.003Z"
   },
   {
    "duration": 87,
    "start_time": "2023-05-06T17:44:09.089Z"
   },
   {
    "duration": 27,
    "start_time": "2023-05-06T17:44:09.178Z"
   },
   {
    "duration": 233,
    "start_time": "2023-05-06T17:44:09.207Z"
   },
   {
    "duration": 93,
    "start_time": "2023-05-06T17:44:09.442Z"
   },
   {
    "duration": 35,
    "start_time": "2023-05-06T17:44:09.537Z"
   },
   {
    "duration": 7871,
    "start_time": "2023-05-06T17:44:09.574Z"
   },
   {
    "duration": 79,
    "start_time": "2023-05-06T17:44:17.446Z"
   },
   {
    "duration": 244,
    "start_time": "2023-05-06T17:44:17.527Z"
   },
   {
    "duration": 89,
    "start_time": "2023-05-06T17:44:17.772Z"
   },
   {
    "duration": 9,
    "start_time": "2023-05-06T17:44:17.863Z"
   },
   {
    "duration": 1235,
    "start_time": "2023-05-06T17:44:17.874Z"
   },
   {
    "duration": 78,
    "start_time": "2023-05-06T17:44:19.111Z"
   },
   {
    "duration": 34,
    "start_time": "2023-05-06T17:44:19.191Z"
   },
   {
    "duration": 99,
    "start_time": "2023-05-06T17:44:19.227Z"
   },
   {
    "duration": 17,
    "start_time": "2023-05-06T17:44:19.328Z"
   },
   {
    "duration": 44,
    "start_time": "2023-05-06T17:44:19.346Z"
   },
   {
    "duration": 68,
    "start_time": "2023-05-06T17:44:19.392Z"
   },
   {
    "duration": 276,
    "start_time": "2023-05-06T17:44:19.462Z"
   },
   {
    "duration": 8324,
    "start_time": "2023-05-06T17:44:19.740Z"
   },
   {
    "duration": 81,
    "start_time": "2023-05-06T17:54:21.393Z"
   },
   {
    "duration": 83,
    "start_time": "2023-05-06T17:54:37.453Z"
   },
   {
    "duration": 54,
    "start_time": "2023-05-06T18:01:05.602Z"
   },
   {
    "duration": 101,
    "start_time": "2023-05-06T18:01:12.507Z"
   },
   {
    "duration": 25,
    "start_time": "2023-05-06T18:01:17.572Z"
   },
   {
    "duration": 66,
    "start_time": "2023-05-06T18:01:21.401Z"
   },
   {
    "duration": 1442,
    "start_time": "2023-05-07T10:54:00.564Z"
   },
   {
    "duration": 2723,
    "start_time": "2023-05-07T10:54:02.008Z"
   },
   {
    "duration": 110,
    "start_time": "2023-05-07T10:54:04.733Z"
   },
   {
    "duration": 88,
    "start_time": "2023-05-07T10:54:04.846Z"
   },
   {
    "duration": 10,
    "start_time": "2023-05-07T10:54:04.936Z"
   },
   {
    "duration": 4,
    "start_time": "2023-05-07T10:54:04.948Z"
   },
   {
    "duration": 32,
    "start_time": "2023-05-07T10:54:04.953Z"
   },
   {
    "duration": 69,
    "start_time": "2023-05-07T10:54:04.986Z"
   },
   {
    "duration": 14802,
    "start_time": "2023-05-07T10:54:05.056Z"
   },
   {
    "duration": 68,
    "start_time": "2023-05-07T10:54:19.860Z"
   },
   {
    "duration": 143,
    "start_time": "2023-05-07T10:54:19.929Z"
   },
   {
    "duration": 350,
    "start_time": "2023-05-07T10:54:20.073Z"
   },
   {
    "duration": 20,
    "start_time": "2023-05-07T10:54:20.424Z"
   },
   {
    "duration": 15,
    "start_time": "2023-05-07T10:54:20.446Z"
   },
   {
    "duration": 163,
    "start_time": "2023-05-07T10:54:20.462Z"
   },
   {
    "duration": 25,
    "start_time": "2023-05-07T10:54:20.626Z"
   },
   {
    "duration": 72,
    "start_time": "2023-05-07T10:54:20.653Z"
   },
   {
    "duration": 14,
    "start_time": "2023-05-07T10:54:20.726Z"
   },
   {
    "duration": 75,
    "start_time": "2023-05-07T10:54:20.741Z"
   },
   {
    "duration": 366,
    "start_time": "2023-05-07T10:54:20.817Z"
   },
   {
    "duration": 18,
    "start_time": "2023-05-07T10:54:21.185Z"
   },
   {
    "duration": 9404,
    "start_time": "2023-05-07T10:54:21.205Z"
   },
   {
    "duration": 15,
    "start_time": "2023-05-07T10:54:30.611Z"
   },
   {
    "duration": 46,
    "start_time": "2023-05-07T10:54:30.628Z"
   },
   {
    "duration": 49,
    "start_time": "2023-05-07T10:54:30.675Z"
   },
   {
    "duration": 4436,
    "start_time": "2023-05-07T10:54:30.726Z"
   },
   {
    "duration": 168,
    "start_time": "2023-05-07T10:54:35.163Z"
   },
   {
    "duration": 5,
    "start_time": "2023-05-07T10:54:35.335Z"
   },
   {
    "duration": 16,
    "start_time": "2023-05-07T10:54:35.341Z"
   },
   {
    "duration": 40,
    "start_time": "2023-05-07T10:54:35.359Z"
   },
   {
    "duration": 44,
    "start_time": "2023-05-07T10:54:35.400Z"
   },
   {
    "duration": 32,
    "start_time": "2023-05-07T10:54:35.446Z"
   },
   {
    "duration": 15,
    "start_time": "2023-05-07T10:54:35.480Z"
   },
   {
    "duration": 138,
    "start_time": "2023-05-07T10:54:35.496Z"
   },
   {
    "duration": 71,
    "start_time": "2023-05-07T10:54:35.635Z"
   },
   {
    "duration": 45,
    "start_time": "2023-05-07T10:54:35.708Z"
   },
   {
    "duration": 79,
    "start_time": "2023-05-07T10:54:35.754Z"
   },
   {
    "duration": 8,
    "start_time": "2023-05-07T10:54:35.835Z"
   },
   {
    "duration": 917,
    "start_time": "2023-05-07T10:54:35.845Z"
   },
   {
    "duration": 64,
    "start_time": "2023-05-07T10:54:36.763Z"
   },
   {
    "duration": 59,
    "start_time": "2023-05-07T10:54:36.829Z"
   },
   {
    "duration": 12,
    "start_time": "2023-05-07T10:54:36.889Z"
   },
   {
    "duration": 190,
    "start_time": "2023-05-07T10:54:36.903Z"
   },
   {
    "duration": 65,
    "start_time": "2023-05-07T10:54:37.094Z"
   },
   {
    "duration": 27,
    "start_time": "2023-05-07T10:54:37.171Z"
   },
   {
    "duration": 5786,
    "start_time": "2023-05-07T10:54:37.199Z"
   },
   {
    "duration": 58,
    "start_time": "2023-05-07T10:54:42.987Z"
   },
   {
    "duration": 201,
    "start_time": "2023-05-07T10:54:43.047Z"
   },
   {
    "duration": 71,
    "start_time": "2023-05-07T10:54:43.250Z"
   },
   {
    "duration": 8,
    "start_time": "2023-05-07T10:54:43.323Z"
   },
   {
    "duration": 899,
    "start_time": "2023-05-07T10:54:43.333Z"
   },
   {
    "duration": 55,
    "start_time": "2023-05-07T10:54:44.234Z"
   },
   {
    "duration": 9,
    "start_time": "2023-05-07T10:54:44.290Z"
   },
   {
    "duration": 75,
    "start_time": "2023-05-07T10:54:44.300Z"
   },
   {
    "duration": 12,
    "start_time": "2023-05-07T10:54:44.377Z"
   },
   {
    "duration": 27,
    "start_time": "2023-05-07T10:54:44.391Z"
   },
   {
    "duration": 31,
    "start_time": "2023-05-07T10:54:44.419Z"
   },
   {
    "duration": 214,
    "start_time": "2023-05-07T10:54:44.451Z"
   },
   {
    "duration": 6007,
    "start_time": "2023-05-07T10:54:44.666Z"
   },
   {
    "duration": 42,
    "start_time": "2023-05-07T10:54:50.675Z"
   },
   {
    "duration": 9,
    "start_time": "2023-05-07T10:54:50.718Z"
   },
   {
    "duration": 22,
    "start_time": "2023-05-07T10:54:50.729Z"
   },
   {
    "duration": 26,
    "start_time": "2023-05-07T10:54:50.753Z"
   },
   {
    "duration": 4,
    "start_time": "2023-05-07T14:46:41.123Z"
   },
   {
    "duration": 4,
    "start_time": "2023-05-07T16:06:10.608Z"
   },
   {
    "duration": 27847,
    "start_time": "2023-05-07T16:07:14.774Z"
   },
   {
    "duration": 4,
    "start_time": "2023-05-07T16:07:47.802Z"
   },
   {
    "duration": 121069,
    "start_time": "2023-05-07T16:07:48.853Z"
   },
   {
    "duration": 632,
    "start_time": "2023-05-07T16:10:45.703Z"
   },
   {
    "duration": 758,
    "start_time": "2023-05-07T16:11:48.238Z"
   },
   {
    "duration": 10,
    "start_time": "2023-05-07T16:15:06.354Z"
   },
   {
    "duration": 4,
    "start_time": "2023-05-07T16:15:17.966Z"
   },
   {
    "duration": 16,
    "start_time": "2023-05-07T16:15:35.381Z"
   },
   {
    "duration": 532,
    "start_time": "2023-05-07T16:15:56.505Z"
   },
   {
    "duration": 5,
    "start_time": "2023-05-07T16:17:26.083Z"
   },
   {
    "duration": 268945,
    "start_time": "2023-05-07T16:17:28.128Z"
   },
   {
    "duration": 1029,
    "start_time": "2023-05-07T16:50:51.616Z"
   },
   {
    "duration": 3,
    "start_time": "2023-05-07T20:13:54.508Z"
   },
   {
    "duration": 81,
    "start_time": "2023-05-07T20:14:15.083Z"
   },
   {
    "duration": 128,
    "start_time": "2023-05-07T20:14:32.674Z"
   },
   {
    "duration": 87,
    "start_time": "2023-05-07T20:15:47.095Z"
   },
   {
    "duration": 4,
    "start_time": "2023-05-07T20:17:33.407Z"
   },
   {
    "duration": 101,
    "start_time": "2023-05-07T20:17:36.872Z"
   },
   {
    "duration": 107,
    "start_time": "2023-05-07T20:20:53.691Z"
   },
   {
    "duration": 2,
    "start_time": "2023-05-07T21:59:45.794Z"
   },
   {
    "duration": 362,
    "start_time": "2023-05-07T22:03:35.846Z"
   },
   {
    "duration": 4,
    "start_time": "2023-05-07T22:03:38.790Z"
   },
   {
    "duration": 90,
    "start_time": "2023-05-07T22:04:24.064Z"
   },
   {
    "duration": 47,
    "start_time": "2023-05-07T22:04:47.359Z"
   },
   {
    "duration": 36,
    "start_time": "2023-05-07T22:04:59.143Z"
   },
   {
    "duration": 8,
    "start_time": "2023-05-07T22:05:04.398Z"
   },
   {
    "duration": 2026661,
    "start_time": "2023-05-07T22:05:06.940Z"
   },
   {
    "duration": 172,
    "start_time": "2023-05-07T22:52:15.325Z"
   },
   {
    "duration": 105,
    "start_time": "2023-05-07T22:52:27.511Z"
   },
   {
    "duration": 831,
    "start_time": "2023-05-07T22:53:03.099Z"
   },
   {
    "duration": 741,
    "start_time": "2023-05-07T22:53:36.648Z"
   },
   {
    "duration": 20,
    "start_time": "2023-05-07T22:54:35.339Z"
   },
   {
    "duration": 15,
    "start_time": "2023-05-08T00:09:02.163Z"
   },
   {
    "duration": 9,
    "start_time": "2023-05-08T00:09:07.954Z"
   },
   {
    "duration": 274,
    "start_time": "2023-05-08T00:11:08.791Z"
   },
   {
    "duration": 15139,
    "start_time": "2023-05-08T00:11:25.344Z"
   },
   {
    "duration": 152,
    "start_time": "2023-05-08T00:12:20.218Z"
   },
   {
    "duration": 8,
    "start_time": "2023-05-08T00:13:48.182Z"
   },
   {
    "duration": 116,
    "start_time": "2023-05-08T00:13:59.468Z"
   },
   {
    "duration": 17,
    "start_time": "2023-05-08T00:14:32.974Z"
   },
   {
    "duration": 186,
    "start_time": "2023-05-08T00:14:55.165Z"
   },
   {
    "duration": 95,
    "start_time": "2023-05-08T00:15:54.639Z"
   },
   {
    "duration": 161,
    "start_time": "2023-05-08T00:16:07.377Z"
   },
   {
    "duration": 3,
    "start_time": "2023-05-08T00:18:15.412Z"
   },
   {
    "duration": 4,
    "start_time": "2023-05-08T00:20:09.693Z"
   },
   {
    "duration": 376,
    "start_time": "2023-05-08T00:21:52.912Z"
   },
   {
    "duration": 227,
    "start_time": "2023-05-08T00:22:26.842Z"
   },
   {
    "duration": 32,
    "start_time": "2023-05-08T00:23:02.467Z"
   },
   {
    "duration": 82,
    "start_time": "2023-05-08T00:23:55.896Z"
   },
   {
    "duration": 44,
    "start_time": "2023-05-08T00:24:26.856Z"
   },
   {
    "duration": 14602,
    "start_time": "2023-05-08T00:24:47.076Z"
   },
   {
    "duration": 3,
    "start_time": "2023-05-08T00:25:07.028Z"
   },
   {
    "duration": 167,
    "start_time": "2023-05-08T00:25:32.311Z"
   },
   {
    "duration": 4,
    "start_time": "2023-05-08T00:25:50.603Z"
   },
   {
    "duration": 1663,
    "start_time": "2023-05-08T17:45:53.914Z"
   },
   {
    "duration": 2931,
    "start_time": "2023-05-08T17:45:55.579Z"
   },
   {
    "duration": 117,
    "start_time": "2023-05-08T17:45:58.512Z"
   },
   {
    "duration": 119,
    "start_time": "2023-05-08T17:45:58.642Z"
   },
   {
    "duration": 15,
    "start_time": "2023-05-08T17:45:58.763Z"
   },
   {
    "duration": 22,
    "start_time": "2023-05-08T17:45:58.780Z"
   },
   {
    "duration": 40,
    "start_time": "2023-05-08T17:45:58.804Z"
   },
   {
    "duration": 88,
    "start_time": "2023-05-08T17:45:58.845Z"
   },
   {
    "duration": 21070,
    "start_time": "2023-05-08T17:45:58.935Z"
   },
   {
    "duration": 76,
    "start_time": "2023-05-08T17:46:20.008Z"
   },
   {
    "duration": 192,
    "start_time": "2023-05-08T17:46:20.085Z"
   },
   {
    "duration": 468,
    "start_time": "2023-05-08T17:46:20.278Z"
   },
   {
    "duration": 23,
    "start_time": "2023-05-08T17:46:20.748Z"
   },
   {
    "duration": 21,
    "start_time": "2023-05-08T17:46:20.773Z"
   },
   {
    "duration": 231,
    "start_time": "2023-05-08T17:46:20.796Z"
   },
   {
    "duration": 39,
    "start_time": "2023-05-08T17:46:21.029Z"
   },
   {
    "duration": 82,
    "start_time": "2023-05-08T17:46:21.070Z"
   },
   {
    "duration": 16,
    "start_time": "2023-05-08T17:46:21.154Z"
   },
   {
    "duration": 97,
    "start_time": "2023-05-08T17:46:21.172Z"
   },
   {
    "duration": 485,
    "start_time": "2023-05-08T17:46:21.271Z"
   },
   {
    "duration": 22,
    "start_time": "2023-05-08T17:46:21.758Z"
   },
   {
    "duration": 12829,
    "start_time": "2023-05-08T17:46:21.781Z"
   },
   {
    "duration": 12,
    "start_time": "2023-05-08T17:46:34.612Z"
   },
   {
    "duration": 40,
    "start_time": "2023-05-08T17:46:34.626Z"
   },
   {
    "duration": 26,
    "start_time": "2023-05-08T17:46:34.668Z"
   },
   {
    "duration": 5976,
    "start_time": "2023-05-08T17:46:34.696Z"
   },
   {
    "duration": 219,
    "start_time": "2023-05-08T17:46:40.673Z"
   },
   {
    "duration": 5,
    "start_time": "2023-05-08T17:46:40.897Z"
   },
   {
    "duration": 12,
    "start_time": "2023-05-08T17:46:40.904Z"
   },
   {
    "duration": 54,
    "start_time": "2023-05-08T17:46:40.918Z"
   },
   {
    "duration": 77,
    "start_time": "2023-05-08T17:46:40.974Z"
   },
   {
    "duration": 42,
    "start_time": "2023-05-08T17:46:41.053Z"
   },
   {
    "duration": 20,
    "start_time": "2023-05-08T17:46:41.097Z"
   },
   {
    "duration": 188,
    "start_time": "2023-05-08T17:46:41.119Z"
   },
   {
    "duration": 77,
    "start_time": "2023-05-08T17:46:41.310Z"
   },
   {
    "duration": 28,
    "start_time": "2023-05-08T17:46:41.389Z"
   },
   {
    "duration": 90,
    "start_time": "2023-05-08T17:46:41.419Z"
   },
   {
    "duration": 9,
    "start_time": "2023-05-08T17:46:41.511Z"
   },
   {
    "duration": 996,
    "start_time": "2023-05-08T17:46:41.522Z"
   },
   {
    "duration": 65,
    "start_time": "2023-05-08T17:46:42.520Z"
   },
   {
    "duration": 64,
    "start_time": "2023-05-08T17:46:42.587Z"
   },
   {
    "duration": 13,
    "start_time": "2023-05-08T17:46:42.653Z"
   },
   {
    "duration": 235,
    "start_time": "2023-05-08T17:46:42.668Z"
   },
   {
    "duration": 96,
    "start_time": "2023-05-08T17:46:42.906Z"
   },
   {
    "duration": 37,
    "start_time": "2023-05-08T17:46:43.004Z"
   },
   {
    "duration": 6472,
    "start_time": "2023-05-08T17:46:43.043Z"
   },
   {
    "duration": 60,
    "start_time": "2023-05-08T17:46:49.517Z"
   },
   {
    "duration": 247,
    "start_time": "2023-05-08T17:46:49.579Z"
   },
   {
    "duration": 79,
    "start_time": "2023-05-08T17:46:49.828Z"
   },
   {
    "duration": 10,
    "start_time": "2023-05-08T17:46:49.909Z"
   },
   {
    "duration": 1043,
    "start_time": "2023-05-08T17:46:49.920Z"
   },
   {
    "duration": 59,
    "start_time": "2023-05-08T17:46:50.965Z"
   },
   {
    "duration": 31,
    "start_time": "2023-05-08T17:46:51.026Z"
   },
   {
    "duration": 83,
    "start_time": "2023-05-08T17:46:51.059Z"
   },
   {
    "duration": 16,
    "start_time": "2023-05-08T17:46:51.144Z"
   },
   {
    "duration": 39,
    "start_time": "2023-05-08T17:46:51.162Z"
   },
   {
    "duration": 70,
    "start_time": "2023-05-08T17:46:51.203Z"
   },
   {
    "duration": 266,
    "start_time": "2023-05-08T17:46:51.275Z"
   },
   {
    "duration": 7612,
    "start_time": "2023-05-08T17:46:51.542Z"
   },
   {
    "duration": 70,
    "start_time": "2023-05-08T17:46:59.156Z"
   },
   {
    "duration": 17,
    "start_time": "2023-05-08T17:46:59.228Z"
   },
   {
    "duration": 42,
    "start_time": "2023-05-08T17:46:59.247Z"
   },
   {
    "duration": 14,
    "start_time": "2023-05-08T17:46:59.291Z"
   },
   {
    "duration": 11,
    "start_time": "2023-05-08T17:46:59.306Z"
   },
   {
    "duration": 10,
    "start_time": "2023-05-08T17:46:59.319Z"
   },
   {
    "duration": 292799,
    "start_time": "2023-05-08T17:46:59.331Z"
   },
   {
    "duration": 1563,
    "start_time": "2023-05-08T17:51:52.131Z"
   },
   {
    "duration": 3,
    "start_time": "2023-05-08T18:26:18.968Z"
   },
   {
    "duration": 95,
    "start_time": "2023-05-08T18:26:19.748Z"
   },
   {
    "duration": 37,
    "start_time": "2023-05-08T18:26:20.223Z"
   },
   {
    "duration": 35,
    "start_time": "2023-05-08T18:26:20.808Z"
   },
   {
    "duration": 4,
    "start_time": "2023-05-08T18:26:23.922Z"
   },
   {
    "duration": 608847,
    "start_time": "2023-05-08T18:26:29.018Z"
   },
   {
    "duration": 724,
    "start_time": "2023-05-08T19:11:10.142Z"
   },
   {
    "duration": 914,
    "start_time": "2023-05-08T19:11:19.852Z"
   },
   {
    "duration": 398,
    "start_time": "2023-05-08T19:11:20.770Z"
   },
   {
    "duration": 53,
    "start_time": "2023-05-08T19:11:21.336Z"
   },
   {
    "duration": 115,
    "start_time": "2023-05-08T19:11:22.233Z"
   },
   {
    "duration": 69,
    "start_time": "2023-05-08T19:11:23.442Z"
   },
   {
    "duration": 4,
    "start_time": "2023-05-08T19:11:23.999Z"
   },
   {
    "duration": 47753,
    "start_time": "2023-05-08T19:11:25.697Z"
   },
   {
    "duration": 1254,
    "start_time": "2023-05-08T19:44:42.823Z"
   },
   {
    "duration": 5,
    "start_time": "2023-05-08T19:47:36.487Z"
   },
   {
    "duration": 6,
    "start_time": "2023-05-08T19:47:47.183Z"
   },
   {
    "duration": 174,
    "start_time": "2023-05-08T19:50:05.390Z"
   },
   {
    "duration": 173,
    "start_time": "2023-05-08T20:15:42.764Z"
   },
   {
    "duration": 166,
    "start_time": "2023-05-08T20:15:48.049Z"
   },
   {
    "duration": 107,
    "start_time": "2023-05-08T20:17:42.382Z"
   },
   {
    "duration": 235,
    "start_time": "2023-05-08T20:18:02.812Z"
   },
   {
    "duration": 6,
    "start_time": "2023-05-08T20:18:03.825Z"
   },
   {
    "duration": 842,
    "start_time": "2023-05-08T20:34:08.612Z"
   },
   {
    "duration": 365,
    "start_time": "2023-05-08T20:34:10.383Z"
   },
   {
    "duration": 50,
    "start_time": "2023-05-08T20:34:11.180Z"
   },
   {
    "duration": 101,
    "start_time": "2023-05-08T20:34:11.930Z"
   },
   {
    "duration": 67,
    "start_time": "2023-05-08T20:34:12.729Z"
   },
   {
    "duration": 6,
    "start_time": "2023-05-08T20:34:13.459Z"
   },
   {
    "duration": 16329,
    "start_time": "2023-05-08T20:34:16.721Z"
   },
   {
    "duration": 199,
    "start_time": "2023-05-08T20:34:37.748Z"
   },
   {
    "duration": 4,
    "start_time": "2023-05-08T20:34:40.341Z"
   },
   {
    "duration": 89,
    "start_time": "2023-05-08T20:47:06.247Z"
   }
  ],
  "kernelspec": {
   "display_name": "Python 3 (ipykernel)",
   "language": "python",
   "name": "python3"
  },
  "language_info": {
   "codemirror_mode": {
    "name": "ipython",
    "version": 3
   },
   "file_extension": ".py",
   "mimetype": "text/x-python",
   "name": "python",
   "nbconvert_exporter": "python",
   "pygments_lexer": "ipython3",
   "version": "3.9.13"
  },
  "toc": {
   "base_numbering": 1,
   "nav_menu": {},
   "number_sections": true,
   "sideBar": true,
   "skip_h1_title": true,
   "title_cell": "Table of Contents",
   "title_sidebar": "Contents",
   "toc_cell": false,
   "toc_position": {},
   "toc_section_display": true,
   "toc_window_display": false
  }
 },
 "nbformat": 4,
 "nbformat_minor": 2
}
